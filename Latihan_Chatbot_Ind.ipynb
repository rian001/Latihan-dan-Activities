{
  "nbformat": 4,
  "nbformat_minor": 0,
  "metadata": {
    "colab": {
      "name": "Latihan_Chatbot_Ind.ipynb",
      "provenance": [],
      "collapsed_sections": []
    },
    "kernelspec": {
      "name": "python3",
      "display_name": "Python 3"
    },
    "language_info": {
      "name": "python"
    }
  },
  "cells": [
    {
      "cell_type": "code",
      "metadata": {
        "colab": {
          "base_uri": "https://localhost:8080/"
        },
        "id": "n42QJWwd8h36",
        "outputId": "e596c6c5-128c-4623-98ab-1013b604a6ba"
      },
      "source": [
        "!pip install nltk\n",
        "!pip install newspaper3k"
      ],
      "execution_count": 1,
      "outputs": [
        {
          "output_type": "stream",
          "name": "stdout",
          "text": [
            "Requirement already satisfied: nltk in /usr/local/lib/python3.7/dist-packages (3.2.5)\n",
            "Requirement already satisfied: six in /usr/local/lib/python3.7/dist-packages (from nltk) (1.15.0)\n",
            "Requirement already satisfied: newspaper3k in /usr/local/lib/python3.7/dist-packages (0.2.8)\n",
            "Requirement already satisfied: jieba3k>=0.35.1 in /usr/local/lib/python3.7/dist-packages (from newspaper3k) (0.35.1)\n",
            "Requirement already satisfied: cssselect>=0.9.2 in /usr/local/lib/python3.7/dist-packages (from newspaper3k) (1.1.0)\n",
            "Requirement already satisfied: beautifulsoup4>=4.4.1 in /usr/local/lib/python3.7/dist-packages (from newspaper3k) (4.6.3)\n",
            "Requirement already satisfied: feedparser>=5.2.1 in /usr/local/lib/python3.7/dist-packages (from newspaper3k) (6.0.8)\n",
            "Requirement already satisfied: python-dateutil>=2.5.3 in /usr/local/lib/python3.7/dist-packages (from newspaper3k) (2.8.2)\n",
            "Requirement already satisfied: feedfinder2>=0.0.4 in /usr/local/lib/python3.7/dist-packages (from newspaper3k) (0.0.4)\n",
            "Requirement already satisfied: tldextract>=2.0.1 in /usr/local/lib/python3.7/dist-packages (from newspaper3k) (3.1.2)\n",
            "Requirement already satisfied: tinysegmenter==0.3 in /usr/local/lib/python3.7/dist-packages (from newspaper3k) (0.3)\n",
            "Requirement already satisfied: PyYAML>=3.11 in /usr/local/lib/python3.7/dist-packages (from newspaper3k) (3.13)\n",
            "Requirement already satisfied: lxml>=3.6.0 in /usr/local/lib/python3.7/dist-packages (from newspaper3k) (4.2.6)\n",
            "Requirement already satisfied: requests>=2.10.0 in /usr/local/lib/python3.7/dist-packages (from newspaper3k) (2.23.0)\n",
            "Requirement already satisfied: nltk>=3.2.1 in /usr/local/lib/python3.7/dist-packages (from newspaper3k) (3.2.5)\n",
            "Requirement already satisfied: Pillow>=3.3.0 in /usr/local/lib/python3.7/dist-packages (from newspaper3k) (7.1.2)\n",
            "Requirement already satisfied: six in /usr/local/lib/python3.7/dist-packages (from feedfinder2>=0.0.4->newspaper3k) (1.15.0)\n",
            "Requirement already satisfied: sgmllib3k in /usr/local/lib/python3.7/dist-packages (from feedparser>=5.2.1->newspaper3k) (1.0.0)\n",
            "Requirement already satisfied: certifi>=2017.4.17 in /usr/local/lib/python3.7/dist-packages (from requests>=2.10.0->newspaper3k) (2021.5.30)\n",
            "Requirement already satisfied: urllib3!=1.25.0,!=1.25.1,<1.26,>=1.21.1 in /usr/local/lib/python3.7/dist-packages (from requests>=2.10.0->newspaper3k) (1.24.3)\n",
            "Requirement already satisfied: idna<3,>=2.5 in /usr/local/lib/python3.7/dist-packages (from requests>=2.10.0->newspaper3k) (2.10)\n",
            "Requirement already satisfied: chardet<4,>=3.0.2 in /usr/local/lib/python3.7/dist-packages (from requests>=2.10.0->newspaper3k) (3.0.4)\n",
            "Requirement already satisfied: filelock>=3.0.8 in /usr/local/lib/python3.7/dist-packages (from tldextract>=2.0.1->newspaper3k) (3.3.0)\n",
            "Requirement already satisfied: requests-file>=1.4 in /usr/local/lib/python3.7/dist-packages (from tldextract>=2.0.1->newspaper3k) (1.5.1)\n"
          ]
        }
      ]
    },
    {
      "cell_type": "code",
      "metadata": {
        "id": "H0tCPcpr9VXO"
      },
      "source": [
        "# Import library\n",
        "from newspaper import Article\n",
        "import random\n",
        "import nltk\n",
        "import string\n",
        "from sklearn.feature_extraction.text import CountVectorizer\n",
        "from sklearn.metrics.pairwise import cosine_similarity\n",
        "import numpy as np\n",
        "import warnings\n",
        "warnings.filterwarnings('ignore')"
      ],
      "execution_count": 2,
      "outputs": []
    },
    {
      "cell_type": "code",
      "metadata": {
        "colab": {
          "base_uri": "https://localhost:8080/"
        },
        "id": "laTZPacp9jXN",
        "outputId": "b3e9ec9e-fafc-41f1-c67d-89ca725b606b"
      },
      "source": [
        "nltk.download('punkt', quiet = True)"
      ],
      "execution_count": 3,
      "outputs": [
        {
          "output_type": "execute_result",
          "data": {
            "text/plain": [
              "True"
            ]
          },
          "metadata": {},
          "execution_count": 3
        }
      ]
    },
    {
      "cell_type": "markdown",
      "metadata": {
        "id": "6hzGvHjl9zj5"
      },
      "source": [
        "## Proses 1 (Membuat korpus dengan mendownload artikel dari link)\n",
        "Link : https://warstek.com/kertas-stone/"
      ]
    },
    {
      "cell_type": "code",
      "metadata": {
        "id": "4YYIcBTVf3tn"
      },
      "source": [
        "url_1 = 'https://gamezero.id/5-fakta-ilmu-sains-dari-dr-stone/'\n",
        "url_2 = 'https://warstek.com/kertas-stone/'\n",
        "url_3 = 'https://www.kompasiana.com/daniram/60f624961525102f527388a3/dr-stone-chapter-205-sai-manusia-dengan-kemapuan-otak-setara-satu-juta-orang'"
      ],
      "execution_count": 4,
      "outputs": []
    },
    {
      "cell_type": "code",
      "metadata": {
        "colab": {
          "base_uri": "https://localhost:8080/"
        },
        "id": "ozkxtMap9BVG",
        "outputId": "71985919-8d84-4b4c-b57d-e760252f9c5f"
      },
      "source": [
        "article = Article(url_1)\n",
        "article.download()\n",
        "article.parse()\n",
        "article.nlp()\n",
        "corpus_1 = article.text\n",
        "\n",
        "article = Article(url_2)\n",
        "article.download()\n",
        "article.parse()\n",
        "article.nlp()\n",
        "corpus_2 = article.text\n",
        "\n",
        "article = Article(url_3)\n",
        "article.download()\n",
        "article.parse()\n",
        "article.nlp()\n",
        "corpus_3 = article.text\n",
        "\n",
        "corpus = corpus_1, corpus_2, corpus_3\n",
        "print(corpus)"
      ],
      "execution_count": 5,
      "outputs": [
        {
          "output_type": "stream",
          "name": "stdout",
          "text": [
            "('Apakah kalian ada mempelajari ilmu sains disekolah?\\n\\nApakah kalian tahu perbedaan antara asam amino dan enzim? Atau apakah kalian pernah mencoba berjuang membakar kayu menggunakan kedua batu?\\n\\nSerial anime ini menceritakan kisah ilmuwan Senku Ishigami yang berubah menjadi batu ketika seluruh umat manusia membatu setelah peristiwa misterius.\\n\\nSekitar 3700 tahun kemudian, ia bangun dan memutuskan untuk membangun kembali peradaban menggunakan sains dengan bantuan segelintir karakter lain yang berhasil dihidupkannya kembali. Jadi bagaimana menurut kalian? apakah penggunaan ilmu sains di anime Dr Stone akan sama seperti Ilmu Sains yang seharusnya di terapkan di bumi? mari kita simak artikel berikut!\\n\\nSenku membuat sabun\\n\\nDalam episode kedua, Senku menghancurkan beberapa kerang untuk mendapatkan kalsium karbonat untuk membuat sabun. Ini adalah komoditas penting karena tidak ada desinfektan di planet ini dan sabun adalah hal terbaik dalam hal kebersihan dan menangkal penyakit.\\n\\nMembuat Coca-cola\\n\\nSetelah menemukan Desa Ishigami, Senku menyadari bahwa dia harus memenangkan mereka, jadi dia menciptakan makanan Ramen dan minuman Cola. Dia menggunakan madu, air berkarbonasi, jeruk nipis dan daun ketumbar untuk membuat minuman ini.\\n\\nMembuat kacamata\\n\\nKetika Senku bertemu Suika di Desa Ishigami, ia membantu meningkatkan penglihatannya menggunakan efek dari lensa. Dia membuat dua lubang di helm yang terbuat dari semangka dan membuat lensa dengan mengubah pasir kuarsa menjadi kaca.\\n\\nMembuat arang\\n\\nSenku membuat arang dengan membakar kayu dan menggunakannya sebagai bahan untuk mesiu.\\n\\nMembuat Telepon\\n\\nMembuat perangkat komunikasi modern di Zaman Batu bukanlah hal yang mudah, tetapi Senku menemukan tungsten, logam paling tahan panas di alam semesta. Dia mengubahnya menjadi bubuk, menciptakan pasta gigi tungsten dan memanaskannya untuk membentuk filamen. Plastik dibuat dari kayu, tembaga dan abu batubara, ditambah lagi dengan natrium hidroksida. Akhirnya, suara-suara ditransmisikan menggunakan mikrofon dan telepon rumahpun terhubung ke speaker.', 'Kertas yang kita kenal sehari-hari merupakan suatu lembaran yang memiliki sifat ringan, lunak, halus, mudah dibentuk, mudah terbakar, dan mudah sobek. Namun, tahukah Anda jika kertas dapat berubah menjadi sesuatu yang kuat bahkan dapat dijadikan sebuah perisai dalam sebuah pertarungan?\\n\\nGambar 1: Pertarungan Taiju melawan pasukan Tsukasa dengan menggunakan kertas ajaib sebagai perisai (Sumber: duniagames.co.id)\\n\\nSecara logika, rasanya memang tidak mungkin sebuah lembaran yang lunak dan mudah sobek seperti kertas dapat menjadi sesuatu kuat bak besi atau beton. Namun logika tersebut terbantahkan berdasarkan percobaan yang dilakukan oleh Senku Ishigami (tokoh dalam anime Dr. Stone) yang membuat perisai kertas untuk pelapis kereta uap dengan menggunakan prinsip ilmu kimia dalam proses pembuatannya.\\n\\nBerawal dari usaha kerajaan sains (yang dipimpin oleh Senku) ingin menyelamatkan Chrome dari pasukan Tsukasa, maka untuk menghindari perlawanan musuh dan menghindari adanya pertumpahan darah, Senku berinisiatif untuk menambah kekuatan alutsistanya yaitu steam gorila (kereta uap) dengan dilapisi perisai yang memiliki kekuatan seperti besi.\\n\\nLangkah pertama, Senku membuat kertas ajaib tersebut dari rumput dengan proses perebusan. Langkah kedua, Senku menambahkan sodium hidroksida (NaOH) untuk melunakkan rumput tersebut. Langkah ketiga, rumput yang telah direbus dengan NaOH akan menjadi lengket lalu kemudian angkat dan rumput tersebut dibersihkan dengan air bersih. Langkah keempat, Senku menghaluskan rumput dengan cara ditumbuk. Langkah kelima, Senku mengeringkan dan membentuk rumput tersebut seperti kertas dan berfungsi sebagai perisai untuk pasukannya. Langkah terakhir, Senku menambahkan resin alami yang dapat memberikan efek penguat dan pengeras yang sangat baik.\\n\\nGambar 2: Senku melapisi kertas ajaibnya dengan resin alami dengan menggunakan lilin lebah cair (Sumber: benigmatica.wordpress.com)\\n\\nPenggabungan fleksibilitas kertas dan kerasnya sifat plastik yang berasal dari resin akan menciptakan serat karbon. Dan pembuatan kertas ajaib ini dapat dicoba di rumah karena alat dan bahan yang digunakan sangat sederhana dan juga sebagai ajang pembuktian jika Anda masih ragu dalam kekuatan kertas ajaib tersebut.\\n\\nGambar 3: Kinro teman Senku sedang mengetes kekuatan kertas ajaib yang telah dibuat (benigmatica.wordpress.com)\\n\\nHasilnya tombak Kinro yang hancur, sementara kertas ajaibnya hanya penyok saja dan berhasil menjadi perisai dari serangan tombak yang sangat cepat dan keras.\\n\\nGambar 4: Tombak Kinro hancur setelah menghantam kertas ajaib Senku (Sumber: benigmatica.wordpress.com)\\n\\nPercobaan Senku ternyata bukan imajinasi belaka. Hakikatnya, konsep kimia (yaitu serat karbon) yang dilakukan Senku sudah diterapkan di dunia otomotif, roket, dan moda transportasi.\\n\\nMenurut Dinur (2019) menyatakan penggunaan material seperti serat karbon mulai banyak digunakan dalam dunia industri karena memiliki karakteristik yang mampu memenuhi tuntutan teknologi seperti ringan, tahan terhadap temperatur tinggi, dan tahan fatik (rusak).\\n\\nSelain itu, serat karbon juga memiliki ketahanan terhadap korosi, 70% lebih ringan dari baja dan 40% dari aluminium, dan memperkuat struktur benda yang dilapisi serat tersebut.\\n\\nKesimpulannya, dari anime Dr. Stone yang menampilkan percobaan mengenai pembuatan serat karbon dalam bentuk kertas ajaib (digunakan sebagai perisai ketahanan dan penambah kekuatan) memberikan wawasan kepada kita agar bisa memanfaatkan sumber daya yang ada disekitar untuk dijadikan sesuatu yang memiliki nilai guna. Selain itu, juga mengajarkan kita untuk dapat berekreasi dan produktif di manapun dan kapanpun kita berada.\\n\\nReferensi :\\n\\nDinur, R. (2019). Proses Pembuatan Komposit Sandwich Serat Karbon Menggunakan Metode Vacuum Infusion. Tugas Akhir. Yogyakarta: Universitas Islam Indonesia.\\n\\nHidayah, R. (2021). Nonton Dr. Stone Season 2 Episode 5: Perisai Besi Untuk Kereta Uap. Indonesia. Diakses pada tanggal 23 September 2021 <https://duniagames.co.id/discover/article/nonton-dr-stone-season-2-episode-5>\\n\\nTasuns Composite Technology. (2018). Manfaat Serat Karbon. China. Diakses pada tanggal 23 September 2021 <http://m.id.t-composites.net/info/the-benefits-of-carbon-fiber-31250972.html>\\n\\nSetelah selesai membaca, yuk berikan artikel ini penilaian! Klik berdasarkan jumlah bintang untuk menilai!\\n\\n\\n\\n\\n\\n\\n\\nBerikan penilaian Rata-rata nilai 4 / 5. Banyaknya vote: 1 Belum ada yang menilai! Yuk jadi yang pertama kali menilai! Baca juga:\\n\\n\\n\\nBagikan ini: Cetak\\n\\nWhatsApp\\n\\nFacebook\\n\\nTwitter\\n\\nTelegram\\n\\n', 'Dr. Stone merupakan salah satu anime yang unik. Bagaimana tidak, jika dalam anime lain menawarkan cerita kekuatan super, Dr. Stone sendiri menawarkan jalan cerita berlatar sains.\\n\\nSecara tidak langsung, kita akan belajar sains begitu kompleks dalam anime ini. Bagi yang baru menemukan artikel ini, terlebih dahulu saya akan membahas alur cerita Dr Stone.\\n\\nDunia secara tiba-tiba berubah menjadi batu, semua hewan dan manusia berubah menjadi batu. Tidak ada yang tahu penyebab pembatuan tersebut, yang jelas manusia membatu selama 3700 tahun.\\n\\nSalah satu anak muda jenius penggila sains bernama Senku secara mengejutkan berhasil bertahan dan selamat. Senku kemudian mencari cara untuk menghidupkan kembali orang-orang dengan cairan asam nitrat.\\n\\nPerlahan Senku mulai membangun kembali peradaban. Senku membuat peradaban maju dan lebih cepat dengan penciptaan ajaibnya. Konflik dimulai ketika Senku menghidupkan Tsukasa.\\n\\nTsukasa sendiri menginginkan dunia secara alami, tanpa adanya manusia perusak yang rakus. Bagi Tsukasa sendiri menghidupkan orang harus orang-orang muda yang baik, jangan orang yang memiliki sifat rakus.\\n\\nHal itu bertentangan dengan Senku yang berniat menghidupkan semua oranh. Akhirnya kubu terbelah antara kubu sains dan kubu Tsukasa. Singkat cerita, Senku berhasil mengalahkan Tsukasa dan bertekad untuk membangun peradaban kembali.\\n\\nUntuk animenya sendiri sudah berakhir di season 2, tetapi untuk manga masih terus berlanjut. Kelanjutan anime sendiri akan berlanjut pada season tiga, meskipun jadwal resminya belum pasti.\\n\\nNah lanjutan season dua kemarin adalah Senku berusaha menemukan asal muasal mengapa bumi membatu. Senku kemudian berinisiatif untuk pergi ke Amazon dengan menciptakan kapal.\\n\\nKarena menurut informasi yang dia dapat, asal muasal pembatuan adalah di sana. Senku kemudian membuat satu kapal layar yang besar. Nah, tentunya untuk memenuhi itu semua, Senku akhirnya menghidupkan seorang kapten kapal hebat bernama Ryusui Nanami.\\n\\nLihat Hiburan Selengkapnya\\n\\nBeri Komentar Berkomentarlah secara bijaksana dan bertanggung jawab. Komentar sepenuhnya menjadi tanggung jawab komentator seperti diatur dalam UU ITE KIRIM Belum ada komentar. Jadilah yang pertama untuk memberikan komentar! Lihat Semua Komentar (1)')\n"
          ]
        }
      ]
    },
    {
      "cell_type": "markdown",
      "metadata": {
        "id": "LLW30ehi-yze"
      },
      "source": [
        "## Proses 2 (Tokenization)"
      ]
    },
    {
      "cell_type": "code",
      "metadata": {
        "colab": {
          "base_uri": "https://localhost:8080/"
        },
        "id": "dhe6tA9D-74_",
        "outputId": "ace608f9-1305-4e18-d05a-2795c3b77d2a"
      },
      "source": [
        "import re\n",
        "# Tokenization\n",
        "text = str(corpus)\n",
        "text = re.sub(r'\\\\[\\\\n]', ' ', text)\n",
        "text = re.sub(r'[-()\\\\/\\'/\"#/@;:<>{}`+=~$|]', '', text)\n",
        "sentence_list = nltk.sent_tokenize(text) # A list of sentences\n",
        "\n",
        "# Cetak list sentences\n",
        "print(sentence_list)"
      ],
      "execution_count": 6,
      "outputs": [
        {
          "output_type": "stream",
          "name": "stdout",
          "text": [
            "['Apakah kalian ada mempelajari ilmu sains disekolah?', 'Apakah kalian tahu perbedaan antara asam amino dan enzim?', 'Atau apakah kalian pernah mencoba berjuang membakar kayu menggunakan kedua batu?', 'Serial anime ini menceritakan kisah ilmuwan Senku Ishigami yang berubah menjadi batu ketika seluruh umat manusia membatu setelah peristiwa misterius.', 'Sekitar 3700 tahun kemudian, ia bangun dan memutuskan untuk membangun kembali peradaban menggunakan sains dengan bantuan segelintir karakter lain yang berhasil dihidupkannya kembali.', 'Jadi bagaimana menurut kalian?', 'apakah penggunaan ilmu sains di anime Dr Stone akan sama seperti Ilmu Sains yang seharusnya di terapkan di bumi?', 'mari kita simak artikel berikut!', 'Senku membuat sabun  Dalam episode kedua, Senku menghancurkan beberapa kerang untuk mendapatkan kalsium karbonat untuk membuat sabun.', 'Ini adalah komoditas penting karena tidak ada desinfektan di planet ini dan sabun adalah hal terbaik dalam hal kebersihan dan menangkal penyakit.', 'Membuat Cocacola  Setelah menemukan Desa Ishigami, Senku menyadari bahwa dia harus memenangkan mereka, jadi dia menciptakan makanan Ramen dan minuman Cola.', 'Dia menggunakan madu, air berkarbonasi, jeruk nipis dan daun ketumbar untuk membuat minuman ini.', 'Membuat kacamata  Ketika Senku bertemu Suika di Desa Ishigami, ia membantu meningkatkan penglihatannya menggunakan efek dari lensa.', 'Dia membuat dua lubang di helm yang terbuat dari semangka dan membuat lensa dengan mengubah pasir kuarsa menjadi kaca.', 'Membuat arang  Senku membuat arang dengan membakar kayu dan menggunakannya sebagai bahan untuk mesiu.', 'Membuat Telepon  Membuat perangkat komunikasi modern di Zaman Batu bukanlah hal yang mudah, tetapi Senku menemukan tungsten, logam paling tahan panas di alam semesta.', 'Dia mengubahnya menjadi bubuk, menciptakan pasta gigi tungsten dan memanaskannya untuk membentuk filamen.', 'Plastik dibuat dari kayu, tembaga dan abu batubara, ditambah lagi dengan natrium hidroksida.', 'Akhirnya, suarasuara ditransmisikan menggunakan mikrofon dan telepon rumahpun terhubung ke speaker., Kertas yang kita kenal seharihari merupakan suatu lembaran yang memiliki sifat ringan, lunak, halus, mudah dibentuk, mudah terbakar, dan mudah sobek.', 'Namun, tahukah Anda jika kertas dapat berubah menjadi sesuatu yang kuat bahkan dapat dijadikan sebuah perisai dalam sebuah pertarungan?', 'Gambar 1 Pertarungan Taiju melawan pasukan Tsukasa dengan menggunakan kertas ajaib sebagai perisai Sumber duniagames.co.id  Secara logika, rasanya memang tidak mungkin sebuah lembaran yang lunak dan mudah sobek seperti kertas dapat menjadi sesuatu kuat bak besi atau beton.', 'Namun logika tersebut terbantahkan berdasarkan percobaan yang dilakukan oleh Senku Ishigami tokoh dalam anime Dr. Stone yang membuat perisai kertas untuk pelapis kereta uap dengan menggunakan prinsip ilmu kimia dalam proses pembuatannya.', 'Berawal dari usaha kerajaan sains yang dipimpin oleh Senku ingin menyelamatkan Chrome dari pasukan Tsukasa, maka untuk menghindari perlawanan musuh dan menghindari adanya pertumpahan darah, Senku berinisiatif untuk menambah kekuatan alutsistanya yaitu steam gorila kereta uap dengan dilapisi perisai yang memiliki kekuatan seperti besi.', 'Langkah pertama, Senku membuat kertas ajaib tersebut dari rumput dengan proses perebusan.', 'Langkah kedua, Senku menambahkan sodium hidroksida NaOH untuk melunakkan rumput tersebut.', 'Langkah ketiga, rumput yang telah direbus dengan NaOH akan menjadi lengket lalu kemudian angkat dan rumput tersebut dibersihkan dengan air bersih.', 'Langkah keempat, Senku menghaluskan rumput dengan cara ditumbuk.', 'Langkah kelima, Senku mengeringkan dan membentuk rumput tersebut seperti kertas dan berfungsi sebagai perisai untuk pasukannya.', 'Langkah terakhir, Senku menambahkan resin alami yang dapat memberikan efek penguat dan pengeras yang sangat baik.', 'Gambar 2 Senku melapisi kertas ajaibnya dengan resin alami dengan menggunakan lilin lebah cair Sumber benigmatica.wordpress.com  Penggabungan fleksibilitas kertas dan kerasnya sifat plastik yang berasal dari resin akan menciptakan serat karbon.', 'Dan pembuatan kertas ajaib ini dapat dicoba di rumah karena alat dan bahan yang digunakan sangat sederhana dan juga sebagai ajang pembuktian jika Anda masih ragu dalam kekuatan kertas ajaib tersebut.', 'Gambar 3 Kinro teman Senku sedang mengetes kekuatan kertas ajaib yang telah dibuat benigmatica.wordpress.com  Hasilnya tombak Kinro yang hancur, sementara kertas ajaibnya hanya penyok saja dan berhasil menjadi perisai dari serangan tombak yang sangat cepat dan keras.', 'Gambar 4 Tombak Kinro hancur setelah menghantam kertas ajaib Senku Sumber benigmatica.wordpress.com  Percobaan Senku ternyata bukan imajinasi belaka.', 'Hakikatnya, konsep kimia yaitu serat karbon yang dilakukan Senku sudah diterapkan di dunia otomotif, roket, dan moda transportasi.', 'Menurut Dinur 2019 menyatakan penggunaan material seperti serat karbon mulai banyak digunakan dalam dunia industri karena memiliki karakteristik yang mampu memenuhi tuntutan teknologi seperti ringan, tahan terhadap temperatur tinggi, dan tahan fatik rusak.', 'Selain itu, serat karbon juga memiliki ketahanan terhadap korosi, 70% lebih ringan dari baja dan 40% dari aluminium, dan memperkuat struktur benda yang dilapisi serat tersebut.', 'Kesimpulannya, dari anime Dr. Stone yang menampilkan percobaan mengenai pembuatan serat karbon dalam bentuk kertas ajaib digunakan sebagai perisai ketahanan dan penambah kekuatan memberikan wawasan kepada kita agar bisa memanfaatkan sumber daya yang ada disekitar untuk dijadikan sesuatu yang memiliki nilai guna.', 'Selain itu, juga mengajarkan kita untuk dapat berekreasi dan produktif di manapun dan kapanpun kita berada.', 'Referensi   Dinur, R. 2019.', 'Proses Pembuatan Komposit Sandwich Serat Karbon Menggunakan Metode Vacuum Infusion.', 'Tugas Akhir.', 'Yogyakarta Universitas Islam Indonesia.', 'Hidayah, R. 2021.', 'Nonton Dr. Stone Season 2 Episode 5 Perisai Besi Untuk Kereta Uap.', 'Indonesia.', 'Diakses pada tanggal 23 September 2021 httpsduniagames.co.iddiscoverarticlenontondrstoneseason2episode5  Tasuns Composite Technology.', '2018.', 'Manfaat Serat Karbon.', 'China.', 'Diakses pada tanggal 23 September 2021 httpm.id.tcomposites.netinfothebenefitsofcarbonfiber31250972.html  Setelah selesai membaca, yuk berikan artikel ini penilaian!', 'Klik berdasarkan jumlah bintang untuk menilai!', 'Berikan penilaian Ratarata nilai 4  5.', 'Banyaknya vote 1 Belum ada yang menilai!', 'Yuk jadi yang pertama kali menilai!', 'Baca juga    Bagikan ini Cetak  WhatsApp  Facebook  Twitter  Telegram  , Dr. Stone merupakan salah satu anime yang unik.', 'Bagaimana tidak, jika dalam anime lain menawarkan cerita kekuatan super, Dr. Stone sendiri menawarkan jalan cerita berlatar sains.', 'Secara tidak langsung, kita akan belajar sains begitu kompleks dalam anime ini.', 'Bagi yang baru menemukan artikel ini, terlebih dahulu saya akan membahas alur cerita Dr Stone.', 'Dunia secara tibatiba berubah menjadi batu, semua hewan dan manusia berubah menjadi batu.', 'Tidak ada yang tahu penyebab pembatuan tersebut, yang jelas manusia membatu selama 3700 tahun.', 'Salah satu anak muda jenius penggila sains bernama Senku secara mengejutkan berhasil bertahan dan selamat.', 'Senku kemudian mencari cara untuk menghidupkan kembali orangorang dengan cairan asam nitrat.', 'Perlahan Senku mulai membangun kembali peradaban.', 'Senku membuat peradaban maju dan lebih cepat dengan penciptaan ajaibnya.', 'Konflik dimulai ketika Senku menghidupkan Tsukasa.', 'Tsukasa sendiri menginginkan dunia secara alami, tanpa adanya manusia perusak yang rakus.', 'Bagi Tsukasa sendiri menghidupkan orang harus orangorang muda yang baik, jangan orang yang memiliki sifat rakus.', 'Hal itu bertentangan dengan Senku yang berniat menghidupkan semua oranh.', 'Akhirnya kubu terbelah antara kubu sains dan kubu Tsukasa.', 'Singkat cerita, Senku berhasil mengalahkan Tsukasa dan bertekad untuk membangun peradaban kembali.', 'Untuk animenya sendiri sudah berakhir di season 2, tetapi untuk manga masih terus berlanjut.', 'Kelanjutan anime sendiri akan berlanjut pada season tiga, meskipun jadwal resminya belum pasti.', 'Nah lanjutan season dua kemarin adalah Senku berusaha menemukan asal muasal mengapa bumi membatu.', 'Senku kemudian berinisiatif untuk pergi ke Amazon dengan menciptakan kapal.', 'Karena menurut informasi yang dia dapat, asal muasal pembatuan adalah di sana.', 'Senku kemudian membuat satu kapal layar yang besar.', 'Nah, tentunya untuk memenuhi itu semua, Senku akhirnya menghidupkan seorang kapten kapal hebat bernama Ryusui Nanami.', 'Lihat Hiburan Selengkapnya  Beri Komentar Berkomentarlah secara bijaksana dan bertanggung jawab.', 'Komentar sepenuhnya menjadi tanggung jawab komentator seperti diatur dalam UU ITE KIRIM Belum ada komentar.', 'Jadilah yang pertama untuk memberikan komentar!', 'Lihat Semua Komentar 1']\n"
          ]
        }
      ]
    },
    {
      "cell_type": "code",
      "metadata": {
        "id": "PxNOrQPz_l6m"
      },
      "source": [
        "# Membuat fungsi untuk mengembalikan respon sapaan ke pengguna\n",
        "def greeting_response(text):\n",
        "  text = text.lower()\n",
        "\n",
        "  # Respon sapaan dari bot\n",
        "  bot_greeting = ['halo', 'hai', 'iya, ada apa?', 'ada yang bisa saya bantu?', 'selamat datang']\n",
        "\n",
        "  # Sapaan pengguna\n",
        "  user_greeting = ['permisi', 'halo', 'hai', 'salam', 'wassup', 'konichiha', 'konichiwa']\n",
        "\n",
        "  for word in text.split():\n",
        "    if word in user_greeting:\n",
        "      return random.choice(bot_greeting)\n",
        "\n",
        "  # Respon sapaan secara acak dibuat huruf kecil semua\n",
        "  def gratitude_response():\n",
        "    text = text.lower()"
      ],
      "execution_count": 7,
      "outputs": []
    },
    {
      "cell_type": "code",
      "metadata": {
        "id": "-xqYDVfVDwXY"
      },
      "source": [
        "# Mengurutkan Variabel\n",
        "def index_sort(list_var):\n",
        "  length = len(list_var)\n",
        "  list_index = list(range(0, length))\n",
        "\n",
        "  x = list_var\n",
        "  for i in range(length):\n",
        "    for j in range(length):\n",
        "      if x[list_index[i]] > x[list_index[j]]:\n",
        "\n",
        "        # Menukar\n",
        "        temp = list_index[i]\n",
        "        list_index[i] = list_index[j]\n",
        "        list_index[j] = temp\n",
        "\n",
        "  return list_index"
      ],
      "execution_count": 8,
      "outputs": []
    },
    {
      "cell_type": "code",
      "metadata": {
        "id": "e0AM01gZF8ic"
      },
      "source": [
        "# Membuat respon bots\n",
        "def bot_response(user_input):\n",
        "  user_input = user_input.lower() # Merubah input dari user menjadi huruf kecil\n",
        "  sentence_list.append(user_input) # Memasukan input user ke dalam korpus yang kita buat (Korpus terletak pada variabel sentence_list)\n",
        "  bot_response = '' # Inisialisasi variabel dari bot response\n",
        "\n",
        "  cm = CountVectorizer().fit_transform(sentence_list) # Melakukan ekstraksi fitur pada korpus menggunakan CountVectorizer (Bag of Word)/Mengubah santence_list menjadi vektor\n",
        "\n",
        "  similarity_score = cosine_similarity(cm[-1], cm) # Menghitung cosine similarity antara hasil fitur ekstraksi input user (cm[-1]) : Mengambil elmen terahir, dengan semua data dalam korpus\n",
        "  similarity_score_list = similarity_score.flatten() #Mengubah hasil perhitungan cosine similarity menjadi bentuk list 1D\n",
        "  index = index_sort(similarity_score_list) # Mengurutkan index pada similarity score berdasarkan elmen yang terbesar, kemudian hasilnya disimpan pada list bernama index\n",
        "  index = index[1:] # Mengambil nilai terbesar ke 2 karena jika yang pertama maka akan sama seperti input.\n",
        "\n",
        "  response_flag = 0\n",
        "  for i in range(len(index)):\n",
        "    if similarity_score_list[index[i]] > 0.0: # Jika similarity_score_list pada index lebih dari 0 maka kemiripannya lebih besar\n",
        "      bot_response = bot_response+' '+sentence_list[index[i]] # Respon dari bot\n",
        "      response_flag = 1\n",
        "\n",
        "    if response_flag == 0:\n",
        "      bot_response = bot_response+\" \"+\"Maaf hamba belum mengerti\" # Jika response_flag = 0 (tidak ada yang cocok) maka akan memberikan respon minta maaf\n",
        "\n",
        "    sentence_list.remove(user_input) # Menghapus user_input yg sudah dimasikan ke dalam santence_list (Korpus)\n",
        "\n",
        "    return bot_response"
      ],
      "execution_count": 9,
      "outputs": []
    },
    {
      "cell_type": "markdown",
      "metadata": {
        "id": "MC0PFNXUNMGC"
      },
      "source": [
        "## Proses 4 (end Process, Membuat chat box)"
      ]
    },
    {
      "cell_type": "code",
      "metadata": {
        "colab": {
          "base_uri": "https://localhost:8080/"
        },
        "id": "bMmdGcAONLQz",
        "outputId": "3555298e-8ddb-42c6-e9cf-089a086d1289"
      },
      "source": [
        "#Start Chat\n",
        "print(\"Weebs Bot: Mau nanya apa kamu tentang kepintaran Senku?\")\n",
        "\n",
        "exit_list = ['exit','bye','keluar','quit', 'sampai jumpa', 'sayounara']\n",
        "\n",
        "while(True):\n",
        "    user_input = input('User : ') #mengambil input pada user\n",
        "    if user_input.lower() in exit_list: #kalau input dari user ada didalam exit_list maka program akan berhenti\n",
        "        print('Weebs Bot: Bye Bye Sampai Jumpa Lagi')\n",
        "        print('Weebs Bot: Selamat anda menjadi WIBU!!!')\n",
        "        break\n",
        "    else:\n",
        "        if greeting_response(user_input)!= None: #Mengecek apakah input dari user masuk kedalam greeting atau bukan\n",
        "            print('Weebs Bot: '+ greeting_response(user_input)) #Jika masuk kedalam greeting maka bot akan melakukan response terhadap greeting tersebut\n",
        "        else:\n",
        "            print('Weebs Bot: '+ bot_response(user_input)) #Jika bukan, maka bot akan memanggil fungsi bot_response untuk menentukan respon apa yg akan ia keluarkan sesuai dengan input dari user"
      ],
      "execution_count": 10,
      "outputs": [
        {
          "output_type": "stream",
          "name": "stdout",
          "text": [
            "Weebs Bot: Mau nanya apa kamu tentang kepintaran Senku?\n",
            "User : konichiha\n",
            "Weebs Bot: hai\n",
            "User : besi tahan panas?\n",
            "Weebs Bot:  Membuat Telepon  Membuat perangkat komunikasi modern di Zaman Batu bukanlah hal yang mudah, tetapi Senku menemukan tungsten, logam paling tahan panas di alam semesta.\n",
            "User : keluar\n",
            "Weebs Bot: Bye Bye Sampai Jumpa Lagi\n",
            "Weebs Bot: Selamat anda menjadi WIBU!!!\n"
          ]
        }
      ]
    }
  ]
}