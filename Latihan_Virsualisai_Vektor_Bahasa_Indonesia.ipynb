{
  "nbformat": 4,
  "nbformat_minor": 0,
  "metadata": {
    "colab": {
      "name": "Latihan Virsualisai Vektor_Comet",
      "provenance": [],
      "collapsed_sections": []
    },
    "kernelspec": {
      "name": "python3",
      "display_name": "Python 3"
    },
    "language_info": {
      "name": "python"
    }
  },
  "cells": [
    {
      "cell_type": "code",
      "metadata": {
        "id": "lDcCYspNJhpD"
      },
      "source": [
        "### Import Library\n",
        "import requests\n",
        "from bs4 import BeautifulSoup "
      ],
      "execution_count": 1,
      "outputs": []
    },
    {
      "cell_type": "code",
      "metadata": {
        "colab": {
          "base_uri": "https://localhost:8080/",
          "height": 120
        },
        "id": "QLHv7qWqKy5p",
        "outputId": "1617720a-918c-4d4d-e8ef-a7e443118c8e"
      },
      "source": [
        "results = requests.get('https://warstek.com/komet-raksasa/') \n",
        "results.text"
      ],
      "execution_count": 2,
      "outputs": [
        {
          "output_type": "execute_result",
          "data": {
            "application/vnd.google.colaboratory.intrinsic+json": {
              "type": "string"
            },
            "text/plain": [
              "'<!DOCTYPE html>\\n<html lang=\"id-ID\">\\n<head>\\n<script data-ad-client=\"ca-pub-9638064869561472\" async src=\"https://pagead2.googlesyndication.com/pagead/js/adsbygoogle.js\"></script>\\n<meta charset=\"UTF-8\">\\n<meta name=\"viewport\" content=\"width=device-width, initial-scale=1, minimum-scale=1\">\\n<link rel=\"profile\" href=\"http://gmpg.org/xfn/11\">\\n<meta name=\\'robots\\' content=\\'index, follow, max-image-preview:large, max-snippet:-1, max-video-preview:-1\\'/>\\n<link rel=\"preload\" href=\"https://warstek.com/wp-content/plugins/rate-my-post/public/css/fonts/ratemypost.ttf\" type=\"font/ttf\" as=\"font\" crossorigin=\"anonymous\">\\n<title>Penemuan Komet Raksasa, Diameternya Ratusan Kilometer</title>\\n<meta name=\"description\" content=\"DuaÂ\\xa0astronomÂ\\xa0menemukan komet terbesar yang pernah terlihat di Tata Surya.Â\\xa0KometÂ\\xa0ini ditemukan saat keduanya menyisir data.\"/>\\n<link rel=\"canonical\" href=\"https://warstek.com/komet-raksasa/\"/>\\n<meta property=\"og:locale\" content=\"id_ID\"/>\\n<meta property=\"og:type\" content=\"article\"/>\\n<meta property=\"og:title\" content=\"Penemuan Komet Raksasa, Diameternya Ratusan Kilometer\"/>\\n<meta property=\"og:description\" content=\"DuaÂ\\xa0astronomÂ\\xa0menemukan komet terbesar yang pernah terlihat di Tata Surya.Â\\xa0KometÂ\\xa0ini ditemukan saat keduanya menyisir data.\"/>\\n<meta property=\"og:url\" content=\"https://warstek.com/komet-raksasa/\"/>\\n<meta property=\"og:site_name\" content=\"Warung Sains Teknologi\"/>\\n<meta property=\"article:publisher\" content=\"http://fb.com/warstek\"/>\\n<meta property=\"article:author\" content=\"Maratus Sholikah\"/>\\n<meta property=\"article:published_time\" content=\"2021-10-05T17:36:16+00:00\"/>\\n<meta property=\"article:modified_time\" content=\"2021-10-05T17:36:19+00:00\"/>\\n<meta property=\"og:image\" content=\"https://warstek.com/wp-content/uploads/2021/09/9696d4bdf9.jpg\"/>\\n<meta property=\"og:image:width\" content=\"1280\"/>\\n<meta property=\"og:image:height\" content=\"718\"/>\\n<meta name=\"twitter:card\" content=\"summary\"/>\\n<meta name=\"twitter:creator\" content=\"@KimiaWarstek\"/>\\n<meta name=\"twitter:site\" content=\"@KimiaWarstek\"/>\\n<meta name=\"twitter:label1\" content=\"Ditulis oleh\"/>\\n<meta name=\"twitter:data1\" content=\"Maratus Sholikah\"/>\\n<meta name=\"twitter:label2\" content=\"Estimasi waktu membaca\"/>\\n<meta name=\"twitter:data2\" content=\"3 menit\"/>\\n<script type=\"application/ld+json\" class=\"yoast-schema-graph\">{\"@context\":\"https://schema.org\",\"@graph\":[{\"@type\":\"WebSite\",\"@id\":\"https://warstek.com/#website\",\"url\":\"https://warstek.com/\",\"name\":\"Warung Sains Teknologi\",\"description\":\"Sains dan Teknologi yang Seru dan Menyenangkan\",\"potentialAction\":[{\"@type\":\"SearchAction\",\"target\":{\"@type\":\"EntryPoint\",\"urlTemplate\":\"https://warstek.com/?s={search_term_string}\"},\"query-input\":\"required name=search_term_string\"}],\"inLanguage\":\"id-ID\"},{\"@type\":\"ImageObject\",\"@id\":\"https://warstek.com/komet-raksasa/#primaryimage\",\"inLanguage\":\"id-ID\",\"url\":\"https://warstek.com/wp-content/uploads/2021/09/9696d4bdf9.jpg\",\"contentUrl\":\"https://warstek.com/wp-content/uploads/2021/09/9696d4bdf9.jpg\",\"width\":1280,\"height\":718},{\"@type\":\"WebPage\",\"@id\":\"https://warstek.com/komet-raksasa/#webpage\",\"url\":\"https://warstek.com/komet-raksasa/\",\"name\":\"Penemuan Komet Raksasa, Diameternya Ratusan Kilometer\",\"isPartOf\":{\"@id\":\"https://warstek.com/#website\"},\"primaryImageOfPage\":{\"@id\":\"https://warstek.com/komet-raksasa/#primaryimage\"},\"datePublished\":\"2021-10-05T17:36:16+00:00\",\"dateModified\":\"2021-10-05T17:36:19+00:00\",\"author\":{\"@id\":\"https://warstek.com/#/schema/person/d202813089471c330ffe06c479c1e16a\"},\"description\":\"Dua\\\\u00a0astronom\\\\u00a0menemukan komet terbesar yang pernah terlihat di Tata Surya.\\\\u00a0Komet\\\\u00a0ini ditemukan saat keduanya menyisir data.\",\"breadcrumb\":{\"@id\":\"https://warstek.com/komet-raksasa/#breadcrumb\"},\"inLanguage\":\"id-ID\",\"potentialAction\":[{\"@type\":\"ReadAction\",\"target\":[\"https://warstek.com/komet-raksasa/\"]}]},{\"@type\":\"BreadcrumbList\",\"@id\":\"https://warstek.com/komet-raksasa/#breadcrumb\",\"itemListElement\":[{\"@type\":\"ListItem\",\"position\":1,\"name\":\"Home\",\"item\":\"https://warstek.com/\"},{\"@type\":\"ListItem\",\"position\":2,\"name\":\"Penemuan Komet Raksasa, Diameternya Ratusan Kilometer\"}]},{\"@type\":\"Person\",\"@id\":\"https://warstek.com/#/schema/person/d202813089471c330ffe06c479c1e16a\",\"name\":\"Maratus Sholikah\",\"image\":{\"@type\":\"ImageObject\",\"@id\":\"https://warstek.com/#personlogo\",\"inLanguage\":\"id-ID\",\"url\":\"https://secure.gravatar.com/avatar/94f099507b920101340a5509f7da7ac4?s=96&d=retro&r=g\",\"contentUrl\":\"https://secure.gravatar.com/avatar/94f099507b920101340a5509f7da7ac4?s=96&d=retro&r=g\",\"caption\":\"Maratus Sholikah\"},\"description\":\"Alumni S1 Fisika Teori Universitas Islam Negeri Maulana Malik Ibrahim Malang\",\"sameAs\":[\"Maratus Sholikah\"],\"url\":\"https://warstek.com/author/maratus-sholikah/\"}]}</script>\\n<link rel=\"alternate\" type=\"application/rss+xml\" title=\"Warung Sains Teknologi &raquo; Feed\" href=\"https://warstek.com/feed/\"/>\\n<link rel=\"alternate\" type=\"application/rss+xml\" title=\"Warung Sains Teknologi &raquo; Umpan Komentar\" href=\"https://warstek.com/comments/feed/\"/>\\n<link rel=\"alternate\" type=\"application/rss+xml\" title=\"Warung Sains Teknologi &raquo; Penemuan Komet Raksasa, Diameternya Ratusan Kilometer Umpan Komentar\" href=\"https://warstek.com/komet-raksasa/feed/\"/>\\n<link rel=\"stylesheet\" type=\"text/css\" href=\"//warstek.com/wp-content/cache/wpfc-minified/e4buso0a/dx2m4.css\" media=\"all\"/>\\n<style id=\\'wp-block-library-inline-css\\'>.has-text-align-justify{text-align:justify;}</style>\\n<link rel=\"stylesheet\" type=\"text/css\" href=\"//warstek.com/wp-content/cache/wpfc-minified/lbfp6j25/e4tew.css\" media=\"all\"/>\\n<style id=\\'neve-style-inline-css\\'>.header-menu-sidebar-inner li.menu-item-nav-search{display:none;}\\n.container{max-width:748px;}\\n.has-neve-button-color-color{color:var(--nv-primary-accent)!important;}\\n.has-neve-button-color-background-color{background-color:var(--nv-primary-accent)!important;}\\n.single-post-container .alignfull > [class*=\"__inner-container\"], .single-post-container .alignwide > [class*=\"__inner-container\"]{max-width:718px}\\n.button.button-primary, button, input[type=button], .btn, input[type=\"submit\"], \\nul[id^=\"nv-primary-navigation\"] li.button.button-primary > a, .menu li.button.button-primary > a, .wp-block-button.is-style-primary .wp-block-button__link, .wc-block-grid .wp-block-button .wp-block-button__link, form input[type=\"submit\"], form button[type=\"submit\"], #comments input[type=\"submit\"]{background-color:var(--nv-primary-accent);color:#ffffff;border-radius:3px;border:none;border-width:1px 1px 1px 1px;}\\n.button.button-primary:hover, ul[id^=\"nv-primary-navigation\"] li.button.button-primary > a:hover, .menu li.button.button-primary > a:hover, .wp-block-button.is-style-primary .wp-block-button__link:hover, .wc-block-grid .wp-block-button .wp-block-button__link:hover, form input[type=\"submit\"]:hover, form button[type=\"submit\"]:hover, #comments input[type=\"submit\"]:hover{background-color:var(--nv-primary-accent);color:#ffffff;}\\n.button.button-secondary:not(.secondary-default), .wp-block-button.is-style-secondary .wp-block-button__link{background-color:rgba(0,0,0,0);color:var(--nv-text-color);border-radius:3px;border:1px solid;border-width:1px 1px 1px 1px;}\\n.button.button-secondary.secondary-default{background-color:rgba(0,0,0,0);color:var(--nv-text-color);border-radius:3px;border:1px solid;border-width:1px 1px 1px 1px;}\\n.button.button-secondary:not(.secondary-default):hover, .wp-block-button.is-style-secondary .wp-block-button__link:hover{background-color:rgba(0,0,0,0);color:var(--nv-text-color);}\\n.button.button-secondary.secondary-default:hover{background-color:rgba(0,0,0,0);color:var(--nv-text-color);}\\nbody, .site-title{font-size:16px;}\\nform:not([role=\"search\"]):not(.woocommerce-cart-form):not(.woocommerce-ordering):not(.cart) input:read-write:not(#coupon_code), form textarea, form select, .widget select{margin-bottom:10px;}\\nform input:read-write, form textarea, form select, form select option, form.wp-block-search input.wp-block-search__input, .widget select{color:var(--nv-text-color);}\\nform label, .wpforms-container .wpforms-field-label{margin-bottom:10px;}\\nform.search-form input:read-write{padding-right:45px !important;}\\n.header-main-inner,.header-main-inner a:not(.button),.header-main-inner .navbar-toggle{color:var(--nv-text-color);}\\n.header-main-inner .nv-icon svg,.header-main-inner .nv-contact-list svg{fill:var(--nv-text-color);}\\n.header-main-inner .icon-bar{background-color:var(--nv-text-color);}\\n.hfg_header .header-main-inner .nav-ul .sub-menu{background-color:#ffffff;}\\n.hfg_header .header-main-inner{background-color:#ffffff;}\\n.header-bottom-inner,.header-bottom-inner a:not(.button),.header-bottom-inner .navbar-toggle{color:var(--nv-text-dark-bg);}\\n.header-bottom-inner .nv-icon svg,.header-bottom-inner .nv-contact-list svg{fill:var(--nv-text-dark-bg);}\\n.header-bottom-inner .icon-bar{background-color:var(--nv-text-dark-bg);}\\n.hfg_header .header-bottom-inner .nav-ul .sub-menu{background-color:#fba912;}\\n.hfg_header .header-bottom-inner{background-color:#fba912;}\\n.header-menu-sidebar .header-menu-sidebar-bg,.header-menu-sidebar .header-menu-sidebar-bg a:not(.button),.header-menu-sidebar .header-menu-sidebar-bg .navbar-toggle{color:var(--nv-text-color);}\\n.header-menu-sidebar .header-menu-sidebar-bg .nv-icon svg,.header-menu-sidebar .header-menu-sidebar-bg .nv-contact-list svg{fill:var(--nv-text-color);}\\n.header-menu-sidebar .header-menu-sidebar-bg .icon-bar{background-color:var(--nv-text-color);}\\n.hfg_header .header-menu-sidebar .header-menu-sidebar-bg .nav-ul .sub-menu{background-color:#ffffff;}\\n.hfg_header .header-menu-sidebar .header-menu-sidebar-bg{background-color:#ffffff;}\\n.header-menu-sidebar{width:360px;}\\n.builder-item--logo .site-logo img{max-width:120px;}\\n.builder-item--logo .site-logo{padding:10px 0px 10px 0px;}\\n.builder-item--logo{margin:0px 0px 0px 0px;}\\n.builder-item--nav-icon .navbar-toggle{padding:10px 15px 10px 15px;}\\n.builder-item--nav-icon{margin:0px 0px 0px 0px;}\\n.builder-item--primary-menu .nav-menu-primary > .nav-ul li:not(.woocommerce-mini-cart-item) > a,.builder-item--primary-menu .nav-menu-primary > .nav-ul .has-caret > a,.builder-item--primary-menu .nav-menu-primary > .nav-ul .neve-mm-heading span,.builder-item--primary-menu .nav-menu-primary > .nav-ul .has-caret{color:var(--nv-text-color);}\\n.builder-item--primary-menu .nav-menu-primary > .nav-ul li:not(.woocommerce-mini-cart-item) > a:after,.builder-item--primary-menu .nav-menu-primary > .nav-ul li > .has-caret > a:after{background-color:var(--nv-secondary-accent);}\\n.builder-item--primary-menu .nav-menu-primary > .nav-ul li:not(.woocommerce-mini-cart-item):hover > a,.builder-item--primary-menu .nav-menu-primary > .nav-ul li:hover > .has-caret > a,.builder-item--primary-menu .nav-menu-primary > .nav-ul li:hover > .has-caret{color:var(--nv-secondary-accent);}\\n.builder-item--primary-menu .nav-menu-primary > .nav-ul li:hover > .has-caret svg{fill:var(--nv-secondary-accent);}\\n.builder-item--primary-menu .nav-menu-primary > .nav-ul li.current-menu-item > a,.builder-item--primary-menu .nav-menu-primary > .nav-ul li.current_page_item > a,.builder-item--primary-menu .nav-menu-primary > .nav-ul li.current_page_item > .has-caret > a{color:var(--nv-primary-accent);}\\n.builder-item--primary-menu .nav-menu-primary > .nav-ul li.current-menu-item > .has-caret svg{fill:var(--nv-primary-accent);}\\n.builder-item--primary-menu .nav-ul > li:not(:last-of-type){margin-right:20px;}\\n.builder-item--primary-menu .style-full-height .nav-ul li:not(.menu-item-nav-search):not(.menu-item-nav-cart):hover > a:after{width:calc(100% + 20px);}\\n.builder-item--primary-menu .nav-ul li a, .builder-item--primary-menu .neve-mm-heading span{min-height:25px;}\\n.builder-item--primary-menu{font-size:1em;line-height:1.6em;letter-spacing:0px;font-weight:500;text-transform:none;padding:0px 0px 0px 0px;margin:0px 0px 0px 0px;}\\n.builder-item--primary-menu svg{width:1em;height:1em;}\\n.builder-item--custom_html .nv-html-content{font-size:1em;line-height:1.6em;letter-spacing:0px;font-weight:900;text-transform:none;}\\n.builder-item--custom_html .nv-html-content svg{width:1em;height:1em;}\\n.builder-item--custom_html{padding:0px 0px 0px 0px;margin:0px 0px 0px 0px;}\\n.footer-top-inner{background-color:#ffffff;}\\n.footer-top-inner,.footer-top-inner a:not(.button),.footer-top-inner .navbar-toggle{color:var(--nv-text-color);}\\n.footer-top-inner .nv-icon svg,.footer-top-inner .nv-contact-list svg{fill:var(--nv-text-color);}\\n.footer-top-inner .icon-bar{background-color:var(--nv-text-color);}\\n.footer-top-inner .nav-ul .sub-menu{background-color:#ffffff;}\\n.footer-bottom-inner{background-color:#24292e;}\\n.footer-bottom-inner,.footer-bottom-inner a:not(.button),.footer-bottom-inner .navbar-toggle{color:#ffffff;}\\n.footer-bottom-inner .nv-icon svg,.footer-bottom-inner .nv-contact-list svg{fill:#ffffff;}\\n.footer-bottom-inner .icon-bar{background-color:#ffffff;}\\n.footer-bottom-inner .nav-ul .sub-menu{background-color:#24292e;}\\n.builder-item--footer-one-widgets{padding:0px 0px 0px 0px;margin:0px 0px 0px 0px;}\\n.builder-item--footer-two-widgets{padding:0px 0px 0px 0px;margin:0px 0px 0px 0px;}\\n.builder-item--footer_copyright{font-size:1em;line-height:1.6em;letter-spacing:0px;font-weight:500;text-transform:none;padding:0px 0px 0px 0px;margin:0px 0px 0px 0px;}\\n.builder-item--footer_copyright svg{width:1em;height:1em;}\\n@media(min-width:576px){ .container{max-width:992px;}\\n.single-post-container .alignfull > [class*=\"__inner-container\"], .single-post-container .alignwide > [class*=\"__inner-container\"]{max-width:962px}\\nbody, .site-title{font-size:16px;}\\n.header-menu-sidebar{width:360px;}\\n.builder-item--logo .site-logo img{max-width:120px;}\\n.builder-item--logo .site-logo{padding:10px 0px 10px 0px;}\\n.builder-item--logo{margin:0px 0px 0px 0px;}\\n.builder-item--nav-icon .navbar-toggle{padding:10px 15px 10px 15px;}\\n.builder-item--nav-icon{margin:0px 0px 0px 0px;}\\n.builder-item--primary-menu .nav-ul > li:not(:last-of-type){margin-right:20px;}\\n.builder-item--primary-menu .style-full-height .nav-ul li:not(.menu-item-nav-search):not(.menu-item-nav-cart):hover > a:after{width:calc(100% + 20px);}\\n.builder-item--primary-menu .nav-ul li a, .builder-item--primary-menu .neve-mm-heading span{min-height:25px;}\\n.builder-item--primary-menu{font-size:1em;line-height:1.6em;letter-spacing:0px;padding:0px 0px 0px 0px;margin:0px 0px 0px 0px;}\\n.builder-item--primary-menu svg{width:1em;height:1em;}\\n.builder-item--custom_html .nv-html-content{font-size:1em;line-height:1.6em;letter-spacing:0px;}\\n.builder-item--custom_html .nv-html-content svg{width:1em;height:1em;}\\n.builder-item--custom_html{padding:0px 0px 0px 0px;margin:0px 0px 0px 0px;}\\n.builder-item--footer-one-widgets{padding:0px 0px 0px 0px;margin:0px 0px 0px 0px;}\\n.builder-item--footer-two-widgets{padding:0px 0px 0px 0px;margin:0px 0px 0px 0px;}\\n.builder-item--footer_copyright{font-size:1em;line-height:1.6em;letter-spacing:0px;padding:0px 0px 0px 0px;margin:0px 0px 0px 0px;}\\n.builder-item--footer_copyright svg{width:1em;height:1em;}\\n}@media(min-width:960px){ .container{max-width:1170px;}\\n.neve-main > .archive-container .nv-index-posts.col{max-width:75%;}\\n.neve-main > .archive-container .nv-sidebar-wrap{max-width:25%;}\\n.neve-main > .single-post-container .nv-single-post-wrap.col{max-width:70%;}\\n.single-post-container .alignfull > [class*=\"__inner-container\"], .single-post-container .alignwide > [class*=\"__inner-container\"]{max-width:789px}\\n.container-fluid.single-post-container .alignfull > [class*=\"__inner-container\"], .container-fluid.single-post-container .alignwide > [class*=\"__inner-container\"]{max-width:calc(70% + 15px)}\\n.neve-main > .single-post-container .nv-sidebar-wrap{max-width:30%;}\\nbody, .site-title{font-size:15px;}\\n.header-menu-sidebar{width:360px;}\\n.builder-item--logo .site-logo img{max-width:210px;}\\n.builder-item--logo .site-logo{padding:10px 0px 10px 0px;}\\n.builder-item--logo{margin:0px 0px 0px 0px;}\\n.builder-item--nav-icon .navbar-toggle{padding:10px 15px 10px 15px;}\\n.builder-item--nav-icon{margin:0px 0px 0px 0px;}\\n.builder-item--primary-menu .nav-ul > li:not(:last-of-type){margin-right:20px;}\\n.builder-item--primary-menu .style-full-height .nav-ul li:not(.menu-item-nav-search):not(.menu-item-nav-cart) > a:after{left:-10px;right:-10px}\\n.builder-item--primary-menu .style-full-height .nav-ul li:not(.menu-item-nav-search):not(.menu-item-nav-cart):hover > a:after{width:calc(100% + 20px);}\\n.builder-item--primary-menu .nav-ul li a, .builder-item--primary-menu .neve-mm-heading span{min-height:25px;}\\n.builder-item--primary-menu{font-size:1em;line-height:1.6em;letter-spacing:0px;padding:0px 0px 0px 0px;margin:0px 0px 0px 0px;}\\n.builder-item--primary-menu svg{width:1em;height:1em;}\\n.builder-item--custom_html .nv-html-content{font-size:1.7em;line-height:1.6em;letter-spacing:0px;}\\n.builder-item--custom_html .nv-html-content svg{width:1.7em;height:1.7em;}\\n.builder-item--custom_html{padding:0px 0px 0px 0px;margin:0px 0px 0px 0px;}\\n.builder-item--footer-one-widgets{padding:0px 0px 0px 0px;margin:0px 0px 0px 0px;}\\n.builder-item--footer-two-widgets{padding:0px 0px 0px 0px;margin:0px 0px 0px 0px;}\\n.builder-item--footer_copyright{font-size:1em;line-height:1.6em;letter-spacing:0px;padding:0px 0px 0px 0px;margin:0px 0px 0px 0px;}\\n.builder-item--footer_copyright svg{width:1em;height:1em;}\\n}.nv-content-wrap .elementor a:not(.button):not(.wp-block-file__button){text-decoration:none;}:root{--nv-primary-accent:#ffa500;--nv-secondary-accent:#ffa500;--nv-site-bg:#ffffff;--nv-light-bg:#ededed;--nv-dark-bg:#14171c;--nv-text-color:#393939;--nv-text-dark-bg:#ffffff;--nv-c-1:#77b978;--nv-c-2:#f37262;--nv-fallback-ff:Arial, Helvetica, sans-serif;}:root{--e-global-color-nvprimaryaccent:#ffa500;--e-global-color-nvsecondaryaccent:#ffa500;--e-global-color-nvsitebg:#;--e-global-color-nvlightbg:#ededed;--e-global-color-nvdarkbg:#14171c;--e-global-color-nvtextcolor:#393939;--e-global-color-nvtextdarkbg:#ffffff;--e-global-color-nvc1:#77b978;--e-global-color-nvc2:#f37262;}</style>\\n<link rel=\"stylesheet\" type=\"text/css\" href=\"//warstek.com/wp-content/cache/wpfc-minified/1e3worhh/dx2m4.css\" media=\"all\"/>\\n<style id=\\'quads-styles-inline-css\\'>.quads-location ins.adsbygoogle{background:transparent !important;}\\n.quads-ad-label{font-size:12px;text-align:center;color:#333;}</style>\\n<link rel=\"https://api.w.org/\" href=\"https://warstek.com/wp-json/\"/><link rel=\"alternate\" type=\"application/json\" href=\"https://warstek.com/wp-json/wp/v2/posts/53105\"/><link rel=\"EditURI\" type=\"application/rsd+xml\" title=\"RSD\" href=\"https://warstek.com/xmlrpc.php?rsd\"/>\\n<link rel=\"wlwmanifest\" type=\"application/wlwmanifest+xml\" href=\"https://warstek.com/wp-includes/wlwmanifest.xml\"/> \\n<meta name=\"generator\" content=\"WordPress 5.8.1\"/>\\n<link rel=\\'shortlink\\' href=\\'https://warstek.com/?p=53105\\'/>\\n<link rel=\"alternate\" type=\"application/json+oembed\" href=\"https://warstek.com/wp-json/oembed/1.0/embed?url=https%3A%2F%2Fwarstek.com%2Fkomet-raksasa%2F\"/>\\n<link rel=\"alternate\" type=\"text/xml+oembed\" href=\"https://warstek.com/wp-json/oembed/1.0/embed?url=https%3A%2F%2Fwarstek.com%2Fkomet-raksasa%2F&#038;format=xml\"/>\\n<meta property=\"article:author\" content=\"http://facebook.com/Maratus Sholikah\"/>\\n<style>.abh_tab_content .abh_text .abh_name,section.abh_tab{padding:0!important;margin:0!important}.abh_box,.abh_tabs{width:100%!important}.abh_box{clear:both!important;position:relative!important;padding:25px 0!important}.abh_tabs{list-style:none!important;padding:5px 0 1px!important;margin:0!important;font:13px arial!important;border-bottom:1px solid #ccc!important}.abh_tab_content .abh_text ul,.abh_tabs li{list-style:none!important;padding:0!important}.abh_tabs li{display:inline!important;margin:0!important}.abh_tabs li:after,.abh_tabs li:before{content:\"\"!important;padding:0!important;margin:0!important}.abh_tab_content .abh_tab,.abh_tabs li i{display:none}.abh_tabs li a,.abh_tabs li a:hover{padding:4px 10px 5px!important;box-shadow:none!important;-webkit-box-shadow:none!important}.abh_tabs li a{background-color:transparent!important;border:0 solid #ccc!important;text-decoration:none!important;border-bottom:none!important;outline:0!important;font-size:100%!important;line-height:23px!important}.abh_tabs li a:hover{background-color:#ddd!important}.abh_tabs li a,.abh_tabs li.abh_active a{color:#333!important}.abh_tabs li.abh_active a,.abh_tabs li.abh_active a:hover{background-color:#eee!important;padding:4px 10px 5px!important;border-bottom:none!important;box-shadow:none!important;-webkit-box-shadow:none!important}.abh_tabs li a.icon_accept:hover{padding-left:24px!important}.abh_tabs_content_container{border:2px solid #ccc!important;border-top:none!important;padding:10px!important;width:400px!important}.abh_tab_content{padding:20px 12px!important;min-height:80px!important;overflow:hidden!important;border-bottom:1px solid #ccc!important}.abh_tab_content .abh_image{display:block;float:left!important;width:80px!important;margin-top:10px!important}.abh_tab_content .abh_image img{max-width:80px!important;height:auto;box-shadow:0 1px 4px rgba(0,0,0,.2)!important;overflow:hidden!important;-webkit-border-radius:50% 50% 50% 50%!important;-moz-border-radius:50% 50% 50% 50%!important;border-radius:50% 50% 50% 50%!important}.abh_tab_content .abh_image a{border:0!important;box-shadow:0 1px 4px rgba(0,0,0,.2)!important;-webkit-box-shadow:none!important}.abh_tab_content .abh_text{margin-left:96px!important;font-size:100%!important;line-height:1.5!important}.abh_tab_content .abh_text .abh_name{font-size:20px!important;clear:none!important;font-weight:700!important;text-align:left!important;line-height:20px!important}.abh_tab_content .abh_text .fn{text-transform:capitalize!important;clear:none!important;font-size:18px!important;line-height:24px!important;margin:0!important;padding:0!important;border:0!important}.abh_tab_content .abh_text a{font-size:100%!important}.abh_tab_content .abh_text .abh_job{line-height:20px!important;font-size:100%!important}.abh_tab_content .abh_text .abh_job span{vertical-align:top!important;font-size:13px!important;background-image:none!important;padding:0!important;margin:0!important}.abh_tab_content .abh_text .abh_description{position:static!important;padding-top:6px!important;font-size:14px!important;width:100%!important}.abh_tab_content .abh_text .abh_allposts{font-size:11px!important;vertical-align:middle!important}.abh_tab_content .abh_text ul{margin:5px 0 0 15px!important}.abh_tab_content .abh_text ul li,.abh_tab_content .abh_text ul li span{font-size:13px!important;line-height:20px!important;margin:0!important}.abh_tab_content .abh_social{display:block;float:right!important;line-height:1px!important;padding:0!important;margin:3px 0 0!important;text-align:right!important}.abh_tab_content .abh_social div{width:140px!important;margin:0 0 0 auto!important}.abh_box .abh_pwb a,.abh_tab_content .abh_social a,.abh_tab_content .abh_text a{text-decoration:none!important;box-shadow:none!important;-webkit-box-shadow:none!important}.abh_tab_content .abh_social a{display:inline-block;background:url(//warstek.com/wp-content/plugins/starbox/themes/business/img/sprite.png) no-repeat!important;width:24px!important;height:24px!important;margin:1px!important;padding:0!important;opacity:.5!important;transition:opacity .2s!important;-moz-transition:opacity .2s!important;-webkit-transition:opacity .2s!important;-o-transition:opacity .2s!important;border-radius:5px!important;-webkit-border-radius:5px!important;-moz-border-radius:5px!important}.abh_tab_content .abh_social a:hover{opacity:1!important}.abh_tab_content .abh_social a.abh_facebook{background-position:0 0!important}.abh_tab_content .abh_social a.abh_flickr{background-position:-24px 0!important}.abh_tab_content .abh_social a.abh_google{background-position:-48px 0!important}.abh_tab_content .abh_social a.abh_instagram{background-position:-72px 0!important}.abh_tab_content .abh_social a.abh_linkedin{background-position:-96px 0!important}.abh_tab_content .abh_social a.abh_pinterest{background-position:-120px 0!important}.abh_tab_content .abh_social a.abh_tumblr{background-position:-144px 0!important}.abh_tab_content .abh_social a.abh_twitter{background-position:-168px 0!important}.abh_tab_content .abh_social a.abh_vimeo{background-position:-192px 0!important}.abh_tab_content .abh_social a.abh_youtube{background-position:-216px 0!important}.abh_box .vcard{background:0 0!important;font-size:100%!important;border:0!important}.abh_box .abh_pwb a{position:absolute!important;font-size:9px!important;color:#999!important;right:0!important;bottom:5px!important}#author-bio-box,#authorarea,#cab-author,#entry-author-info,#post-author,.article-author,.author-bio,.author-box,.author-info,.author-wrap,.autore,.card-profile{display:none}</style>\\n<style>.um_request_name{display:none !important;}</style>\\n<script>!function(e,n){\"function\"==typeof define&&define.amd?define([],n(\"adsenseLoader\")):\"object\"==typeof exports?module.exports=n(\"adsenseLoader\"):e.adsenseLoader=n(\"adsenseLoader\")}(this,function(e){\"use strict\";var n=250,t={laziness:1,onLoad:!1},o=function(e,n){var t,o={};for(t in e)Object.prototype.hasOwnProperty.call(e,t)&&(o[t]=e[t]);for(t in n)Object.prototype.hasOwnProperty.call(n,t)&&(o[t]=n[t]);return o},r=function(e,n){var t,o;return function(){var r=this,a=arguments,i=+new Date;t&&i<t+e?(clearTimeout(o),o=setTimeout(function(){t=i,n.apply(r,a)},e)):(t=i,n.apply(r,a))}},a=[],i=[],s=[],d=function(){if(!a.length)return!0;var e=window.pageYOffset,n=window.innerHeight;a.forEach(function(t){var o,r,d=(o=t,r=o.getBoundingClientRect(),{top:r.top+document.body.scrollTop,left:r.left+document.body.scrollLeft}).top,f=t._adsenseLoaderData.options.laziness+1;if(d-e>n*f||e-d-t.offsetHeight-n*f>0)return!0;a=u(a,t),t._adsenseLoaderData.width=c(t),function(e,n){e.classList?e.classList.add(n):e.className+=\" \"+n}(t.querySelector(\"ins\"),\"adsbygoogle\"),i.push(t),\"undefined\"!=typeof adsbygoogle?function(e){(adsbygoogle=window.adsbygoogle||[]).push({});var n=e._adsenseLoaderData.options.onLoad;\"function\"==typeof n&&e.querySelector(\"iframe\")&&e.querySelector(\"iframe\").addEventListener(\"load\",function(){n(e)})}(t):s.push(t)})},c=function(e){return parseInt(window.getComputedStyle(e,\":before\").getPropertyValue(\"content\").slice(1,-1)||9999)},u=function(e,n){return e.filter(function(e){return e!==n})},f=function(e,n){return e._adsenseLoaderData={originalHTML:e.innerHTML,options:n},e.adsenseLoader=function(n){\"destroy\"==n&&(a=u(a,e),i=u(i,e),s=u(i,e),e.innerHTML=e._adsenseLoaderData.originalHTML)},e};function l(e,n){\"string\"==typeof e?e=document.querySelectorAll(e):void 0===e.length&&(e=[e]),n=o(t,n),[].forEach.call(e,function(e){e=f(e,n),a.push(e)}),this.elements=e,d()}return window.addEventListener(\"scroll\",r(n,d)),window.addEventListener(\"resize\",r(n,d)),window.addEventListener(\"resize\",r(n,function(){if(!i.length)return!0;var e=!1;i.forEach(function(n){n.querySelector(\"ins\").classList.contains(\"adsbygoogle\")||n._adsenseLoaderData.width==c(n)||(e=!0,i=u(i,n),n.innerHTML=n._adsenseLoaderData.originalHTML,a.push(n))}),e&&d()})),l.prototype={destroy:function(){this.elements.forEach(function(e){e.adsenseLoader(\"destroy\")})}},window.adsenseLoaderConfig=function(e){void 0!==e.throttle&&(n=e.throttle)},l});</script>\\n<style>img#wpstats{display:none}</style>\\n<link rel=\"icon\" href=\"https://warstek.com/wp-content/uploads/2018/12/cropped-logo-kecil-32x32.png\" sizes=\"32x32\"/>\\n<link rel=\"icon\" href=\"https://warstek.com/wp-content/uploads/2018/12/cropped-logo-kecil-192x192.png\" sizes=\"192x192\"/>\\n<link rel=\"apple-touch-icon\" href=\"https://warstek.com/wp-content/uploads/2018/12/cropped-logo-kecil-180x180.png\"/>\\n<meta name=\"msapplication-TileImage\" content=\"https://warstek.com/wp-content/uploads/2018/12/cropped-logo-kecil-270x270.png\"/>\\n<style id=\"wp-custom-css\">.entry-date{display:none;}</style>\\n<script data-wpfc-render=\"false\">var Wpfcll={s:[],osl:0,scroll:false,i:function(){Wpfcll.ss();window.addEventListener(\\'load\\',function(){window.addEventListener(\"DOMSubtreeModified\",function(e){Wpfcll.osl=Wpfcll.s.length;Wpfcll.ss();if(Wpfcll.s.length > Wpfcll.osl){Wpfcll.ls(false);}},false);Wpfcll.ls(true);});window.addEventListener(\\'scroll\\',function(){Wpfcll.scroll=true;Wpfcll.ls(false);});window.addEventListener(\\'resize\\',function(){Wpfcll.scroll=true;Wpfcll.ls(false);});window.addEventListener(\\'click\\',function(){Wpfcll.scroll=true;Wpfcll.ls(false);});},c:function(e,pageload){var w=document.documentElement.clientHeight || body.clientHeight;var n=0;if(pageload){n=0;}else{n=(w > 800) ? 800:200;n=Wpfcll.scroll ? 800:n;}var er=e.getBoundingClientRect();var t=0;var p=e.parentNode ? e.parentNode:false;if(typeof p.getBoundingClientRect==\"undefined\"){var pr=false;}else{var pr=p.getBoundingClientRect();}if(er.x==0 && er.y==0){for(var i=0;i < 10;i++){if(p){if(pr.x==0 && pr.y==0){if(p.parentNode){p=p.parentNode;}if(typeof p.getBoundingClientRect==\"undefined\"){pr=false;}else{pr=p.getBoundingClientRect();}}else{t=pr.top;break;}}};}else{t=er.top;}if(w - t+n > 0){return true;}return false;},r:function(e,pageload){var s=this;var oc,ot;try{oc=e.getAttribute(\"data-wpfc-original-src\");ot=e.getAttribute(\"data-wpfc-original-srcset\");originalsizes=e.getAttribute(\"data-wpfc-original-sizes\");if(s.c(e,pageload)){if(oc || ot){if(e.tagName==\"DIV\" || e.tagName==\"A\" || e.tagName==\"SPAN\"){e.style.backgroundImage=\"url(\"+oc+\")\";e.removeAttribute(\"data-wpfc-original-src\");e.removeAttribute(\"data-wpfc-original-srcset\");e.removeAttribute(\"onload\");}else{if(oc){e.setAttribute(\\'src\\',oc);}if(ot){e.setAttribute(\\'srcset\\',ot);}if(originalsizes){e.setAttribute(\\'sizes\\',originalsizes);}if(e.getAttribute(\"alt\") && e.getAttribute(\"alt\")==\"blank\"){e.removeAttribute(\"alt\");}e.removeAttribute(\"data-wpfc-original-src\");e.removeAttribute(\"data-wpfc-original-srcset\");e.removeAttribute(\"data-wpfc-original-sizes\");e.removeAttribute(\"onload\");if(e.tagName==\"IFRAME\"){var y=\"https://www.youtube.com/embed/\";if(navigator.userAgent.match(/\\\\sEdge?\\\\/\\\\d/i)){e.setAttribute(\\'src\\',e.getAttribute(\"src\").replace(/.+\\\\/templates\\\\/youtube\\\\.html\\\\#/,y));}e.onload=function(){if(typeof window.jQuery !=\"undefined\"){if(jQuery.fn.fitVids){jQuery(e).parent().fitVids({customSelector:\"iframe[src]\"});}}var s=e.getAttribute(\"src\").match(/templates\\\\/youtube\\\\.html\\\\#(.+)/);if(s){try{var i=e.contentDocument || e.contentWindow;if(i.location.href==\"about:blank\"){e.setAttribute(\\'src\\',y+s[1]);}}catch(err){e.setAttribute(\\'src\\',y+s[1]);}}}}}}else{if(e.tagName==\"NOSCRIPT\"){if(jQuery(e).attr(\"data-type\")==\"wpfc\"){e.removeAttribute(\"data-type\");jQuery(e).after(jQuery(e).text());}}}}}catch(error){console.log(error);console.log(\"==>\",e);}},ss:function(){var i=Array.prototype.slice.call(document.getElementsByTagName(\"img\"));var f=Array.prototype.slice.call(document.getElementsByTagName(\"iframe\"));var d=Array.prototype.slice.call(document.getElementsByTagName(\"div\"));var a=Array.prototype.slice.call(document.getElementsByTagName(\"a\"));var s=Array.prototype.slice.call(document.getElementsByTagName(\"span\"));var n=Array.prototype.slice.call(document.getElementsByTagName(\"noscript\"));this.s=i.concat(f).concat(d).concat(a).concat(s).concat(n);},ls:function(pageload){var s=this;[].forEach.call(s.s,function(e,index){s.r(e,pageload);});}};document.addEventListener(\\'DOMContentLoaded\\',function(){wpfci();});function wpfci(){Wpfcll.i();}</script>\\n</head>\\n<body class=\"post-template-default single single-post postid-53105 single-format-standard wp-custom-logo nv-sidebar-right menu_sidebar_slide_left elementor-default elementor-kit-47276\" id=\"neve_body\">\\n<div class=\"wrapper\">\\n<header class=\"header\" role=\"banner\">\\n<a class=\"neve-skip-link show-on-focus\" href=\"#content\" tabindex=\"0\">\\nLompat ke konten\\t\\t</a>\\n<div id=\"header-grid\" class=\"hfg_header site-header\">\\n<nav class=\"header--row header-main hide-on-mobile hide-on-tablet layout-full-contained nv-navbar header--row\" data-row-id=\"main\" data-show-on=\"desktop\">\\n<div class=\"header--row-inner header-main-inner\">\\n<div class=\"container\">\\n<div class=\"row row--wrapper\" data-section=\"hfg_header_layout_main\">\\n<div class=\"builder-item hfg-item-first col-4 desktop-left\"><div class=\"item--inner builder-item--logo\" data-section=\"title_tagline\" data-item-id=\"logo\">\\n<div class=\"site-logo\"> <a class=\"brand\" href=\"https://warstek.com/\" title=\"Warung Sains Teknologi\" aria-label=\"Warung Sains Teknologi\"><img width=\"296\" height=\"90\" src=\"https://warstek.com/wp-content/uploads/2017/08/footer-logo-copy-1.png\" class=\"skip-lazy\" alt=\"\" loading=\"lazy\"/></a></div></div></div><div class=\"builder-item has-nav hfg-item-last col-8 desktop-right\"><div class=\"item--inner builder-item--primary-menu has_menu\" data-section=\"header_menu_primary\" data-item-id=\"primary-menu\">\\n<div class=\"nv-nav-wrap\">\\n<div role=\"navigation\" class=\"style-plain nav-menu-primary\" aria-label=\"Menu Utama\">\\n<ul id=\"nv-primary-navigation-main\" class=\"primary-menu-ul nav-ul\"><li id=\"menu-item-32620\" class=\"menu-item menu-item-type-custom menu-item-object-custom menu-item-home menu-item-32620\"><a href=\"https://warstek.com\">Beranda</a></li>\\n<li id=\"menu-item-43746\" class=\"menu-item menu-item-type-custom menu-item-object-custom menu-item-has-children menu-item-43746\"><a href=\"#\"><span class=\"menu-item-title-wrap\">Sains</span><div class=\"caret-wrap 2\" tabindex=\"0\"><span class=\"caret\"><svg xmlns=\"http://www.w3.org/2000/svg\" viewBox=\"0 0 448 512\"><path d=\"M207.029 381.476L12.686 187.132c-9.373-9.373-9.373-24.569 0-33.941l22.667-22.667c9.357-9.357 24.522-9.375 33.901-.04L224 284.505l154.745-154.021c9.379-9.335 24.544-9.317 33.901.04l22.667 22.667c9.373 9.373 9.373 24.569 0 33.941L240.971 381.476c-9.373 9.372-24.569 9.372-33.942 0z\"/></svg></span></div></a>\\n<ul class=\"sub-menu\">\\n<li id=\"menu-item-32644\" class=\"menu-item menu-item-type-taxonomy menu-item-object-category menu-item-32644\"><a href=\"https://warstek.com/category/sains-alam/\">Sains Alam</a></li>\\n<li id=\"menu-item-32645\" class=\"menu-item menu-item-type-taxonomy menu-item-object-category menu-item-32645\"><a href=\"https://warstek.com/category/sains-sosial/\">Sains Sosial</a></li>\\n</ul>\\n</li>\\n<li id=\"menu-item-32646\" class=\"menu-item menu-item-type-taxonomy menu-item-object-category menu-item-32646\"><a href=\"https://warstek.com/category/teknologi/\">Teknologi</a></li>\\n<li id=\"menu-item-44128\" class=\"menu-item menu-item-type-custom menu-item-object-custom menu-item-44128\"><a href=\"https://warstek.com/materi/\">Materi Sekolah</a></li>\\n<li id=\"menu-item-43747\" class=\"menu-item menu-item-type-custom menu-item-object-custom menu-item-43747\"><a href=\"https://warstek.com/dashboard\">Kontributor</a></li>\\n<li id=\"menu-item-32647\" class=\"menu-item menu-item-type-post_type menu-item-object-page menu-item-32647\"><a href=\"https://warstek.com/kontak/\">Kontak</a></li>\\n<li class=\"menu-item-nav-search minimal\" id=\"nv-menu-item-search-1\" tabindex=\"0\" aria-label=\"search\"><a href=\"#\" class=\"nv-nav-search-icon\"><div class=\"nv-icon nv-search\"> <svg width=\"15\" height=\"15\" viewBox=\"0 0 1792 1792\" xmlns=\"http://www.w3.org/2000/svg\"><path d=\"M1216 832q0-185-131.5-316.5t-316.5-131.5-316.5 131.5-131.5 316.5 131.5 316.5 316.5 131.5 316.5-131.5 131.5-316.5zm512 832q0 52-38 90t-90 38q-54 0-90-38l-343-342q-179 124-399 124-143 0-273.5-55.5t-225-150-150-225-55.5-273.5 55.5-273.5 150-225 225-150 273.5-55.5 273.5 55.5 225 150 150 225 55.5 273.5q0 220-124 399l343 343q37 37 37 90z\"/></svg></div></a><div class=\"nv-nav-search\"><form role=\"search\" method=\"get\" class=\"search-form\" action=\"https://warstek.com/\"> <label> <span class=\"screen-reader-text\">Cari untuk:</span> <input type=\"search\" class=\"search-field\" placeholder=\"Cari &hellip;\" value=\"\" name=\"s\" /> </label> <input type=\"submit\" class=\"search-submit\" value=\"Cari\" /> <div class=\"nv-search-icon-wrap\"><div class=\"nv-icon nv-search\"> <svg width=\"15\" height=\"15\" viewBox=\"0 0 1792 1792\" xmlns=\"http://www.w3.org/2000/svg\"><path d=\"M1216 832q0-185-131.5-316.5t-316.5-131.5-316.5 131.5-131.5 316.5 131.5 316.5 316.5 131.5 316.5-131.5 131.5-316.5zm512 832q0 52-38 90t-90 38q-54 0-90-38l-343-342q-179 124-399 124-143 0-273.5-55.5t-225-150-150-225-55.5-273.5 55.5-273.5 150-225 225-150 273.5-55.5 273.5 55.5 225 150 150 225 55.5 273.5q0 220-124 399l343 343q37 37 37 90z\"/></svg></div></div></form></div></li></ul></div></div></div></div></div></div></div></nav>\\n<div class=\"header--row header-bottom hide-on-mobile hide-on-tablet layout-fullwidth header--row\" data-row-id=\"bottom\" data-show-on=\"desktop\">\\n<div class=\"header--row-inner header-bottom-inner\">\\n<div class=\"container\">\\n<div class=\"row row--wrapper\" data-section=\"hfg_header_layout_bottom\">\\n<div class=\"builder-item hfg-item-last hfg-item-first col-12 desktop-center\"><div class=\"item--inner builder-item--custom_html\" data-section=\"custom_html\" data-item-id=\"custom_html\">\\n<div class=\"nv-html-content\"> <p>Sains dan Teknologi yang Seru dan Menyenangkan</p></div></div></div></div></div></div></div><nav class=\"header--row header-main hide-on-desktop layout-full-contained nv-navbar header--row\" data-row-id=\"main\" data-show-on=\"mobile\">\\n<div class=\"header--row-inner header-main-inner\">\\n<div class=\"container\">\\n<div class=\"row row--wrapper\" data-section=\"hfg_header_layout_main\">\\n<div class=\"builder-item hfg-item-first col-8 tablet-left mobile-left\"><div class=\"item--inner builder-item--logo\" data-section=\"title_tagline\" data-item-id=\"logo\">\\n<div class=\"site-logo\"> <a class=\"brand\" href=\"https://warstek.com/\" title=\"Warung Sains Teknologi\" aria-label=\"Warung Sains Teknologi\"><img width=\"296\" height=\"90\" src=\"https://warstek.com/wp-content/uploads/2017/08/footer-logo-copy-1.png\" class=\"skip-lazy\" alt=\"\" loading=\"lazy\"/></a></div></div></div><div class=\"builder-item hfg-item-last col-4 tablet-right mobile-right\"><div class=\"item--inner builder-item--nav-icon\" data-section=\"header_menu_icon\" data-item-id=\"nav-icon\">\\n<div class=\"menu-mobile-toggle item-button navbar-toggle-wrapper\">\\n<button class=\"navbar-toggle\"\\naria-label=\"\\nMenu Navigasi\\t\\t\\t\">\\n<div class=\"bars\"> <span class=\"icon-bar\"></span> <span class=\"icon-bar\"></span> <span class=\"icon-bar\"></span></div><span class=\"screen-reader-text\">Tombol Navigasi</span>\\n</button></div></div></div></div></div></div></nav>\\n<div id=\"header-menu-sidebar\" class=\"header-menu-sidebar menu-sidebar-panel slide_left\">\\n<div id=\"header-menu-sidebar-bg\" class=\"header-menu-sidebar-bg\">\\n<div class=\"close-sidebar-panel navbar-toggle-wrapper\">\\n<button class=\"navbar-toggle active\" \\t\\t\\t\\t\\taria-label=\"\\nMenu Navigasi\\t\\t\\t\\t\">\\n<div class=\"bars\"> <span class=\"icon-bar\"></span> <span class=\"icon-bar\"></span> <span class=\"icon-bar\"></span></div><span class=\"screen-reader-text\">\\nTombol Navigasi\\t\\t\\t\\t\\t</span>\\n</button></div><div id=\"header-menu-sidebar-inner\" class=\"header-menu-sidebar-inner\">\\n<div class=\"builder-item has-nav hfg-item-last hfg-item-first col-12 desktop-right tablet-left mobile-left\"><div class=\"item--inner builder-item--primary-menu has_menu\" data-section=\"header_menu_primary\" data-item-id=\"primary-menu\">\\n<div class=\"nv-nav-wrap\">\\n<div role=\"navigation\" class=\"style-plain nav-menu-primary\" aria-label=\"Menu Utama\">\\n<ul id=\"nv-primary-navigation-sidebar\" class=\"primary-menu-ul nav-ul\"><li class=\"menu-item menu-item-type-custom menu-item-object-custom menu-item-home menu-item-32620\"><a href=\"https://warstek.com\">Beranda</a></li>\\n<li class=\"menu-item menu-item-type-custom menu-item-object-custom menu-item-has-children menu-item-43746\"><a href=\"#\"><span class=\"menu-item-title-wrap\">Sains</span><div class=\"caret-wrap 2\" tabindex=\"0\"><span class=\"caret\"><svg xmlns=\"http://www.w3.org/2000/svg\" viewBox=\"0 0 448 512\"><path d=\"M207.029 381.476L12.686 187.132c-9.373-9.373-9.373-24.569 0-33.941l22.667-22.667c9.357-9.357 24.522-9.375 33.901-.04L224 284.505l154.745-154.021c9.379-9.335 24.544-9.317 33.901.04l22.667 22.667c9.373 9.373 9.373 24.569 0 33.941L240.971 381.476c-9.373 9.372-24.569 9.372-33.942 0z\"/></svg></span></div></a>\\n<ul class=\"sub-menu\">\\n<li class=\"menu-item menu-item-type-taxonomy menu-item-object-category menu-item-32644\"><a href=\"https://warstek.com/category/sains-alam/\">Sains Alam</a></li>\\n<li class=\"menu-item menu-item-type-taxonomy menu-item-object-category menu-item-32645\"><a href=\"https://warstek.com/category/sains-sosial/\">Sains Sosial</a></li>\\n</ul>\\n</li>\\n<li class=\"menu-item menu-item-type-taxonomy menu-item-object-category menu-item-32646\"><a href=\"https://warstek.com/category/teknologi/\">Teknologi</a></li>\\n<li class=\"menu-item menu-item-type-custom menu-item-object-custom menu-item-44128\"><a href=\"https://warstek.com/materi/\">Materi Sekolah</a></li>\\n<li class=\"menu-item menu-item-type-custom menu-item-object-custom menu-item-43747\"><a href=\"https://warstek.com/dashboard\">Kontributor</a></li>\\n<li class=\"menu-item menu-item-type-post_type menu-item-object-page menu-item-32647\"><a href=\"https://warstek.com/kontak/\">Kontak</a></li>\\n<li class=\"menu-item-nav-search minimal\" id=\"nv-menu-item-search-2\" tabindex=\"0\" aria-label=\"search\"><a href=\"#\" class=\"nv-nav-search-icon\"><div class=\"nv-icon nv-search\"> <svg width=\"15\" height=\"15\" viewBox=\"0 0 1792 1792\" xmlns=\"http://www.w3.org/2000/svg\"><path d=\"M1216 832q0-185-131.5-316.5t-316.5-131.5-316.5 131.5-131.5 316.5 131.5 316.5 316.5 131.5 316.5-131.5 131.5-316.5zm512 832q0 52-38 90t-90 38q-54 0-90-38l-343-342q-179 124-399 124-143 0-273.5-55.5t-225-150-150-225-55.5-273.5 55.5-273.5 150-225 225-150 273.5-55.5 273.5 55.5 225 150 150 225 55.5 273.5q0 220-124 399l343 343q37 37 37 90z\"/></svg></div></a><div class=\"nv-nav-search\"><form role=\"search\" method=\"get\" class=\"search-form\" action=\"https://warstek.com/\"> <label> <span class=\"screen-reader-text\">Cari untuk:</span> <input type=\"search\" class=\"search-field\" placeholder=\"Cari &hellip;\" value=\"\" name=\"s\" /> </label> <input type=\"submit\" class=\"search-submit\" value=\"Cari\" /> <div class=\"nv-search-icon-wrap\"><div class=\"nv-icon nv-search\"> <svg width=\"15\" height=\"15\" viewBox=\"0 0 1792 1792\" xmlns=\"http://www.w3.org/2000/svg\"><path d=\"M1216 832q0-185-131.5-316.5t-316.5-131.5-316.5 131.5-131.5 316.5 131.5 316.5 316.5 131.5 316.5-131.5 131.5-316.5zm512 832q0 52-38 90t-90 38q-54 0-90-38l-343-342q-179 124-399 124-143 0-273.5-55.5t-225-150-150-225-55.5-273.5 55.5-273.5 150-225 225-150 273.5-55.5 273.5 55.5 225 150 150 225 55.5 273.5q0 220-124 399l343 343q37 37 37 90z\"/></svg></div></div></form></div></li></ul></div></div></div></div></div></div></div><div class=\"header-menu-sidebar-overlay\"></div></div></header>\\n<main id=\"content\" class=\"neve-main\" role=\"main\">\\n<div class=\"container single-post-container\">\\n<div class=\"row\">\\n<article id=\"post-53105\" class=\"nv-single-post-wrap col post-53105 post type-post status-publish format-standard has-post-thumbnail hentry category-astronomi category-pilihan-editor tag-benda-langit tag-komet tag-komet-raksasa tag-luar-angkasa\">\\n<div class=\"entry-header\"><div class=\"nv-title-meta-wrap\"><h1 class=\"title entry-title \">Penemuan Komet Raksasa, Diameternya Ratusan Kilometer</h1><ul class=\"nv-meta-list\"><li class=\"meta author vcard\"><span class=\"author-name fn\">by <a href=\"https://warstek.com/author/maratus-sholikah/\" title=\"Posts by Maratus Sholikah\" rel=\"author\">Maratus Sholikah</a></span></li><li class=\"meta date posted-on\"><time class=\"entry-date published\" datetime=\"2021-10-06T00:36:16+07:00\" content=\"2021-10-06\">06 Oktober 2021</time><time class=\"updated\" datetime=\"2021-10-06T00:36:19+07:00\">06 Oktober 2021</time></li></ul></div></div><div class=\"nv-thumb-wrap\"><img width=\"930\" height=\"620\" src=\"https://warstek.com/wp-content/uploads/2021/09/9696d4bdf9-930x620.jpg\" class=\"skip-lazy wp-post-image\" alt=\"\" loading=\"lazy\"/></div><div class=\"nv-content-wrap entry-content\">\\n<div class=\"quads-location quads-ad1\" id=\"quads-ad1\" style=\"float:none;margin:0px 0 0px 0;text-align:center;\">\\n<script async src=\"//pagead2.googlesyndication.com/pagead/js/adsbygoogle.js\"></script>\\n<ins class=\"adsbygoogle\" style=\"display:block; text-align:center;\" data-ad-layout=\"in-article\" data-ad-format=\"fluid\" data-ad-client=\"ca-pub-9638064869561472\" data-ad-slot=\"6075996024\"></ins>\\n<script>(adsbygoogle=window.adsbygoogle||[]).push({});</script></div><h2><span id=\"Komet\">Komet</span></h2>\\n<p class=\"has-text-align-justify\"><strong>Komet</strong>&nbsp;adalah benda&nbsp;langit&nbsp;yang mengelilingi&nbsp;matahari&nbsp;dengan&nbsp;garis edar&nbsp;berbentuk&nbsp;lonjong,&nbsp;parabolis, atau&nbsp;hiperbolis.</p>\\n<p class=\"has-text-align-justify\">Istilah â\\x80\\x9ckometâ\\x80\\x9d berasal dari&nbsp;bahasa Yunani,&nbsp;<em>kometes</em>&nbsp;(ÎºÎ¿Î¼Î®Ï\\x84Î·Ï\\x82) yang berarti â\\x80\\x9crambut panjangâ\\x80\\x9d.&nbsp;Istilah lainnya adalah&nbsp;<strong>bintang berekor</strong> yang tidak tepat karena komet sama sekali bukan&nbsp;bintang.&nbsp;Orang Jawa menyebutnya sebagai&nbsp;<em>lintang kemukus</em>&nbsp;karena memiliki ekor mirip â\\x80\\x98kukusâ\\x80\\x99 atau berdebu. Di samping itu, ekornya juga mirip buah&nbsp;kemukus&nbsp;yang dikeringkan.</p>\\n<p class=\"has-text-align-justify\">Komet terbentuk dari&nbsp;es&nbsp;dan debu.&nbsp;Komet terdiri dari kumpulan&nbsp;debu&nbsp;dan&nbsp;gas&nbsp;yang&nbsp;membeku&nbsp;pada saat berada jauh dari Matahari.&nbsp;Ketika mendekati Matahari, sebagian&nbsp;bahan&nbsp;penyusun komet&nbsp;menguap&nbsp;membentuk kepala gas dan&nbsp;ekor.&nbsp;Komet juga mengelilingi Matahari, sehingga termasuk dalam sistem&nbsp;tata surya. Komet merupakan&nbsp;gas pijar&nbsp;dengan garis edar yang berbeda-beda.&nbsp;Panjang â\\x80\\x9cekorâ\\x80\\x9d komet dapat mencapai&nbsp;jutaan&nbsp;km.&nbsp;Beberapa komet menempuh jarak lebih jauh di luar&nbsp;angkasa&nbsp;daripada&nbsp;planet.&nbsp;Beberapa komet membutuhkan&nbsp;ribuan tahun&nbsp;untuk menyelesaikan satu kali&nbsp;mengorbit&nbsp;Matahari.</p>\\n<div class=\"quads-location quads-ad3\" id=\"quads-ad3\" style=\"float:none;margin:0px 0 0px 0;text-align:center;\">\\n<script async src=\"//pagead2.googlesyndication.com/pagead/js/adsbygoogle.js\"></script>\\n<ins class=\"adsbygoogle\" style=\"display:block; text-align:center;\" data-ad-layout=\"in-article\" data-ad-format=\"fluid\" data-ad-client=\"ca-pub-9638064869561472\" data-ad-slot=\"6075996024\"></ins>\\n<script>(adsbygoogle=window.adsbygoogle||[]).push({});</script></div><p class=\"has-text-align-justify\">Komet dapat dilihat ketika masih jauh dari matahari, bagian yang pertama kali dilihat adalah inti. Komet merupakan benda angkasa yang mirip&nbsp;asteroid, tetapi hampir seluruhnya terbentuk dari gas (karbon dioksida,&nbsp;metana,&nbsp;air) dan debu yang membeku.</p>\\n<p class=\"has-text-align-justify\">Seering juga disebut dengan&nbsp;<strong>bintang berekor</strong>. Yang memiliki&nbsp;orbit&nbsp;atau lintasan yang berbentuk elips, lebih lonjong dan panjang daripada orbit planet. Komet merupakan benda angkasa seperti lapisan batu yang terlihat mempunyai cahaya dikarenakan adanya gesekan-gesekan atom-atom di udara.</p>\\n<h2><span id=\"Penemuan_Komet_Raksasa\">Penemuan Komet Raksasa</span></h2>\\n<p class=\"has-text-align-justify\">Dua&nbsp;astronom&nbsp;menemukan komet terbesar yang pernah terlihat di Tata Surya.&nbsp;Komet&nbsp;ini ditemukan saat keduanya menyisir data yang dikumpulkan oleh Dark Energy Survey.</p>\\n<p class=\"has-text-align-justify\">Dikutip dari&nbsp;<em>Cnet,</em>&nbsp;komet tersebut ini dikatalogkan sebagai Komet C/2014 UN271, tetapi juga dikenal sebagai Komet Bernardinelli-Bernstein yang diambil dari nama duo penemunya, Pedro Bernardinelli dan Gary Bernstein. Keduanya sama-sama berasal dari University of Pennsylvania.</p>\\n<p class=\"has-text-align-justify\">Jika kalian penasaran sebesar apa komet ini hingga disebut raksasa, perkiraan awal Bernardinelli dan Bernstein menyebutkan komet memiliki diameter mencapai 200 kilometer.</p>\\n<p class=\"has-text-align-justify\">Namun ketika penelitian ini diajukan untuk dipublikasikan di The Astrophysical Journal Letters, perkiraan lebar diameter tersebut ditetapkan menjadi â\\x80\\x9chanyaâ\\x80\\x9d 150 kilometer. Ukuran ini tetap menandakan komet tersebut berwujud raksasa.&nbsp;Komet&nbsp;Bernardinelli-Bernstein memiliki massa 10 kali lipat dari Komet Hale-Bopp, yang dikenal sebagai Komet Besar 1997.</p>\\n<p class=\"has-text-align-justify\">Sementara itu, astronom Will Gater mengumpulkan banyak ilustrasi objek Tata Surya terkenal lainnya untuk mencatat skala seberapa besar bola raksasa di antariksa ini sebenarnya. Hal ini sempat dipublish dalam akun twitternya.</p>\\n<div class=\"wp-block-image\"><figure class=\"aligncenter size-large\"><img onload=\"Wpfcll.r(this,true);\" src=\"https://warstek.com/wp-content/plugins/wp-fastest-cache-premium/pro/images/blank.gif\" loading=\"lazy\" width=\"595\" height=\"1024\" data-wpfc-original-src=\"https://warstek.com/wp-content/uploads/2021/09/20210927_134120-595x1024.jpg\" alt=\"blank\" class=\"wp-image-53107\" data-wpfc-original-srcset=\"https://warstek.com/wp-content/uploads/2021/09/20210927_134120-595x1024.jpg 595w, https://warstek.com/wp-content/uploads/2021/09/20210927_134120-174x300.jpg 174w, https://warstek.com/wp-content/uploads/2021/09/20210927_134120.jpg 663w\" data-wpfc-original-sizes=\"(max-width: 595px) 100vw, 595px\"></figure></div><p class=\"has-text-align-justify\">Hasil perbandingannya lebih mengejutkan lagi. Mega komet ini ternyata jauh lebih besar dari bulan terbesar milik Mars. Jika kita berimajinasi meletakkan dua bulannya Mars, Phobos dan Deimos, berdampingan dengan Komet Bernardinelli-Bernstein, maka akan terlihat ukuran komet ini dua kali lipat dari Phobos dan Deimos.</p>\\n<p class=\"has-text-align-justify\">Menurut peneliti, komet besar ini tidak menimbulkan ancaman bertabrakan dengan Bumi dan menyebabkan peristiwa seperti zaman kepunahan dinosaurus. Namun, saat ini komet tersebut sedang menuju Tata Surya bagian dalam dan akan membuat lintasan terdekatnya dengan Matahari kita pada tahun 2031.</p>\\n<p class=\"has-text-align-justify\">Komet&nbsp;ini sepertinya akan menampilkan pertunjukan yang cukup bagus untuk para astronom dalam dekade mendatang. Bahkan, sejak sekarang Komet Bernardinelli-Bernstein sudah mulai memamerkan penampakannya lewat ledakan dan aktivitas peningkatan kecerahan yang dilaporkan oleh Las Cumbres Observatory awal bulan ini.</p>\\n<p><strong>REFERENSI:</strong></p>\\n<ul><li><a href=\"https://curlie.org/Science/Astronomy/Solar_System/Small_Bodies/Comets/\">Comets</a>Â\\xa0di Curlie (dariÂ\\xa0<a href=\"https://id.m.wikipedia.org/wiki/DMOZ\">DMOZ</a>) diakses pada 6 Oktober 2021.</li><li><a href=\"http://solarsystem.nasa.gov/planets/profile.cfm?Object=Comets\">Comets Page</a>Â\\xa0<a href=\"https://web.archive.org/web/20110219084029/http://solarsystem.nasa.gov/\">Diarsipkan</a>Â\\xa02011-02-19 diÂ\\xa0<a href=\"https://id.m.wikipedia.org/wiki/Wayback_Machine\">Wayback Machine</a>. atÂ\\xa0<a href=\"http://solarsystem.nasa.gov/\">NASAâ\\x80\\x99s Solar System Exploration</a> diakses pada 6 Oktober 2021.</li><li>Mikrajuddin.Â\\xa0<em>IPA FISIKA: â\\x80\\x93 Jilid 3.</em>Â\\xa0Esis.</li><li>Hartono.Â\\xa0<em>Geografi: Jelajah Bumi dan Alam Semesta.</em>PT Grafindo Media Pratama.</li></ul>\\n<p></p>\\n<div class=\"rmp-widgets-container rmp-wp-plugin rmp-main-container js-rmp-widgets-container js-rmp-widgets-container--53105\" data-post-id=\"53105\">      <div class=\"rmp-rating-widget js-rmp-rating-widget\">          <p class=\"rmp-heading rmp-heading--title\">        Setelah selesai membaca, yuk berikan artikel ini penilaian!      </p>              <p class=\"rmp-heading rmp-heading--subtitle\">        Klik berdasarkan jumlah bintang untuk menilai!      </p>\\n<div class=\"quads-location quads-ad5\" id=\"quads-ad5\" style=\"float:none;margin:0px 0 0px 0;text-align:center;\">\\n<script async src=\"//pagead2.googlesyndication.com/pagead/js/adsbygoogle.js\"></script>\\n<ins class=\"adsbygoogle\" style=\"display:block; text-align:center;\" data-ad-layout=\"in-article\" data-ad-format=\"fluid\" data-ad-client=\"ca-pub-9638064869561472\" data-ad-slot=\"6075996024\"></ins>\\n<script>(adsbygoogle=window.adsbygoogle||[]).push({});</script></div><div class=\"rmp-rating-widget__icons\"> <ul class=\"rmp-rating-widget__icons-list js-rmp-rating-icons-list\"> <li class=\"rmp-rating-widget__icons-list__icon js-rmp-rating-item\" data-descriptive-rating=\"Artikel Menyesatkan\" data-value=\"1\"> <i class=\"js-rmp-rating-icon rmp-icon rmp-icon--ratings rmp-icon--star\"></i> </li> <li class=\"rmp-rating-widget__icons-list__icon js-rmp-rating-item\" data-descriptive-rating=\"Artikel Kurang Berkualitas\" data-value=\"2\"> <i class=\"js-rmp-rating-icon rmp-icon rmp-icon--ratings rmp-icon--star\"></i> </li> <li class=\"rmp-rating-widget__icons-list__icon js-rmp-rating-item\" data-descriptive-rating=\"Artikel Biasa Saja\" data-value=\"3\"> <i class=\"js-rmp-rating-icon rmp-icon rmp-icon--ratings rmp-icon--star\"></i> </li> <li class=\"rmp-rating-widget__icons-list__icon js-rmp-rating-item\" data-descriptive-rating=\"Artikel Bermanfaat\" data-value=\"4\"> <i class=\"js-rmp-rating-icon rmp-icon rmp-icon--ratings rmp-icon--star\"></i> </li> <li class=\"rmp-rating-widget__icons-list__icon js-rmp-rating-item\" data-descriptive-rating=\"Artikel Sangat Bermanfaat\" data-value=\"5\"> <i class=\"js-rmp-rating-icon rmp-icon rmp-icon--ratings rmp-icon--star\"></i> </li> </ul></div><p class=\"rmp-rating-widget__hover-text js-rmp-hover-text\"></p>    <button class=\"rmp-rating-widget__submit-btn rmp-btn js-submit-rating-btn\">      Berikan penilaian    </button>    <p class=\"rmp-rating-widget__results js-rmp-results rmp-rating-widget__results--hidden\">      Rata-rata nilai <span class=\"rmp-rating-widget__results__rating js-rmp-avg-rating\">0</span> / 5. Banyaknya vote: <span class=\"rmp-rating-widget__results__votes js-rmp-vote-count\">0</span>    </p>    <p class=\"rmp-rating-widget__not-rated js-rmp-not-rated\">      Belum ada yang menilai! Yuk jadi yang pertama kali menilai!    </p>    <p class=\"rmp-rating-widget__msg js-rmp-msg\">\\n</p><div class=\"quads-location quads-ad4\" id=\"quads-ad4\" style=\"float:none;margin:0px 0 0px 0;text-align:center;\">\\nBaca juga:\\n<br>\\n<script async src=\"//pagead2.googlesyndication.com/pagead/js/adsbygoogle.js\"></script>\\n<ins class=\"adsbygoogle\" style=\"display:inline-block;width:100%;height:150px\" data-ad-client=\"ca-pub-9638064869561472\" data-ad-slot=\"5198682179\"></ins>\\n<script>(adsbygoogle=window.adsbygoogle||[]).push({});</script></div></div></div><div class=\"abh_box abh_box_down abh_box_business\"><ul class=\"abh_tabs\"> <li class=\"abh_about abh_active\"><a href=\"#abh_about\">About</a></li> <li class=\"abh_posts\"><a href=\"#abh_posts\">Latest Posts</a></li></ul><div class=\"abh_tab_content\"><section class=\"vcard author abh_about_tab abh_tab\" itemscope itemprop=\"author\" itemtype=\"http://schema.org/Person\" style=\"display:block\"><div class=\"abh_image\" itemscope itemtype=\"http://schema.org/ImageObject\"><a href=\"https://warstek.com/author/maratus-sholikah/\" class=\"url\" title=\"Maratus Sholikah\"> <img onload=\"Wpfcll.r(this,true);\" src=\"https://warstek.com/wp-content/plugins/wp-fastest-cache-premium/pro/images/blank.gif\" data-wpfc-original-src=\"https://warstek.com/wp-content/uploads/ultimatemember/1114/profile_photo-190x190.jpg?1634803207\" class=\"gravatar avatar avatar-250 um-avatar um-avatar-uploaded\" width=\"250\" height=\"250\" alt=\"Maratus Sholikah\" data-default=\"https://warstek.com/wp-content/uploads/2017/12/logo-warstek-bulat.png\" onerror=\"if ( ! this.getAttribute(\\'data-load-error\\') ){ this.setAttribute(\\'data-load-error\\',\\'1\\');this.setAttribute(\\'src\\', this.getAttribute(\\'data-default\\'));}\"></a></div><div class=\"abh_social\"> <a itemprop=\"sameAs\" href=\"http://facebook.com/Maratus%20Sholikah\" title=\"Facebook\" class=\"abh_facebook\" target=\"_blank\" rel=\"nofollow\"></a></div><div class=\"abh_text\"><div class=\"abh_name fn name\" itemprop=\"name\"><a href=\"https://warstek.com/author/maratus-sholikah/\" class=\"url\">Maratus Sholikah</a></div><div class=\"abh_job\"></div><div class=\"description note abh_description\" itemprop=\"description\">Alumni S1 Fisika Teori Universitas Islam Negeri Maulana Malik Ibrahim Malang</div></div></section><section class=\"abh_posts_tab abh_tab\"><div class=\"abh_image\"><a href=\"https://warstek.com/author/maratus-sholikah/\" class=\"url\" title=\"Maratus Sholikah\"><img onload=\"Wpfcll.r(this,true);\" src=\"https://warstek.com/wp-content/plugins/wp-fastest-cache-premium/pro/images/blank.gif\" data-wpfc-original-src=\"https://warstek.com/wp-content/uploads/ultimatemember/1114/profile_photo-190x190.jpg?1634803207\" class=\"gravatar avatar avatar-250 um-avatar um-avatar-uploaded\" width=\"250\" height=\"250\" alt=\"Maratus Sholikah\" data-default=\"https://warstek.com/wp-content/uploads/2017/12/logo-warstek-bulat.png\" onerror=\"if ( ! this.getAttribute(\\'data-load-error\\') ){ this.setAttribute(\\'data-load-error\\',\\'1\\');this.setAttribute(\\'src\\', this.getAttribute(\\'data-default\\'));}\"></a></div><div class=\"abh_social\"> <ahref sholikah title=\"Facebook\" class=\"abh_facebook\" target=\"_blank\" rel=\"nofollow\"></ahref></div><div class=\"abh_text\"><div class=\"abh_name\">Latest posts by Maratus Sholikah <span class=\"abh_allposts\">(<a href=\"https://warstek.com/author/maratus-sholikah/\">see all</a>)</span></div><div class=\"abh_description note\"><ul> <li> <a href=\"https://warstek.com/komet-raksasa/\">Penemuan Komet Raksasa, Diameternya Ratusan Kilometer</a><span> - 06 Oktober 2021</span> </li> <li> <a href=\"https://warstek.com/lubang-di-luar-angkasa/\">Benarkah Lubang Kosong di Luar Angkasa Telah Ditemukan?</a><span> - 26 September 2021</span> </li> <li> <a href=\"https://warstek.com/kamboja-drone/\">Mahasiswa Kamboja Kembangkan Drone yang Mampu Membawa Manusia</a><span> - 24 September 2021</span> </li></ul></div></div></section></div></div><div class=\"sharedaddy sd-sharing-enabled\"><div class=\"robots-nocontent sd-block sd-social sd-social-icon-text sd-sharing\"><h3 class=\"sd-title\"><span id=\"Bagikan_ini\">Bagikan ini:</span></h3><div class=\"sd-content\"><ul><li class=\"share-print\"><a rel=\"nofollow noopener noreferrer\" data-shared=\"\" class=\"share-print sd-button share-icon\" href=\"https://warstek.com/komet-raksasa/#print\" target=\"_blank\" title=\"Klik untuk mencetak\"><span>Cetak</span></a></li><li class=\"share-jetpack-whatsapp\"><a rel=\"nofollow noopener noreferrer\" data-shared=\"\" class=\"share-jetpack-whatsapp sd-button share-icon\" href=\"https://warstek.com/komet-raksasa/?share=jetpack-whatsapp\" target=\"_blank\" title=\"Klik untuk berbagi di WhatsApp\"><span>WhatsApp</span></a></li><li class=\"share-facebook\"><a rel=\"nofollow noopener noreferrer\" data-shared=\"sharing-facebook-53105\" class=\"share-facebook sd-button share-icon\" href=\"https://warstek.com/komet-raksasa/?share=facebook\" target=\"_blank\" title=\"Klik untuk membagikan di Facebook\"><span>Facebook</span></a></li><li class=\"share-twitter\"><a rel=\"nofollow noopener noreferrer\" data-shared=\"sharing-twitter-53105\" class=\"share-twitter sd-button share-icon\" href=\"https://warstek.com/komet-raksasa/?share=twitter\" target=\"_blank\" title=\"Klik untuk berbagi pada Twitter\"><span>Twitter</span></a></li><li class=\"share-telegram\"><a rel=\"nofollow noopener noreferrer\" data-shared=\"\" class=\"share-telegram sd-button share-icon\" href=\"https://warstek.com/komet-raksasa/?share=telegram\" target=\"_blank\" title=\"Klik untuk berbagi di Telegram\"><span>Telegram</span></a></li><li class=\"share-end\"></ul></div></div></div><div class=\"quads-location quads-ad2\" id=\"quads-ad2\" style=\"float:none;margin:0px 0 0px 0;text-align:center;\">\\nArtikel Berhubungan:\\n<script async src=\"//pagead2.googlesyndication.com/pagead/js/adsbygoogle.js\"></script>\\n<ins class=\"adsbygoogle\" style=\"display:block\" data-ad-format=\"autorelaxed\" data-ad-client=\"ca-pub-9638064869561472\" data-ad-slot=\"4368873124\"></ins>\\n<script>(adsbygoogle=window.adsbygoogle||[]).push({});</script>\\n<br>\\n<br> <style>div#btm_banner{width:100%;bottom:0;left:0;position:fixed;opacity:0.9;}div#btm_banner img{border:0;cursor:pointer;}</style><div style=\"height: 0px;\"></div><div align=\"center\" id=\"btm_banner\" style=\"height: 100px; z-index: 9999;\"><div style=\"text-align: right; width: 320px; height: 6px;\"></div><div style=\"clear: both;\"></div><p></p><p></p><center>\\n<center><div style=\"position:fixed;bottom:0; width:100%;\"><ins class=\"adsbyadop\" _adop_zon=\"6e6a8d7b-22fe-46c3-896b-2b87c25df83b\" _adop_type=\"rs\" style=\"display:inline-block;width:320px;height:50px;\" _page_url=\"\" _over_size=\"auto\" _over_zone=\\'{\"728x90\":\"68af245d-5c6b-41b8-8d8f-df928265291d\"}\\'></ins></div></center>\\n</center></div><div id=\"ADOP_V_c1RqTHa2x8\" style=\"height:0;\"></div></div></div><div class=\"nv-tags-list\"><span>Tag:</span><a href=https://warstek.com/tag/benda-langit/ title=\"Benda langit\" class=benda-langit rel=\"tag\">Benda langit</a><a href=https://warstek.com/tag/komet/ title=\"Komet\" class=komet rel=\"tag\">Komet</a><a href=https://warstek.com/tag/komet-raksasa/ title=\"Komet raksasa\" class=komet-raksasa rel=\"tag\">Komet raksasa</a><a href=https://warstek.com/tag/luar-angkasa/ title=\"luar angkasa\" class=luar-angkasa rel=\"tag\">luar angkasa</a></div><div id=\"comments\" class=\"comments-area\">\\n<div id=\"respond\" class=\"comment-respond\">\\n<h3 id=\"reply-title\" class=\"comment-reply-title\">Tinggalkan Balasan <small><a rel=\"nofollow\" id=\"cancel-comment-reply-link\" href=\"/komet-raksasa/#respond\" style=\"display:none;\">Batalkan balasan</a></small></h3><form action=\"https://warstek.com/wp-comments-post.php\" method=\"post\" id=\"commentform\" class=\"comment-form\"><p class=\"comment-notes\"><span id=\"email-notes\">Alamat email Anda tidak akan dipublikasikan.</span> Ruas yang wajib ditandai <span class=\"required\">*</span></p><p class=\"comment-form-comment\"><label for=\"comment\">Komentar</label> <textarea id=\"comment\" name=\"comment\" cols=\"45\" rows=\"8\" maxlength=\"65525\" required=\"required\"></textarea></p><p class=\"comment-form-author\"><label for=\"author\">Nama <span class=\"required\">*</span></label> <input id=\"author\" name=\"author\" type=\"text\" value=\"\" size=\"30\" maxlength=\"245\" required=\\'required\\' /></p>\\n<p class=\"comment-form-email\"><label for=\"email\">Email <span class=\"required\">*</span></label> <input id=\"email\" name=\"email\" type=\"text\" value=\"\" size=\"30\" maxlength=\"100\" aria-describedby=\"email-notes\" required=\\'required\\' /></p>\\n<p class=\"comment-form-url\"><label for=\"url\">Situs Web</label> <input id=\"url\" name=\"url\" type=\"text\" value=\"\" size=\"30\" maxlength=\"200\" /></p>\\n<p class=\"form-submit\"><input name=\"submit\" type=\"submit\" id=\"submit\" class=\"submit\" value=\"Kirim Komentar\" /> <input type=\\'hidden\\' name=\\'comment_post_ID\\' value=\\'53105\\' id=\\'comment_post_ID\\' />\\n<input type=\\'hidden\\' name=\\'comment_parent\\' id=\\'comment_parent\\' value=\\'0\\' />\\n</p></form></div></div></article>\\n<div class=\"nv-sidebar-wrap col-sm-12 nv-right blog-sidebar\">\\n<aside id=\"secondary\" role=\"complementary\">\\n<div id=\"search-3\" class=\"widget widget_search\"><p class=\"widget-title\">Cari Artikel</p><form role=\"search\" method=\"get\" class=\"search-form\" action=\"https://warstek.com/\">\\n<label>\\n<span class=\"screen-reader-text\">Cari untuk:</span>\\n<input type=\"search\" class=\"search-field\" placeholder=\"Cari &hellip;\" value=\"\" name=\"s\" />\\n</label>\\n<input type=\"submit\" class=\"search-submit\" value=\"Cari\" />\\n<div class=\"nv-search-icon-wrap\"><div class=\"nv-icon nv-search\"> <svg width=\"15\" height=\"15\" viewBox=\"0 0 1792 1792\" xmlns=\"http://www.w3.org/2000/svg\"><path d=\"M1216 832q0-185-131.5-316.5t-316.5-131.5-316.5 131.5-131.5 316.5 131.5 316.5 316.5 131.5 316.5-131.5 131.5-316.5zm512 832q0 52-38 90t-90 38q-54 0-90-38l-343-342q-179 124-399 124-143 0-273.5-55.5t-225-150-150-225-55.5-273.5 55.5-273.5 150-225 225-150 273.5-55.5 273.5 55.5 225 150 150 225 55.5 273.5q0 220-124 399l343 343q37 37 37 90z\"/></svg></div></div></form></div><div id=\"custom_html-49\" class=\"widget_text widget widget_custom_html\"><p class=\"widget-title\">Langganan via Email</p><div class=\"textwidget custom-html-widget\"><form style=\"border:0px solid #ccc;padding:0px;text-align:center;\" action=\"https://feedburner.google.com/fb/a/mailverify\" method=\"post\" target=\"popupwindow\" onsubmit=\"window.open(\\'https://feedburner.google.com/fb/a/mailverify?uri=warstek/EOtr\\', \\'popupwindow\\', \\'scrollbars=yes,width=550,height=520\\');return true\"><p>Masukkan Email Anda:</p><p><input type=\"text\" style=\"width:180px\" name=\"email\"/></p><input type=\"hidden\" value=\"warstek/EOtr\" name=\"uri\"/><input type=\"hidden\" name=\"loc\" value=\"en_US\"/><input type=\"submit\" value=\"Langganan\" /></form></div></div><div id=\"eaw-recent-posts-plus-2\" class=\"widget widget_recent_posts_plus\"><p class=\"widget-title\">Artikel Pilihan Editor</p>\\t\\t\\t\\t<div class=\"eaw-recent-posts\">\\n<img onload=\"Wpfcll.r(this,true);\" src=\"https://warstek.com/wp-content/plugins/wp-fastest-cache-premium/pro/images/blank.gif\" width=\"300\" height=\"185\" data-wpfc-original-src=\"https://warstek.com/wp-content/uploads/2021/10/15-juni-obat-san-prima-300x185.jpg\" class=\"attachment-medium size-medium wp-post-image\" alt=\"blank\" loading=\"lazy\" data-wpfc-original-srcset=\"https://warstek.com/wp-content/uploads/2021/10/15-juni-obat-san-prima-300x185.jpg 300w, https://warstek.com/wp-content/uploads/2021/10/15-juni-obat-san-prima-768x474.jpg 768w, https://warstek.com/wp-content/uploads/2021/10/15-juni-obat-san-prima.jpg 1003w\" data-wpfc-original-sizes=\"(max-width: 300px) 100vw, 300px\"/>\\t\\t\\t\\t\\t<div class=\"eaw-content\"> <h3><a href=\"https://warstek.com/obat-2/\">Benarkah Obat Dapat Menyebabkan Gagal Ginjal dan Kerusakan Fungsi Hati?</a> </h3> <p> Berdasarkan DJ International Journal of Medical Research, obat merupakan hal pertama yang di pertimbangkan saat suatu penyakit menyerang. Dari zaman &hellip; </p></div></div><div class=\"eaw-recent-posts\">\\n<img onload=\"Wpfcll.r(this,true);\" src=\"https://warstek.com/wp-content/plugins/wp-fastest-cache-premium/pro/images/blank.gif\" width=\"300\" height=\"168\" data-wpfc-original-src=\"https://warstek.com/wp-content/uploads/2021/10/flyby-300x168.jpg\" class=\"attachment-medium size-medium wp-post-image\" alt=\"foto yang diambil oleh wahana BepiColombo sesaat setelah flyby\" loading=\"lazy\" data-wpfc-original-srcset=\"https://warstek.com/wp-content/uploads/2021/10/flyby-300x168.jpg 300w, https://warstek.com/wp-content/uploads/2021/10/flyby-1024x573.jpg 1024w, https://warstek.com/wp-content/uploads/2021/10/flyby-768x430.jpg 768w, https://warstek.com/wp-content/uploads/2021/10/flyby-1536x860.jpg 1536w, https://warstek.com/wp-content/uploads/2021/10/flyby.jpg 1929w\" data-wpfc-original-sizes=\"(max-width: 300px) 100vw, 300px\"/>\\t\\t\\t\\t\\t<div class=\"eaw-content\"> <h3><a href=\"https://warstek.com/bepicolombo/\">BepiColombo: Misi Satelit ke Planet Neraka, Merkurius</a> </h3> <p> BepiColombo sedang di perjalanan sebelum mengorbit Merkurius tahun 2025. Bertemu dengan Merkurius minggu lalu, wahana buatan Eropa dan Jepang ini &hellip; </p></div></div><div class=\"eaw-recent-posts\">\\n<img onload=\"Wpfcll.r(this,true);\" src=\"https://warstek.com/wp-content/plugins/wp-fastest-cache-premium/pro/images/blank.gif\" width=\"300\" height=\"168\" data-wpfc-original-src=\"https://warstek.com/wp-content/uploads/2021/09/9696d4bdf9-300x168.jpg\" class=\"attachment-medium size-medium wp-post-image\" alt=\"blank\" loading=\"lazy\" data-wpfc-original-srcset=\"https://warstek.com/wp-content/uploads/2021/09/9696d4bdf9-300x168.jpg 300w, https://warstek.com/wp-content/uploads/2021/09/9696d4bdf9-1024x574.jpg 1024w, https://warstek.com/wp-content/uploads/2021/09/9696d4bdf9-768x431.jpg 768w, https://warstek.com/wp-content/uploads/2021/09/9696d4bdf9.jpg 1280w\" data-wpfc-original-sizes=\"(max-width: 300px) 100vw, 300px\"/>\\t\\t\\t\\t\\t<div class=\"eaw-content\"> <h3><a href=\"https://warstek.com/komet-raksasa/\">Penemuan Komet Raksasa, Diameternya Ratusan Kilometer</a> </h3> <p> Komet Komet&nbsp;adalah benda&nbsp;langit&nbsp;yang mengelilingi&nbsp;matahari&nbsp;dengan&nbsp;garis edar&nbsp;berbentuk&nbsp;lonjong,&nbsp;parabolis, atau&nbsp;hiperbolis. Istilah â\\x80\\x9ckometâ\\x80\\x9d berasal dari&nbsp;bahasa Yunani,&nbsp;kometes&nbsp;(ÎºÎ¿Î¼Î®Ï\\x84Î·Ï\\x82) yang berarti â\\x80\\x9crambut panjangâ\\x80\\x9d.&nbsp;Istilah lainnya adalah&nbsp;bintang berekor yang tidak &hellip; </p></div></div></div><div id=\"rate-my-post-top-rated-widget-2\" class=\"widget widget_rate-my-post-top-rated-widget\"><p class=\"widget-title\">Artikel Terpopuler</p>        \\n<div class=\"rmp-tr-posts-widget\">\\n<div class=\"rmp-tr-posts-widget__post\">\\n<div class=\"rmp-tr-posts-widget__img-container\"> <a href=\"https://warstek.com/bepicolombo/\"> <img onload=\"Wpfcll.r(this,true);\" src=\"https://warstek.com/wp-content/plugins/wp-fastest-cache-premium/pro/images/blank.gif\" class=\"rmp-tr-posts-widget__img\" data-wpfc-original-src=\"https://warstek.com/wp-content/uploads/2021/10/flyby.jpg\" alt=\"BepiColombo: Misi Satelit ke Planet Neraka, Merkurius\"/> </a></div><div class=\"rmp-tr-posts-widget__star-rating\"> <i class=\"rmp-icon rmp-icon--ratings rmp-icon--star rmp-icon--full-highlight\"></i><i class=\"rmp-icon rmp-icon--ratings rmp-icon--star rmp-icon--full-highlight\"></i><i class=\"rmp-icon rmp-icon--ratings rmp-icon--star rmp-icon--full-highlight\"></i><i class=\"rmp-icon rmp-icon--ratings rmp-icon--star rmp-icon--full-highlight\"></i><i class=\"rmp-icon rmp-icon--ratings rmp-icon--star rmp-icon--full-highlight\"></i> <span class=\"rmp-tr-posts-widget__avg-rating\">5</span> <span class=\"rmp-tr-posts-widget__num-votes\">(1)</span></div><p>\\n<a class=\"rmp-tr-posts-widget__link\" href=\"https://warstek.com/bepicolombo/\">BepiColombo: Misi Satelit ke Planet Neraka, Merkurius</a>\\n</p></div><div class=\"rmp-tr-posts-widget__post\">\\n<div class=\"rmp-tr-posts-widget__img-container\"> <a href=\"https://warstek.com/sebelum-big-bang/\"> <img onload=\"Wpfcll.r(this,true);\" src=\"https://warstek.com/wp-content/plugins/wp-fastest-cache-premium/pro/images/blank.gif\" class=\"rmp-tr-posts-widget__img\" data-wpfc-original-src=\"https://warstek.com/wp-content/uploads/2018/04/big-bang-sound-1jpg.jpg\" alt=\"Ada Apa Sebelum Big Bang? Ini Jawaban Peraih Nobel Fisika, Roger Penrose\"/> </a></div><div class=\"rmp-tr-posts-widget__star-rating\"> <i class=\"rmp-icon rmp-icon--ratings rmp-icon--star rmp-icon--full-highlight\"></i><i class=\"rmp-icon rmp-icon--ratings rmp-icon--star rmp-icon--full-highlight\"></i><i class=\"rmp-icon rmp-icon--ratings rmp-icon--star rmp-icon--full-highlight\"></i><i class=\"rmp-icon rmp-icon--ratings rmp-icon--star rmp-icon--full-highlight\"></i><i class=\"rmp-icon rmp-icon--ratings rmp-icon--star rmp-icon--full-highlight\"></i> <span class=\"rmp-tr-posts-widget__avg-rating\">5</span> <span class=\"rmp-tr-posts-widget__num-votes\">(1)</span></div><p>\\n<a class=\"rmp-tr-posts-widget__link\" href=\"https://warstek.com/sebelum-big-bang/\">Ada Apa Sebelum Big Bang? Ini Jawaban Peraih Nobel Fisika, Roger Penrose</a>\\n</p></div><div class=\"rmp-tr-posts-widget__post\">\\n<div class=\"rmp-tr-posts-widget__img-container\"> <a href=\"https://warstek.com/manajemen-bencana/\"> <img onload=\"Wpfcll.r(this,true);\" src=\"https://warstek.com/wp-content/plugins/wp-fastest-cache-premium/pro/images/blank.gif\" class=\"rmp-tr-posts-widget__img\" data-wpfc-original-src=\"https://warstek.com/wp-content/uploads/2020/10/mister.enviro-20201003-0001.jpg\" alt=\"Manajemen Bencana Dalam Perspektif Kesehatan Lingkungan dan Masyarakat\"/> </a></div><div class=\"rmp-tr-posts-widget__star-rating\"> <i class=\"rmp-icon rmp-icon--ratings rmp-icon--star rmp-icon--full-highlight\"></i><i class=\"rmp-icon rmp-icon--ratings rmp-icon--star rmp-icon--full-highlight\"></i><i class=\"rmp-icon rmp-icon--ratings rmp-icon--star rmp-icon--full-highlight\"></i><i class=\"rmp-icon rmp-icon--ratings rmp-icon--star rmp-icon--full-highlight\"></i><i class=\"rmp-icon rmp-icon--ratings rmp-icon--star rmp-icon--full-highlight\"></i> <span class=\"rmp-tr-posts-widget__avg-rating\">5</span> <span class=\"rmp-tr-posts-widget__num-votes\">(1)</span></div><p>\\n<a class=\"rmp-tr-posts-widget__link\" href=\"https://warstek.com/manajemen-bencana/\">Manajemen Bencana Dalam Perspektif Kesehatan Lingkungan dan Masyarakat</a>\\n</p></div><div class=\"rmp-tr-posts-widget__post\">\\n<div class=\"rmp-tr-posts-widget__img-container\"> <a href=\"https://warstek.com/bioinformatika-apa-sih-bioinformatika-itu/\"> <img onload=\"Wpfcll.r(this,true);\" src=\"https://warstek.com/wp-content/plugins/wp-fastest-cache-premium/pro/images/blank.gif\" class=\"rmp-tr-posts-widget__img\" data-wpfc-original-src=\"https://warstek.com/wp-content/uploads/2020/10/istockphoto-533906136-1024x1024-1.jpg\" alt=\"Bioinformatika, apa sih Bioinformatika itu?\"/> </a></div><div class=\"rmp-tr-posts-widget__star-rating\"> <i class=\"rmp-icon rmp-icon--ratings rmp-icon--star rmp-icon--full-highlight\"></i><i class=\"rmp-icon rmp-icon--ratings rmp-icon--star rmp-icon--full-highlight\"></i><i class=\"rmp-icon rmp-icon--ratings rmp-icon--star rmp-icon--full-highlight\"></i><i class=\"rmp-icon rmp-icon--ratings rmp-icon--star rmp-icon--full-highlight\"></i><i class=\"rmp-icon rmp-icon--ratings rmp-icon--star rmp-icon--full-highlight\"></i> <span class=\"rmp-tr-posts-widget__avg-rating\">5</span> <span class=\"rmp-tr-posts-widget__num-votes\">(1)</span></div><p>\\n<a class=\"rmp-tr-posts-widget__link\" href=\"https://warstek.com/bioinformatika-apa-sih-bioinformatika-itu/\">Bioinformatika, apa sih Bioinformatika itu?</a>\\n</p></div><div class=\"rmp-tr-posts-widget__post\">\\n<div class=\"rmp-tr-posts-widget__img-container\"> <a href=\"https://warstek.com/pancasila/\"> <img onload=\"Wpfcll.r(this,true);\" src=\"https://warstek.com/wp-content/plugins/wp-fastest-cache-premium/pro/images/blank.gif\" class=\"rmp-tr-posts-widget__img\" data-wpfc-original-src=\"https://warstek.com/wp-content/uploads/2020/11/Untitled-3.jpg\" alt=\"Pancasila: Pengertian, Sejarah, Butir, Nilai, dan Dasar Pandangan Hidup [Lengkap + Contoh Soal]\"/> </a></div><div class=\"rmp-tr-posts-widget__star-rating\"> <i class=\"rmp-icon rmp-icon--ratings rmp-icon--star rmp-icon--full-highlight\"></i><i class=\"rmp-icon rmp-icon--ratings rmp-icon--star rmp-icon--full-highlight\"></i><i class=\"rmp-icon rmp-icon--ratings rmp-icon--star rmp-icon--full-highlight\"></i><i class=\"rmp-icon rmp-icon--ratings rmp-icon--star rmp-icon--full-highlight\"></i><i class=\"rmp-icon rmp-icon--ratings rmp-icon--star rmp-icon--full-highlight\"></i> <span class=\"rmp-tr-posts-widget__avg-rating\">5</span> <span class=\"rmp-tr-posts-widget__num-votes\">(1)</span></div><p>\\n<a class=\"rmp-tr-posts-widget__link\" href=\"https://warstek.com/pancasila/\">Pancasila:  Pengertian, Sejarah, Butir, Nilai, dan Dasar Pandangan Hidup [Lengkap + Contoh Soal]</a>\\n</p></div></div></div><div id=\"custom_html-50\" class=\"widget_text widget widget_custom_html\"><p class=\"widget-title\">Artikel yang Terkait</p><div class=\"textwidget custom-html-widget\">\\n<script async src=\"//pagead2.googlesyndication.com/pagead/js/adsbygoogle.js\"></script>\\n<ins class=\"adsbygoogle\"\\nstyle=\"display:block\"\\ndata-ad-format=\"autorelaxed\"\\ndata-ad-client=\"ca-pub-9638064869561472\"\\ndata-ad-slot=\"4368873124\"></ins>\\n<script>(adsbygoogle=window.adsbygoogle||[]).push({});</script>\\n<br/>\\n<ins class=\\'adsbyadop\\' _adop_zon = \\'6dc5bcbb-1006-49b8-9ffd-eb8a5e464239\\' _adop_type = \\'re\\' style=\\'display:inline-block;width:300px;height:250px;\\' _page_url=\\'\\'></ins></div></div></aside></div></div></div></main>\\n<footer class=\"site-footer\" id=\"site-footer\">\\n<div class=\"hfg_footer\">\\n<div class=\"footer--row footer-top layout-full-contained\" id=\"cb-row--footer-top\" data-row-id=\"top\" data-show-on=\"desktop\">\\n<div class=\"footer--row-inner footer-top-inner footer-content-wrap\">\\n<div class=\"container\">\\n<div class=\"hfg-grid nv-footer-content hfg-grid-top row--wrapper row\" data-section=\"hfg_footer_layout_top\">\\n<div class=\"builder-item hfg-item-last hfg-item-first col-12 desktop-center tablet-center mobile-center hfg-item-v-middle\"><div class=\"item--inner builder-item--footer_copyright\" data-section=\"footer_copyright\" data-item-id=\"footer_copyright\">\\n<div class=\"component-wrap\"> <p>Didesain dengan hati | Copyright Warstek.com 2021 </p></div></div></div></div></div></div></div><div class=\"footer--row footer-bottom layout-full-contained\" id=\"cb-row--footer-bottom\" data-row-id=\"bottom\" data-show-on=\"desktop\">\\n<div class=\"footer--row-inner footer-bottom-inner footer-content-wrap\">\\n<div class=\"container\">\\n<div class=\"hfg-grid nv-footer-content hfg-grid-bottom row--wrapper row\" data-section=\"hfg_footer_layout_bottom\">\\n<div class=\"builder-item hfg-item-first col-6 desktop-left tablet-left mobile-left hfg-item-v-middle\"><div class=\"item--inner builder-item--footer-one-widgets\" data-section=\"sidebar-widgets-footer-one-widgets\" data-item-id=\"footer-one-widgets\">\\n<div class=\"widget-area\">\\n<div id=\"text-7\" class=\"widget widget_text\">\\t\\t\\t<div class=\"textwidget\"><p><img onload=\"Wpfcll.r(this,true);\" src=\"https://warstek.com/wp-content/plugins/wp-fastest-cache-premium/pro/images/blank.gif\" loading=\"lazy\" data-wpfc-original-src=\"http://warstek.com/wp-content/uploads/2017/12/footer-logo-copy-min.png\" alt=\"blank\" width=\"163\" height=\"50\"/></p>\\n<div><strong>UP TO DATE | TERPERCAYAÂ\\xa0| SERU</strong></div><div></div><div style=\"margin: 0px 0 0px 0;\">Warstek adalah media SAINS POPULER yang dibuat untuk seluruh masyarakat Indonesia baik kalangan akademisi, masyarakat sipil, atau industri.</div></div></div></div></div></div><div class=\"builder-item hfg-item-last col-6 desktop-left tablet-left mobile-left hfg-item-v-middle\"><div class=\"item--inner builder-item--footer-two-widgets\" data-section=\"sidebar-widgets-footer-two-widgets\" data-item-id=\"footer-two-widgets\">\\n<div class=\"widget-area\">\\n<div id=\"text-4\" class=\"widget widget_text\"><p class=\"widget-title\">Kontak</p>\\t\\t\\t<div class=\"textwidget\"><p>Address: Jl. Sukolilo Baru gg. VI no 10 | Surabaya | Indonesia<br /> Phone: (+62)87750118140<br /> Email: warstek.jurnal@gmail.com<br /> Office Hour: 08.00 WIB Â\\xa0&#8211; 15.00 WIB (Monday &#8211; Friday)</p></div></div></div></div></div></div></div></div></div></div></footer></div><div id=\"um_upload_single\" style=\"display:none\"></div><div id=\"um_view_photo\" style=\"display:none\">\\n<a href=\"javascript:void(0);\" data-action=\"um_remove_modal\" class=\"um-modal-close\" aria-label=\"Close view photo modal\">\\n<i class=\"um-faicon-times\"></i>\\n</a>\\n<div class=\"um-modal-body photo\">\\n<div class=\"um-modal-photo\"></div></div></div><ul class=\"obfx-sharing obfx-sharing-right obfx-sharing-bottom\">\\n<li> <a class =\"facebook\" href=\"https://www.facebook.com/sharer.php?u=https://warstek.com/komet-raksasa/\"> <i class=\"socicon-facebook\"></i> </a> </li>\\n<li> <a class =\"twitter\" href=\"https://twitter.com/intent/tweet?url=https://warstek.com/komet-raksasa/&#038;text=Penemuan%20Komet%20Raksasa,%20Diameternya%20Ratusan%20Kilometer&#038;hashtags=Astronomi,Pilihan%20Editor\"> <i class=\"socicon-twitter\"></i> </a> </li>\\n<li> <a class =\"whatsapp\" href=\"whatsapp://send?text=https://warstek.com/komet-raksasa/\"> <i class=\"socicon-whatsapp\"></i> </a> </li>\\n</ul>\\n<div class=\"wp-dark-mode-switcher wp-dark-mode-ignore style-1 floating right_bottom\">\\n<label for=\"wp-dark-mode-switch\" class=\"wp-dark-mode-ignore wp-dark-mode-wobble\">\\n<div class=\"modes wp-dark-mode-ignore\"> <img onload=\"Wpfcll.r(this,true);\" src=\"https://warstek.com/wp-content/plugins/wp-fastest-cache-premium/pro/images/blank.gif\" class=\"light\" data-wpfc-original-src=\"https://warstek.com/wp-content/plugins/wp-dark-mode//assets/images/btn-1/light.png\" alt=\"Light\"> <img onload=\"Wpfcll.r(this,true);\" src=\"https://warstek.com/wp-content/plugins/wp-fastest-cache-premium/pro/images/blank.gif\" class=\"dark\" data-wpfc-original-src=\"https://warstek.com/wp-content/plugins/wp-dark-mode//assets/images/btn-1/dark.png\" alt=\"Dark\"></div></label></div><script id=\\'rate-my-post-js-extra\\'>var rmp_frontend={\"admin_ajax\":\"https:\\\\/\\\\/warstek.com\\\\/wp-admin\\\\/admin-ajax.php\",\"postID\":\"53105\",\"noVotes\":\"Belum ada yang menilai! Yuk jadi yang pertama kali menilai!\",\"cookie\":\"Anda telah memberikan penilaian.\",\"afterVote\":\"Terima kasih telah menilai post ini :)\",\"notShowRating\":\"1\",\"social\":\"1\",\"feedback\":\"1\",\"cookieDisable\":\"1\",\"emptyFeedback\":\"Please insert your feedback in the box above!\",\"hoverTexts\":\"2\",\"preventAccidental\":\"2\",\"grecaptcha\":\"1\",\"siteKey\":\"\",\"votingPriv\":\"1\",\"loggedIn\":\"\",\"positiveThreshold\":\"2\",\"ajaxLoad\":\"1\",\"nonce\":\"9adb6e4ebb\"};</script>\\n<script id=\\'wp-util-js-extra\\'>var _wpUtilSettings={\"ajax\":{\"url\":\"\\\\/wp-admin\\\\/admin-ajax.php\"}};</script>\\n<script id=\\'wp-dark-mode-frontend-js-extra\\'>var wpDarkMode={\"config\":{\"brightness\":100,\"contrast\":90,\"sepia\":10},\"enable_preset\":\"\",\"customize_colors\":\"\",\"colors\":{\"bg\":\"#000\",\"text\":\"#dfdedb\",\"link\":\"#e58c17\"},\"enable_frontend\":\"1\",\"enable_backend\":\"\",\"enable_os_mode\":\"1\",\"excludes\":\"rs-fullwidth-wrap,.mejs-container\",\"includes\":\"\",\"is_excluded\":\"\",\"remember_darkmode\":\"\",\"default_mode\":\"1\",\"keyboard_shortcut\":\"1\",\"images\":\"\",\"videos\":\"\",\"is_pro_active\":\"\",\"is_ultimate_active\":\"\",\"pro_version\":\"0\",\"is_elementor_editor\":\"\",\"is_block_editor\":\"\",\"frontend_mode\":\"\"};</script>\\n<script id=\\'neve-script-js-extra\\'>var NeveProperties={\"ajaxurl\":\"https:\\\\/\\\\/warstek.com\\\\/wp-admin\\\\/admin-ajax.php\",\"nonce\":\"ceb08bac55\",\"isRTL\":\"\",\"isCustomize\":\"\"};</script>\\n<script id=\\'um_scripts-js-extra\\'>var um_scripts={\"max_upload_size\":\"134217728\",\"nonce\":\"72f098fd80\"};</script>\\n<script id=\\'sharing-js-js-extra\\'>var sharing_js_options={\"lang\":\"en\",\"counts\":\"1\",\"is_stats_active\":\"1\"};</script>\\n<script async src=\\'https://propsid.b-cdn.net/gpt/warstek.js\\'></script>\\n<script src=\\'//warstek.com/wp-content/cache/wpfc-minified/1pd75ehe/e4tew.js\\'></script>\\n<script>(function (){\\nwindow.wpDarkMode={\"config\":{\"brightness\":100,\"contrast\":90,\"sepia\":10},\"enable_preset\":false,\"customize_colors\":false,\"colors\":{\"bg\":\"#000\",\"text\":\"#dfdedb\",\"link\":\"#e58c17\"},\"enable_frontend\":true,\"enable_backend\":false,\"enable_os_mode\":true,\"excludes\":\"rs-fullwidth-wrap,.mejs-container\",\"includes\":\"\",\"is_excluded\":false,\"remember_darkmode\":false,\"default_mode\":true,\"keyboard_shortcut\":true,\"images\":\"\",\"videos\":\"\",\"is_pro_active\":false,\"is_ultimate_active\":false,\"pro_version\":0,\"is_elementor_editor\":false,\"is_block_editor\":false,\"frontend_mode\":false};\\nwindow.checkOsDarkMode=()=> {\\nif(!wpDarkMode.enable_os_mode||localStorage.getItem(\\'wp_dark_mode_active\\')){\\nreturn false;\\n}\\nconst darkMediaQuery=window.matchMedia(\\'(prefers-color-scheme: dark)\\');\\nif(darkMediaQuery.matches) return true;\\ntry {\\ndarkMediaQuery.addEventListener(\\'change\\', function (e){\\nconst newColorScheme=e.matches ? \\'dark\\':\\'light\\';\\nconst isDark=\\'dark\\'===newColorScheme;\\nreturn isDark;\\n});\\n} catch (e1){\\ntry {\\ndarkMediaQuery.addListener(function (e){\\nconst newColorScheme=e.matches ? \\'dark\\':\\'light\\';\\nconst isDark=\\'dark\\'===newColorScheme;\\nreturn isDark\\n});\\n} catch (e2){\\nconsole.error(e2);\\nreturn false;\\n}}\\nreturn false;\\n}\\nconst is_saved=localStorage.getItem(\\'wp_dark_mode_active\\');\\nconst isCustomColor=parseInt(\"\");\\nconst shouldDarkMode=is_saved==\\'1\\'||(!is_saved&&wpDarkMode.default_mode)||checkOsDarkMode();\\nif(shouldDarkMode){\\ndocument.querySelector(\\'html\\').classList.add(\\'wp-dark-mode-active\\');\\nconst isPerformanceMode=Boolean();\\nif(!isCustomColor&&!isPerformanceMode){\\nvar css=`body, div, section, header, article, main, aside{background-color: #2B2D2D !important;}`;\\nvar head=document.head||document.getElementsByTagName(\\'head\\')[0],\\nstyle=document.createElement(\\'style\\');\\nstyle.setAttribute(\\'id\\', \\'pre_css\\');\\nhead.appendChild(style);\\nstyle.type=\\'text/css\\';\\nif(style.styleSheet){\\nstyle.styleSheet.cssText=css;\\n}else{\\nstyle.appendChild(document.createTextNode(css));\\n}}\\n}})();</script>\\n<script>document.cookie=\\'quads_browser_width=\\'+screen.width;</script>\\n<script async src=\\'//ajax.googleapis.com/ajax/libs/jquery/1.4.2/jquery.min.js\\'></script>\\n<script async src=\\'//compass.adop.cc/assets/js/adop/adop.js?v=10\\'></script>\\n<script src=\\'https://compasscdn.adop.cc/js/adop_new_collapse_width100_0.0.1.js\\' data-id=\\'ADOP_V_c1RqTHa2x8\\' data-width=\\'336\\' data-height=\\'280\\' data-type=\\'re\\' data-zone=\\'29afe64a-216e-40c3-b40e-db77f972d773\\' data-fl=\\'Y\\' data-margin=\\'0,0,0,0\\' data-fl-width=\\'400\\' data-loc=\\'rt\\'></script>\\n<script async src=\\'//compass.adop.cc/assets/js/adop/adopJ.js?v=10\\'></script>\\n<script>;(function (){\\nif(\\'\\'!==`rs-fullwidth-wrap,.mejs-container`){\\nconst elements=document.querySelectorAll(`rs-fullwidth-wrap,.mejs-container`);\\nelements.forEach((element)=> {\\nelement.classList.add(\\'wp-dark-mode-ignore\\');\\nconst children=element.querySelectorAll(\\'*\\');\\nchildren.forEach((child)=> {\\nchild.classList.add(\\'wp-dark-mode-ignore\\');\\n});\\n});\\n}\\nif(\\'\\'!==``){\\nconst elements=document.querySelectorAll(``);\\nelements.forEach((element)=> {\\nelement.classList.add(\\'wp-dark-mode-include\\');\\nconst children=element.querySelectorAll(\\'*\\');\\nchildren.forEach((child)=> {\\nchild.classList.add(\\'wp-dark-mode-include\\');\\n})\\n});\\n}})();</script>\\n<script>;(function (){\\nwindow.wpDarkMode={\"config\":{\"brightness\":100,\"contrast\":90,\"sepia\":10},\"enable_preset\":false,\"customize_colors\":false,\"colors\":{\"bg\":\"#000\",\"text\":\"#dfdedb\",\"link\":\"#e58c17\"},\"enable_frontend\":true,\"enable_backend\":false,\"enable_os_mode\":true,\"excludes\":\"rs-fullwidth-wrap,.mejs-container\",\"includes\":\"\",\"is_excluded\":false,\"remember_darkmode\":false,\"default_mode\":true,\"keyboard_shortcut\":true,\"images\":\"\",\"videos\":\"\",\"is_pro_active\":false,\"is_ultimate_active\":false,\"pro_version\":0,\"is_elementor_editor\":false,\"is_block_editor\":false,\"frontend_mode\":false};\\nconst is_saved=localStorage.getItem(\\'wp_dark_mode_active\\');\\nconst shouldDarkMode=is_saved==\\'1\\'||(!is_saved&&wpDarkMode.default_mode)||checkOsDarkMode();\\nif(shouldDarkMode){\\nconst isCustomColor=parseInt(\"\");\\nconst isPerformanceMode=Boolean();\\nif(!isCustomColor&&!isPerformanceMode){\\nif(document.getElementById(\\'pre_css\\')){\\ndocument.getElementById(\\'pre_css\\').remove();\\n}\\nif(\\'\\'===``){\\nDarkMode.enable();\\n}}\\n}})();</script>\\n<script>window.WPCOM_sharing_counts={\"https:\\\\/\\\\/warstek.com\\\\/komet-raksasa\\\\/\":53105};</script>\\n<script src=\\'//warstek.com/wp-content/cache/wpfc-minified/6ojeht00/e4tew.js\\'></script>\\n<script id=\\'wp-i18n-js-after\\'>wp.i18n.setLocaleData({ \\'text direction\\\\u0004ltr\\': [ \\'ltr\\' ] });</script>\\n<script src=\\'//warstek.com/wp-content/cache/wpfc-minified/8mnw8w79/dx2m4.js\\'></script>\\n<script id=\\'sharing-js-js-after\\'>var windowOpen;\\n(function (){\\nfunction matches(el, sel){\\nreturn !! (\\nel.matches&&el.matches(sel) ||\\nel.msMatchesSelector&&el.msMatchesSelector(sel)\\n);\\n}\\ndocument.body.addEventListener(\\'click\\', function(event){\\nif(! event.target){\\nreturn;\\n}\\nvar el;\\nif(matches(event.target, \\'a.share-facebook\\')){\\nel=event.target;\\n}else if(event.target.parentNode&&matches(event.target.parentNode, \\'a.share-facebook\\')){\\nel=event.target.parentNode;\\n}\\nif(el){\\nevent.preventDefault();\\nif(typeof windowOpen!==\\'undefined\\'){\\nwindowOpen.close();\\n}\\nwindowOpen=window.open(el.getAttribute(\\'href\\'), \\'wpcomfacebook\\', \\'menubar=1,resizable=1,width=600,height=400\\');\\nreturn false;\\n}});\\n})();\\nvar windowOpen;\\n(function (){\\nfunction matches(el, sel){\\nreturn !! (\\nel.matches&&el.matches(sel) ||\\nel.msMatchesSelector&&el.msMatchesSelector(sel)\\n);\\n}\\ndocument.body.addEventListener(\\'click\\', function(event){\\nif(! event.target){\\nreturn;\\n}\\nvar el;\\nif(matches(event.target, \\'a.share-twitter\\')){\\nel=event.target;\\n}else if(event.target.parentNode&&matches(event.target.parentNode, \\'a.share-twitter\\')){\\nel=event.target.parentNode;\\n}\\nif(el){\\nevent.preventDefault();\\nif(typeof windowOpen!==\\'undefined\\'){\\nwindowOpen.close();\\n}\\nwindowOpen=window.open(el.getAttribute(\\'href\\'), \\'wpcomtwitter\\', \\'menubar=1,resizable=1,width=600,height=350\\');\\nreturn false;\\n}});\\n})();\\nvar windowOpen;\\n(function (){\\nfunction matches(el, sel){\\nreturn !! (\\nel.matches&&el.matches(sel) ||\\nel.msMatchesSelector&&el.msMatchesSelector(sel)\\n);\\n}\\ndocument.body.addEventListener(\\'click\\', function(event){\\nif(! event.target){\\nreturn;\\n}\\nvar el;\\nif(matches(event.target, \\'a.share-telegram\\')){\\nel=event.target;\\n}else if(event.target.parentNode&&matches(event.target.parentNode, \\'a.share-telegram\\')){\\nel=event.target.parentNode;\\n}\\nif(el){\\nevent.preventDefault();\\nif(typeof windowOpen!==\\'undefined\\'){\\nwindowOpen.close();\\n}\\nwindowOpen=window.open(el.getAttribute(\\'href\\'), \\'wpcomtelegram\\', \\'menubar=1,resizable=1,width=450,height=450\\');\\nreturn false;\\n}});\\n})();</script>\\n<script defer src=\\'https://stats.wp.com/e-202142.js\\' defer></script>\\n<script>_stq=window._stq||[];\\n_stq.push([ \\'view\\', {v:\\'ext\\',j:\\'1:10.2\\',blog:\\'139897316\\',post:\\'53105\\',tz:\\'7\\',srv:\\'warstek.com\\'} ]);\\n_stq.push([ \\'clickTrackerInit\\', \\'139897316\\', \\'53105\\' ]);</script>\\n<script>document.addEventListener(\\'DOMContentLoaded\\',function(){\\njQuery(window).on(\\'load\\', function(){\\njQuery(\\'input[name=\"um_request\"]\\').val(\\'\\');\\n});});</script>\\n</body>\\n</html><!-- WP Fastest Cache file was created in 1.7750849723816 seconds, on 21-10-21 8:00:07 -->'"
            ]
          },
          "metadata": {},
          "execution_count": 2
        }
      ]
    },
    {
      "cell_type": "code",
      "metadata": {
        "colab": {
          "base_uri": "https://localhost:8080/",
          "height": 35
        },
        "id": "lgu2twzbLd4M",
        "outputId": "c9a26e96-515c-4902-f0ee-5cb961d7fc93"
      },
      "source": [
        "### Encoding\n",
        "results.encoding = results.apparent_encoding \n",
        "results.encoding "
      ],
      "execution_count": 3,
      "outputs": [
        {
          "output_type": "execute_result",
          "data": {
            "application/vnd.google.colaboratory.intrinsic+json": {
              "type": "string"
            },
            "text/plain": [
              "'utf-8'"
            ]
          },
          "metadata": {},
          "execution_count": 3
        }
      ]
    },
    {
      "cell_type": "code",
      "metadata": {
        "id": "niWVCAUjL5VJ"
      },
      "source": [
        "### Parsing\n",
        "WP = BeautifulSoup(results.text, 'html.parser') "
      ],
      "execution_count": 4,
      "outputs": []
    },
    {
      "cell_type": "code",
      "metadata": {
        "colab": {
          "base_uri": "https://localhost:8080/"
        },
        "id": "wrOL2RMEMuYX",
        "outputId": "949bca92-c6d8-424d-b0c6-287ef28fe2fb"
      },
      "source": [
        "### Mencari dari halaman web\n",
        "WP.find('p')"
      ],
      "execution_count": 5,
      "outputs": [
        {
          "output_type": "execute_result",
          "data": {
            "text/plain": [
              "<p>Sains dan Teknologi yang Seru dan Menyenangkan</p>"
            ]
          },
          "metadata": {},
          "execution_count": 5
        }
      ]
    },
    {
      "cell_type": "code",
      "metadata": {
        "colab": {
          "base_uri": "https://localhost:8080/",
          "height": 35
        },
        "id": "jDQFB78KM9Zn",
        "outputId": "7835859f-14a1-4b5e-c9d7-2bbd23c6242f"
      },
      "source": [
        "### Mengambil dari halaman Web \n",
        "WP.find('p').getText()"
      ],
      "execution_count": 6,
      "outputs": [
        {
          "output_type": "execute_result",
          "data": {
            "application/vnd.google.colaboratory.intrinsic+json": {
              "type": "string"
            },
            "text/plain": [
              "'Sains dan Teknologi yang Seru dan Menyenangkan'"
            ]
          },
          "metadata": {},
          "execution_count": 6
        }
      ]
    },
    {
      "cell_type": "code",
      "metadata": {
        "colab": {
          "base_uri": "https://localhost:8080/"
        },
        "id": "TFRFcaSxNXAw",
        "outputId": "d88d2468-4aeb-4e05-e47a-6f2e137ec3aa"
      },
      "source": [
        "### Mengambil semua text dari halaman web \n",
        "WP.find_all('p')"
      ],
      "execution_count": 7,
      "outputs": [
        {
          "output_type": "execute_result",
          "data": {
            "text/plain": [
              "[<p>Sains dan Teknologi yang Seru dan Menyenangkan</p>,\n",
              " <p class=\"has-text-align-justify\"><strong>Komet</strong> adalah benda langit yang mengelilingi matahari dengan garis edar berbentuk lonjong, parabolis, atau hiperbolis.</p>,\n",
              " <p class=\"has-text-align-justify\">Istilah “komet” berasal dari bahasa Yunani, <em>kometes</em> (κομήτης) yang berarti “rambut panjang”. Istilah lainnya adalah <strong>bintang berekor</strong> yang tidak tepat karena komet sama sekali bukan bintang. Orang Jawa menyebutnya sebagai <em>lintang kemukus</em> karena memiliki ekor mirip ‘kukus’ atau berdebu. Di samping itu, ekornya juga mirip buah kemukus yang dikeringkan.</p>,\n",
              " <p class=\"has-text-align-justify\">Komet terbentuk dari es dan debu. Komet terdiri dari kumpulan debu dan gas yang membeku pada saat berada jauh dari Matahari. Ketika mendekati Matahari, sebagian bahan penyusun komet menguap membentuk kepala gas dan ekor. Komet juga mengelilingi Matahari, sehingga termasuk dalam sistem tata surya. Komet merupakan gas pijar dengan garis edar yang berbeda-beda. Panjang “ekor” komet dapat mencapai jutaan km. Beberapa komet menempuh jarak lebih jauh di luar angkasa daripada planet. Beberapa komet membutuhkan ribuan tahun untuk menyelesaikan satu kali mengorbit Matahari.</p>,\n",
              " <p class=\"has-text-align-justify\">Komet dapat dilihat ketika masih jauh dari matahari, bagian yang pertama kali dilihat adalah inti. Komet merupakan benda angkasa yang mirip asteroid, tetapi hampir seluruhnya terbentuk dari gas (karbon dioksida, metana, air) dan debu yang membeku.</p>,\n",
              " <p class=\"has-text-align-justify\">Seering juga disebut dengan <strong>bintang berekor</strong>. Yang memiliki orbit atau lintasan yang berbentuk elips, lebih lonjong dan panjang daripada orbit planet. Komet merupakan benda angkasa seperti lapisan batu yang terlihat mempunyai cahaya dikarenakan adanya gesekan-gesekan atom-atom di udara.</p>,\n",
              " <p class=\"has-text-align-justify\">Dua astronom menemukan komet terbesar yang pernah terlihat di Tata Surya. Komet ini ditemukan saat keduanya menyisir data yang dikumpulkan oleh Dark Energy Survey.</p>,\n",
              " <p class=\"has-text-align-justify\">Dikutip dari <em>Cnet,</em> komet tersebut ini dikatalogkan sebagai Komet C/2014 UN271, tetapi juga dikenal sebagai Komet Bernardinelli-Bernstein yang diambil dari nama duo penemunya, Pedro Bernardinelli dan Gary Bernstein. Keduanya sama-sama berasal dari University of Pennsylvania.</p>,\n",
              " <p class=\"has-text-align-justify\">Jika kalian penasaran sebesar apa komet ini hingga disebut raksasa, perkiraan awal Bernardinelli dan Bernstein menyebutkan komet memiliki diameter mencapai 200 kilometer.</p>,\n",
              " <p class=\"has-text-align-justify\">Namun ketika penelitian ini diajukan untuk dipublikasikan di The Astrophysical Journal Letters, perkiraan lebar diameter tersebut ditetapkan menjadi “hanya” 150 kilometer. Ukuran ini tetap menandakan komet tersebut berwujud raksasa. Komet Bernardinelli-Bernstein memiliki massa 10 kali lipat dari Komet Hale-Bopp, yang dikenal sebagai Komet Besar 1997.</p>,\n",
              " <p class=\"has-text-align-justify\">Sementara itu, astronom Will Gater mengumpulkan banyak ilustrasi objek Tata Surya terkenal lainnya untuk mencatat skala seberapa besar bola raksasa di antariksa ini sebenarnya. Hal ini sempat dipublish dalam akun twitternya.</p>,\n",
              " <p class=\"has-text-align-justify\">Hasil perbandingannya lebih mengejutkan lagi. Mega komet ini ternyata jauh lebih besar dari bulan terbesar milik Mars. Jika kita berimajinasi meletakkan dua bulannya Mars, Phobos dan Deimos, berdampingan dengan Komet Bernardinelli-Bernstein, maka akan terlihat ukuran komet ini dua kali lipat dari Phobos dan Deimos.</p>,\n",
              " <p class=\"has-text-align-justify\">Menurut peneliti, komet besar ini tidak menimbulkan ancaman bertabrakan dengan Bumi dan menyebabkan peristiwa seperti zaman kepunahan dinosaurus. Namun, saat ini komet tersebut sedang menuju Tata Surya bagian dalam dan akan membuat lintasan terdekatnya dengan Matahari kita pada tahun 2031.</p>,\n",
              " <p class=\"has-text-align-justify\">Komet ini sepertinya akan menampilkan pertunjukan yang cukup bagus untuk para astronom dalam dekade mendatang. Bahkan, sejak sekarang Komet Bernardinelli-Bernstein sudah mulai memamerkan penampakannya lewat ledakan dan aktivitas peningkatan kecerahan yang dilaporkan oleh Las Cumbres Observatory awal bulan ini.</p>,\n",
              " <p><strong>REFERENSI:</strong></p>,\n",
              " <p></p>,\n",
              " <p class=\"rmp-heading rmp-heading--title\">        Setelah selesai membaca, yuk berikan artikel ini penilaian!      </p>,\n",
              " <p class=\"rmp-heading rmp-heading--subtitle\">        Klik berdasarkan jumlah bintang untuk menilai!      </p>,\n",
              " <p class=\"rmp-rating-widget__hover-text js-rmp-hover-text\"></p>,\n",
              " <p class=\"rmp-rating-widget__results js-rmp-results rmp-rating-widget__results--hidden\">      Rata-rata nilai <span class=\"rmp-rating-widget__results__rating js-rmp-avg-rating\">0</span> / 5. Banyaknya vote: <span class=\"rmp-rating-widget__results__votes js-rmp-vote-count\">0</span> </p>,\n",
              " <p class=\"rmp-rating-widget__not-rated js-rmp-not-rated\">      Belum ada yang menilai! Yuk jadi yang pertama kali menilai!    </p>,\n",
              " <p class=\"rmp-rating-widget__msg js-rmp-msg\">\n",
              " </p>,\n",
              " <p></p>,\n",
              " <p></p>,\n",
              " <p class=\"comment-notes\"><span id=\"email-notes\">Alamat email Anda tidak akan dipublikasikan.</span> Ruas yang wajib ditandai <span class=\"required\">*</span></p>,\n",
              " <p class=\"comment-form-comment\"><label for=\"comment\">Komentar</label> <textarea cols=\"45\" id=\"comment\" maxlength=\"65525\" name=\"comment\" required=\"required\" rows=\"8\"></textarea></p>,\n",
              " <p class=\"comment-form-author\"><label for=\"author\">Nama <span class=\"required\">*</span></label> <input id=\"author\" maxlength=\"245\" name=\"author\" required=\"required\" size=\"30\" type=\"text\" value=\"\"/></p>,\n",
              " <p class=\"comment-form-email\"><label for=\"email\">Email <span class=\"required\">*</span></label> <input aria-describedby=\"email-notes\" id=\"email\" maxlength=\"100\" name=\"email\" required=\"required\" size=\"30\" type=\"text\" value=\"\"/></p>,\n",
              " <p class=\"comment-form-url\"><label for=\"url\">Situs Web</label> <input id=\"url\" maxlength=\"200\" name=\"url\" size=\"30\" type=\"text\" value=\"\"/></p>,\n",
              " <p class=\"form-submit\"><input class=\"submit\" id=\"submit\" name=\"submit\" type=\"submit\" value=\"Kirim Komentar\"/> <input id=\"comment_post_ID\" name=\"comment_post_ID\" type=\"hidden\" value=\"53105\"/>\n",
              " <input id=\"comment_parent\" name=\"comment_parent\" type=\"hidden\" value=\"0\"/>\n",
              " </p>,\n",
              " <p class=\"widget-title\">Cari Artikel</p>,\n",
              " <p class=\"widget-title\">Langganan via Email</p>,\n",
              " <p>Masukkan Email Anda:</p>,\n",
              " <p><input name=\"email\" style=\"width:180px\" type=\"text\"/></p>,\n",
              " <p class=\"widget-title\">Artikel Pilihan Editor</p>,\n",
              " <p> Berdasarkan DJ International Journal of Medical Research, obat merupakan hal pertama yang di pertimbangkan saat suatu penyakit menyerang. Dari zaman … </p>,\n",
              " <p> BepiColombo sedang di perjalanan sebelum mengorbit Merkurius tahun 2025. Bertemu dengan Merkurius minggu lalu, wahana buatan Eropa dan Jepang ini … </p>,\n",
              " <p> Komet Komet adalah benda langit yang mengelilingi matahari dengan garis edar berbentuk lonjong, parabolis, atau hiperbolis. Istilah “komet” berasal dari bahasa Yunani, kometes (κομήτης) yang berarti “rambut panjang”. Istilah lainnya adalah bintang berekor yang tidak … </p>,\n",
              " <p class=\"widget-title\">Artikel Terpopuler</p>,\n",
              " <p>\n",
              " <a class=\"rmp-tr-posts-widget__link\" href=\"https://warstek.com/bepicolombo/\">BepiColombo: Misi Satelit ke Planet Neraka, Merkurius</a>\n",
              " </p>,\n",
              " <p>\n",
              " <a class=\"rmp-tr-posts-widget__link\" href=\"https://warstek.com/sebelum-big-bang/\">Ada Apa Sebelum Big Bang? Ini Jawaban Peraih Nobel Fisika, Roger Penrose</a>\n",
              " </p>,\n",
              " <p>\n",
              " <a class=\"rmp-tr-posts-widget__link\" href=\"https://warstek.com/manajemen-bencana/\">Manajemen Bencana Dalam Perspektif Kesehatan Lingkungan dan Masyarakat</a>\n",
              " </p>,\n",
              " <p>\n",
              " <a class=\"rmp-tr-posts-widget__link\" href=\"https://warstek.com/bioinformatika-apa-sih-bioinformatika-itu/\">Bioinformatika, apa sih Bioinformatika itu?</a>\n",
              " </p>,\n",
              " <p>\n",
              " <a class=\"rmp-tr-posts-widget__link\" href=\"https://warstek.com/pancasila/\">Pancasila:  Pengertian, Sejarah, Butir, Nilai, dan Dasar Pandangan Hidup [Lengkap + Contoh Soal]</a>\n",
              " </p>,\n",
              " <p class=\"widget-title\">Artikel yang Terkait</p>,\n",
              " <p>Didesain dengan hati | Copyright Warstek.com 2021 </p>,\n",
              " <p><img alt=\"blank\" data-wpfc-original-src=\"http://warstek.com/wp-content/uploads/2017/12/footer-logo-copy-min.png\" height=\"50\" loading=\"lazy\" onload=\"Wpfcll.r(this,true);\" src=\"https://warstek.com/wp-content/plugins/wp-fastest-cache-premium/pro/images/blank.gif\" width=\"163\"/></p>,\n",
              " <p class=\"widget-title\">Kontak</p>,\n",
              " <p>Address: Jl. Sukolilo Baru gg. VI no 10 | Surabaya | Indonesia<br> Phone: (+62)87750118140<br> Email: warstek.jurnal@gmail.com<br/> Office Hour: 08.00 WIB  – 15.00 WIB (Monday – Friday)</br></br></p>]"
            ]
          },
          "metadata": {},
          "execution_count": 7
        }
      ]
    },
    {
      "cell_type": "code",
      "metadata": {
        "colab": {
          "base_uri": "https://localhost:8080/"
        },
        "id": "_1qNoA5pNh6d",
        "outputId": "9c4a196e-1922-4867-a3fb-20b44ecdbd0e"
      },
      "source": [
        "### Memasukan hasil dari web kedalam List\n",
        "\n",
        "Full_Text = []\n",
        "for paragraf in WP.find_all('p'):\n",
        "  Full_Text.append(paragraf.getText())\n",
        "\n",
        "Full_Text"
      ],
      "execution_count": 8,
      "outputs": [
        {
          "output_type": "execute_result",
          "data": {
            "text/plain": [
              "['Sains dan Teknologi yang Seru dan Menyenangkan',\n",
              " 'Komet\\xa0adalah benda\\xa0langit\\xa0yang mengelilingi\\xa0matahari\\xa0dengan\\xa0garis edar\\xa0berbentuk\\xa0lonjong,\\xa0parabolis, atau\\xa0hiperbolis.',\n",
              " 'Istilah “komet” berasal dari\\xa0bahasa Yunani,\\xa0kometes\\xa0(κομήτης) yang berarti “rambut panjang”.\\xa0Istilah lainnya adalah\\xa0bintang berekor yang tidak tepat karena komet sama sekali bukan\\xa0bintang.\\xa0Orang Jawa menyebutnya sebagai\\xa0lintang kemukus\\xa0karena memiliki ekor mirip ‘kukus’ atau berdebu. Di samping itu, ekornya juga mirip buah\\xa0kemukus\\xa0yang dikeringkan.',\n",
              " 'Komet terbentuk dari\\xa0es\\xa0dan debu.\\xa0Komet terdiri dari kumpulan\\xa0debu\\xa0dan\\xa0gas\\xa0yang\\xa0membeku\\xa0pada saat berada jauh dari Matahari.\\xa0Ketika mendekati Matahari, sebagian\\xa0bahan\\xa0penyusun komet\\xa0menguap\\xa0membentuk kepala gas dan\\xa0ekor.\\xa0Komet juga mengelilingi Matahari, sehingga termasuk dalam sistem\\xa0tata surya. Komet merupakan\\xa0gas pijar\\xa0dengan garis edar yang berbeda-beda.\\xa0Panjang “ekor” komet dapat mencapai\\xa0jutaan\\xa0km.\\xa0Beberapa komet menempuh jarak lebih jauh di luar\\xa0angkasa\\xa0daripada\\xa0planet.\\xa0Beberapa komet membutuhkan\\xa0ribuan tahun\\xa0untuk menyelesaikan satu kali\\xa0mengorbit\\xa0Matahari.',\n",
              " 'Komet dapat dilihat ketika masih jauh dari matahari, bagian yang pertama kali dilihat adalah inti. Komet merupakan benda angkasa yang mirip\\xa0asteroid, tetapi hampir seluruhnya terbentuk dari gas (karbon dioksida,\\xa0metana,\\xa0air) dan debu yang membeku.',\n",
              " 'Seering juga disebut dengan\\xa0bintang berekor. Yang memiliki\\xa0orbit\\xa0atau lintasan yang berbentuk elips, lebih lonjong dan panjang daripada orbit planet. Komet merupakan benda angkasa seperti lapisan batu yang terlihat mempunyai cahaya dikarenakan adanya gesekan-gesekan atom-atom di udara.',\n",
              " 'Dua\\xa0astronom\\xa0menemukan komet terbesar yang pernah terlihat di Tata Surya.\\xa0Komet\\xa0ini ditemukan saat keduanya menyisir data yang dikumpulkan oleh Dark Energy Survey.',\n",
              " 'Dikutip dari\\xa0Cnet,\\xa0komet tersebut ini dikatalogkan sebagai Komet C/2014 UN271, tetapi juga dikenal sebagai Komet Bernardinelli-Bernstein yang diambil dari nama duo penemunya, Pedro Bernardinelli dan Gary Bernstein. Keduanya sama-sama berasal dari University of Pennsylvania.',\n",
              " 'Jika kalian penasaran sebesar apa komet ini hingga disebut raksasa, perkiraan awal Bernardinelli dan Bernstein menyebutkan komet memiliki diameter mencapai 200 kilometer.',\n",
              " 'Namun ketika penelitian ini diajukan untuk dipublikasikan di The Astrophysical Journal Letters, perkiraan lebar diameter tersebut ditetapkan menjadi “hanya” 150 kilometer. Ukuran ini tetap menandakan komet tersebut berwujud raksasa.\\xa0Komet\\xa0Bernardinelli-Bernstein memiliki massa 10 kali lipat dari Komet Hale-Bopp, yang dikenal sebagai Komet Besar 1997.',\n",
              " 'Sementara itu, astronom Will Gater mengumpulkan banyak ilustrasi objek Tata Surya terkenal lainnya untuk mencatat skala seberapa besar bola raksasa di antariksa ini sebenarnya. Hal ini sempat dipublish dalam akun twitternya.',\n",
              " 'Hasil perbandingannya lebih mengejutkan lagi. Mega komet ini ternyata jauh lebih besar dari bulan terbesar milik Mars. Jika kita berimajinasi meletakkan dua bulannya Mars, Phobos dan Deimos, berdampingan dengan Komet Bernardinelli-Bernstein, maka akan terlihat ukuran komet ini dua kali lipat dari Phobos dan Deimos.',\n",
              " 'Menurut peneliti, komet besar ini tidak menimbulkan ancaman bertabrakan dengan Bumi dan menyebabkan peristiwa seperti zaman kepunahan dinosaurus. Namun, saat ini komet tersebut sedang menuju Tata Surya bagian dalam dan akan membuat lintasan terdekatnya dengan Matahari kita pada tahun 2031.',\n",
              " 'Komet\\xa0ini sepertinya akan menampilkan pertunjukan yang cukup bagus untuk para astronom dalam dekade mendatang. Bahkan, sejak sekarang Komet Bernardinelli-Bernstein sudah mulai memamerkan penampakannya lewat ledakan dan aktivitas peningkatan kecerahan yang dilaporkan oleh Las Cumbres Observatory awal bulan ini.',\n",
              " 'REFERENSI:',\n",
              " '',\n",
              " '        Setelah selesai membaca, yuk berikan artikel ini penilaian!      ',\n",
              " '        Klik berdasarkan jumlah bintang untuk menilai!      ',\n",
              " '',\n",
              " '      Rata-rata nilai 0 / 5. Banyaknya vote: 0 ',\n",
              " '      Belum ada yang menilai! Yuk jadi yang pertama kali menilai!    ',\n",
              " '\\n',\n",
              " '',\n",
              " '',\n",
              " 'Alamat email Anda tidak akan dipublikasikan. Ruas yang wajib ditandai *',\n",
              " 'Komentar ',\n",
              " 'Nama * ',\n",
              " 'Email * ',\n",
              " 'Situs Web ',\n",
              " ' \\n\\n',\n",
              " 'Cari Artikel',\n",
              " 'Langganan via Email',\n",
              " 'Masukkan Email Anda:',\n",
              " '',\n",
              " 'Artikel Pilihan Editor',\n",
              " ' Berdasarkan DJ International Journal of Medical Research, obat merupakan hal pertama yang di pertimbangkan saat suatu penyakit menyerang. Dari zaman … ',\n",
              " ' BepiColombo sedang di perjalanan sebelum mengorbit Merkurius tahun 2025. Bertemu dengan Merkurius minggu lalu, wahana buatan Eropa dan Jepang ini … ',\n",
              " ' Komet Komet\\xa0adalah benda\\xa0langit\\xa0yang mengelilingi\\xa0matahari\\xa0dengan\\xa0garis edar\\xa0berbentuk\\xa0lonjong,\\xa0parabolis, atau\\xa0hiperbolis. Istilah “komet” berasal dari\\xa0bahasa Yunani,\\xa0kometes\\xa0(κομήτης) yang berarti “rambut panjang”.\\xa0Istilah lainnya adalah\\xa0bintang berekor yang tidak … ',\n",
              " 'Artikel Terpopuler',\n",
              " '\\nBepiColombo: Misi Satelit ke Planet Neraka, Merkurius\\n',\n",
              " '\\nAda Apa Sebelum Big Bang? Ini Jawaban Peraih Nobel Fisika, Roger Penrose\\n',\n",
              " '\\nManajemen Bencana Dalam Perspektif Kesehatan Lingkungan dan Masyarakat\\n',\n",
              " '\\nBioinformatika, apa sih Bioinformatika itu?\\n',\n",
              " '\\nPancasila:  Pengertian, Sejarah, Butir, Nilai, dan Dasar Pandangan Hidup [Lengkap + Contoh Soal]\\n',\n",
              " 'Artikel yang Terkait',\n",
              " 'Didesain dengan hati | Copyright Warstek.com 2021 ',\n",
              " '',\n",
              " 'Kontak',\n",
              " 'Address: Jl. Sukolilo Baru gg. VI no 10 | Surabaya | Indonesia Phone: (+62)87750118140 Email: warstek.jurnal@gmail.com Office Hour: 08.00 WIB \\xa0– 15.00 WIB (Monday – Friday)']"
            ]
          },
          "metadata": {},
          "execution_count": 8
        }
      ]
    },
    {
      "cell_type": "code",
      "metadata": {
        "colab": {
          "base_uri": "https://localhost:8080/"
        },
        "id": "gVTGC_DmOlMt",
        "outputId": "7f16e340-6e3f-460a-93ee-7e8e165f2206"
      },
      "source": [
        "### Menghilangkan White Space\n",
        "\n",
        "Full_Text = [paragraf.strip() for paragraf in Full_Text if paragraf !=''] \n",
        "Full_Text"
      ],
      "execution_count": 9,
      "outputs": [
        {
          "output_type": "execute_result",
          "data": {
            "text/plain": [
              "['Sains dan Teknologi yang Seru dan Menyenangkan',\n",
              " 'Komet\\xa0adalah benda\\xa0langit\\xa0yang mengelilingi\\xa0matahari\\xa0dengan\\xa0garis edar\\xa0berbentuk\\xa0lonjong,\\xa0parabolis, atau\\xa0hiperbolis.',\n",
              " 'Istilah “komet” berasal dari\\xa0bahasa Yunani,\\xa0kometes\\xa0(κομήτης) yang berarti “rambut panjang”.\\xa0Istilah lainnya adalah\\xa0bintang berekor yang tidak tepat karena komet sama sekali bukan\\xa0bintang.\\xa0Orang Jawa menyebutnya sebagai\\xa0lintang kemukus\\xa0karena memiliki ekor mirip ‘kukus’ atau berdebu. Di samping itu, ekornya juga mirip buah\\xa0kemukus\\xa0yang dikeringkan.',\n",
              " 'Komet terbentuk dari\\xa0es\\xa0dan debu.\\xa0Komet terdiri dari kumpulan\\xa0debu\\xa0dan\\xa0gas\\xa0yang\\xa0membeku\\xa0pada saat berada jauh dari Matahari.\\xa0Ketika mendekati Matahari, sebagian\\xa0bahan\\xa0penyusun komet\\xa0menguap\\xa0membentuk kepala gas dan\\xa0ekor.\\xa0Komet juga mengelilingi Matahari, sehingga termasuk dalam sistem\\xa0tata surya. Komet merupakan\\xa0gas pijar\\xa0dengan garis edar yang berbeda-beda.\\xa0Panjang “ekor” komet dapat mencapai\\xa0jutaan\\xa0km.\\xa0Beberapa komet menempuh jarak lebih jauh di luar\\xa0angkasa\\xa0daripada\\xa0planet.\\xa0Beberapa komet membutuhkan\\xa0ribuan tahun\\xa0untuk menyelesaikan satu kali\\xa0mengorbit\\xa0Matahari.',\n",
              " 'Komet dapat dilihat ketika masih jauh dari matahari, bagian yang pertama kali dilihat adalah inti. Komet merupakan benda angkasa yang mirip\\xa0asteroid, tetapi hampir seluruhnya terbentuk dari gas (karbon dioksida,\\xa0metana,\\xa0air) dan debu yang membeku.',\n",
              " 'Seering juga disebut dengan\\xa0bintang berekor. Yang memiliki\\xa0orbit\\xa0atau lintasan yang berbentuk elips, lebih lonjong dan panjang daripada orbit planet. Komet merupakan benda angkasa seperti lapisan batu yang terlihat mempunyai cahaya dikarenakan adanya gesekan-gesekan atom-atom di udara.',\n",
              " 'Dua\\xa0astronom\\xa0menemukan komet terbesar yang pernah terlihat di Tata Surya.\\xa0Komet\\xa0ini ditemukan saat keduanya menyisir data yang dikumpulkan oleh Dark Energy Survey.',\n",
              " 'Dikutip dari\\xa0Cnet,\\xa0komet tersebut ini dikatalogkan sebagai Komet C/2014 UN271, tetapi juga dikenal sebagai Komet Bernardinelli-Bernstein yang diambil dari nama duo penemunya, Pedro Bernardinelli dan Gary Bernstein. Keduanya sama-sama berasal dari University of Pennsylvania.',\n",
              " 'Jika kalian penasaran sebesar apa komet ini hingga disebut raksasa, perkiraan awal Bernardinelli dan Bernstein menyebutkan komet memiliki diameter mencapai 200 kilometer.',\n",
              " 'Namun ketika penelitian ini diajukan untuk dipublikasikan di The Astrophysical Journal Letters, perkiraan lebar diameter tersebut ditetapkan menjadi “hanya” 150 kilometer. Ukuran ini tetap menandakan komet tersebut berwujud raksasa.\\xa0Komet\\xa0Bernardinelli-Bernstein memiliki massa 10 kali lipat dari Komet Hale-Bopp, yang dikenal sebagai Komet Besar 1997.',\n",
              " 'Sementara itu, astronom Will Gater mengumpulkan banyak ilustrasi objek Tata Surya terkenal lainnya untuk mencatat skala seberapa besar bola raksasa di antariksa ini sebenarnya. Hal ini sempat dipublish dalam akun twitternya.',\n",
              " 'Hasil perbandingannya lebih mengejutkan lagi. Mega komet ini ternyata jauh lebih besar dari bulan terbesar milik Mars. Jika kita berimajinasi meletakkan dua bulannya Mars, Phobos dan Deimos, berdampingan dengan Komet Bernardinelli-Bernstein, maka akan terlihat ukuran komet ini dua kali lipat dari Phobos dan Deimos.',\n",
              " 'Menurut peneliti, komet besar ini tidak menimbulkan ancaman bertabrakan dengan Bumi dan menyebabkan peristiwa seperti zaman kepunahan dinosaurus. Namun, saat ini komet tersebut sedang menuju Tata Surya bagian dalam dan akan membuat lintasan terdekatnya dengan Matahari kita pada tahun 2031.',\n",
              " 'Komet\\xa0ini sepertinya akan menampilkan pertunjukan yang cukup bagus untuk para astronom dalam dekade mendatang. Bahkan, sejak sekarang Komet Bernardinelli-Bernstein sudah mulai memamerkan penampakannya lewat ledakan dan aktivitas peningkatan kecerahan yang dilaporkan oleh Las Cumbres Observatory awal bulan ini.',\n",
              " 'REFERENSI:',\n",
              " 'Setelah selesai membaca, yuk berikan artikel ini penilaian!',\n",
              " 'Klik berdasarkan jumlah bintang untuk menilai!',\n",
              " 'Rata-rata nilai 0 / 5. Banyaknya vote: 0',\n",
              " 'Belum ada yang menilai! Yuk jadi yang pertama kali menilai!',\n",
              " '',\n",
              " 'Alamat email Anda tidak akan dipublikasikan. Ruas yang wajib ditandai *',\n",
              " 'Komentar',\n",
              " 'Nama *',\n",
              " 'Email *',\n",
              " 'Situs Web',\n",
              " '',\n",
              " 'Cari Artikel',\n",
              " 'Langganan via Email',\n",
              " 'Masukkan Email Anda:',\n",
              " 'Artikel Pilihan Editor',\n",
              " 'Berdasarkan DJ International Journal of Medical Research, obat merupakan hal pertama yang di pertimbangkan saat suatu penyakit menyerang. Dari zaman …',\n",
              " 'BepiColombo sedang di perjalanan sebelum mengorbit Merkurius tahun 2025. Bertemu dengan Merkurius minggu lalu, wahana buatan Eropa dan Jepang ini …',\n",
              " 'Komet Komet\\xa0adalah benda\\xa0langit\\xa0yang mengelilingi\\xa0matahari\\xa0dengan\\xa0garis edar\\xa0berbentuk\\xa0lonjong,\\xa0parabolis, atau\\xa0hiperbolis. Istilah “komet” berasal dari\\xa0bahasa Yunani,\\xa0kometes\\xa0(κομήτης) yang berarti “rambut panjang”.\\xa0Istilah lainnya adalah\\xa0bintang berekor yang tidak …',\n",
              " 'Artikel Terpopuler',\n",
              " 'BepiColombo: Misi Satelit ke Planet Neraka, Merkurius',\n",
              " 'Ada Apa Sebelum Big Bang? Ini Jawaban Peraih Nobel Fisika, Roger Penrose',\n",
              " 'Manajemen Bencana Dalam Perspektif Kesehatan Lingkungan dan Masyarakat',\n",
              " 'Bioinformatika, apa sih Bioinformatika itu?',\n",
              " 'Pancasila:  Pengertian, Sejarah, Butir, Nilai, dan Dasar Pandangan Hidup [Lengkap + Contoh Soal]',\n",
              " 'Artikel yang Terkait',\n",
              " 'Didesain dengan hati | Copyright Warstek.com 2021',\n",
              " 'Kontak',\n",
              " 'Address: Jl. Sukolilo Baru gg. VI no 10 | Surabaya | Indonesia Phone: (+62)87750118140 Email: warstek.jurnal@gmail.com Office Hour: 08.00 WIB \\xa0– 15.00 WIB (Monday – Friday)']"
            ]
          },
          "metadata": {},
          "execution_count": 9
        }
      ]
    },
    {
      "cell_type": "code",
      "metadata": {
        "colab": {
          "base_uri": "https://localhost:8080/",
          "height": 120
        },
        "id": "wVxTPlLHPQpR",
        "outputId": "c93d8e34-5eff-4d68-b703-f721f254d246"
      },
      "source": [
        "### Menggabungkan Tiap Line\n",
        "\n",
        "Full_Text = ' '.join(Full_Text)\n",
        "Full_Text"
      ],
      "execution_count": 10,
      "outputs": [
        {
          "output_type": "execute_result",
          "data": {
            "application/vnd.google.colaboratory.intrinsic+json": {
              "type": "string"
            },
            "text/plain": [
              "'Sains dan Teknologi yang Seru dan Menyenangkan Komet\\xa0adalah benda\\xa0langit\\xa0yang mengelilingi\\xa0matahari\\xa0dengan\\xa0garis edar\\xa0berbentuk\\xa0lonjong,\\xa0parabolis, atau\\xa0hiperbolis. Istilah “komet” berasal dari\\xa0bahasa Yunani,\\xa0kometes\\xa0(κομήτης) yang berarti “rambut panjang”.\\xa0Istilah lainnya adalah\\xa0bintang berekor yang tidak tepat karena komet sama sekali bukan\\xa0bintang.\\xa0Orang Jawa menyebutnya sebagai\\xa0lintang kemukus\\xa0karena memiliki ekor mirip ‘kukus’ atau berdebu. Di samping itu, ekornya juga mirip buah\\xa0kemukus\\xa0yang dikeringkan. Komet terbentuk dari\\xa0es\\xa0dan debu.\\xa0Komet terdiri dari kumpulan\\xa0debu\\xa0dan\\xa0gas\\xa0yang\\xa0membeku\\xa0pada saat berada jauh dari Matahari.\\xa0Ketika mendekati Matahari, sebagian\\xa0bahan\\xa0penyusun komet\\xa0menguap\\xa0membentuk kepala gas dan\\xa0ekor.\\xa0Komet juga mengelilingi Matahari, sehingga termasuk dalam sistem\\xa0tata surya. Komet merupakan\\xa0gas pijar\\xa0dengan garis edar yang berbeda-beda.\\xa0Panjang “ekor” komet dapat mencapai\\xa0jutaan\\xa0km.\\xa0Beberapa komet menempuh jarak lebih jauh di luar\\xa0angkasa\\xa0daripada\\xa0planet.\\xa0Beberapa komet membutuhkan\\xa0ribuan tahun\\xa0untuk menyelesaikan satu kali\\xa0mengorbit\\xa0Matahari. Komet dapat dilihat ketika masih jauh dari matahari, bagian yang pertama kali dilihat adalah inti. Komet merupakan benda angkasa yang mirip\\xa0asteroid, tetapi hampir seluruhnya terbentuk dari gas (karbon dioksida,\\xa0metana,\\xa0air) dan debu yang membeku. Seering juga disebut dengan\\xa0bintang berekor. Yang memiliki\\xa0orbit\\xa0atau lintasan yang berbentuk elips, lebih lonjong dan panjang daripada orbit planet. Komet merupakan benda angkasa seperti lapisan batu yang terlihat mempunyai cahaya dikarenakan adanya gesekan-gesekan atom-atom di udara. Dua\\xa0astronom\\xa0menemukan komet terbesar yang pernah terlihat di Tata Surya.\\xa0Komet\\xa0ini ditemukan saat keduanya menyisir data yang dikumpulkan oleh Dark Energy Survey. Dikutip dari\\xa0Cnet,\\xa0komet tersebut ini dikatalogkan sebagai Komet C/2014 UN271, tetapi juga dikenal sebagai Komet Bernardinelli-Bernstein yang diambil dari nama duo penemunya, Pedro Bernardinelli dan Gary Bernstein. Keduanya sama-sama berasal dari University of Pennsylvania. Jika kalian penasaran sebesar apa komet ini hingga disebut raksasa, perkiraan awal Bernardinelli dan Bernstein menyebutkan komet memiliki diameter mencapai 200 kilometer. Namun ketika penelitian ini diajukan untuk dipublikasikan di The Astrophysical Journal Letters, perkiraan lebar diameter tersebut ditetapkan menjadi “hanya” 150 kilometer. Ukuran ini tetap menandakan komet tersebut berwujud raksasa.\\xa0Komet\\xa0Bernardinelli-Bernstein memiliki massa 10 kali lipat dari Komet Hale-Bopp, yang dikenal sebagai Komet Besar 1997. Sementara itu, astronom Will Gater mengumpulkan banyak ilustrasi objek Tata Surya terkenal lainnya untuk mencatat skala seberapa besar bola raksasa di antariksa ini sebenarnya. Hal ini sempat dipublish dalam akun twitternya. Hasil perbandingannya lebih mengejutkan lagi. Mega komet ini ternyata jauh lebih besar dari bulan terbesar milik Mars. Jika kita berimajinasi meletakkan dua bulannya Mars, Phobos dan Deimos, berdampingan dengan Komet Bernardinelli-Bernstein, maka akan terlihat ukuran komet ini dua kali lipat dari Phobos dan Deimos. Menurut peneliti, komet besar ini tidak menimbulkan ancaman bertabrakan dengan Bumi dan menyebabkan peristiwa seperti zaman kepunahan dinosaurus. Namun, saat ini komet tersebut sedang menuju Tata Surya bagian dalam dan akan membuat lintasan terdekatnya dengan Matahari kita pada tahun 2031. Komet\\xa0ini sepertinya akan menampilkan pertunjukan yang cukup bagus untuk para astronom dalam dekade mendatang. Bahkan, sejak sekarang Komet Bernardinelli-Bernstein sudah mulai memamerkan penampakannya lewat ledakan dan aktivitas peningkatan kecerahan yang dilaporkan oleh Las Cumbres Observatory awal bulan ini. REFERENSI: Setelah selesai membaca, yuk berikan artikel ini penilaian! Klik berdasarkan jumlah bintang untuk menilai! Rata-rata nilai 0 / 5. Banyaknya vote: 0 Belum ada yang menilai! Yuk jadi yang pertama kali menilai!  Alamat email Anda tidak akan dipublikasikan. Ruas yang wajib ditandai * Komentar Nama * Email * Situs Web  Cari Artikel Langganan via Email Masukkan Email Anda: Artikel Pilihan Editor Berdasarkan DJ International Journal of Medical Research, obat merupakan hal pertama yang di pertimbangkan saat suatu penyakit menyerang. Dari zaman … BepiColombo sedang di perjalanan sebelum mengorbit Merkurius tahun 2025. Bertemu dengan Merkurius minggu lalu, wahana buatan Eropa dan Jepang ini … Komet Komet\\xa0adalah benda\\xa0langit\\xa0yang mengelilingi\\xa0matahari\\xa0dengan\\xa0garis edar\\xa0berbentuk\\xa0lonjong,\\xa0parabolis, atau\\xa0hiperbolis. Istilah “komet” berasal dari\\xa0bahasa Yunani,\\xa0kometes\\xa0(κομήτης) yang berarti “rambut panjang”.\\xa0Istilah lainnya adalah\\xa0bintang berekor yang tidak … Artikel Terpopuler BepiColombo: Misi Satelit ke Planet Neraka, Merkurius Ada Apa Sebelum Big Bang? Ini Jawaban Peraih Nobel Fisika, Roger Penrose Manajemen Bencana Dalam Perspektif Kesehatan Lingkungan dan Masyarakat Bioinformatika, apa sih Bioinformatika itu? Pancasila:  Pengertian, Sejarah, Butir, Nilai, dan Dasar Pandangan Hidup [Lengkap + Contoh Soal] Artikel yang Terkait Didesain dengan hati | Copyright Warstek.com 2021 Kontak Address: Jl. Sukolilo Baru gg. VI no 10 | Surabaya | Indonesia Phone: (+62)87750118140 Email: warstek.jurnal@gmail.com Office Hour: 08.00 WIB \\xa0– 15.00 WIB (Monday – Friday)'"
            ]
          },
          "metadata": {},
          "execution_count": 10
        }
      ]
    },
    {
      "cell_type": "markdown",
      "metadata": {
        "id": "30K0M3wpP4yC"
      },
      "source": [
        "Preprcessing Text Bahasa Indonesia"
      ]
    },
    {
      "cell_type": "code",
      "metadata": {
        "id": "MgA4ugBrPy4l"
      },
      "source": [
        "text = Full_Text "
      ],
      "execution_count": 11,
      "outputs": []
    },
    {
      "cell_type": "code",
      "metadata": {
        "colab": {
          "base_uri": "https://localhost:8080/",
          "height": 120
        },
        "id": "8WfKUWXNSFJC",
        "outputId": "34efe9bf-e536-476f-b9dc-236c3db54431"
      },
      "source": [
        "### lower text \n",
        "\n",
        "text = text.lower()\n",
        "text"
      ],
      "execution_count": 12,
      "outputs": [
        {
          "output_type": "execute_result",
          "data": {
            "application/vnd.google.colaboratory.intrinsic+json": {
              "type": "string"
            },
            "text/plain": [
              "'sains dan teknologi yang seru dan menyenangkan komet\\xa0adalah benda\\xa0langit\\xa0yang mengelilingi\\xa0matahari\\xa0dengan\\xa0garis edar\\xa0berbentuk\\xa0lonjong,\\xa0parabolis, atau\\xa0hiperbolis. istilah “komet” berasal dari\\xa0bahasa yunani,\\xa0kometes\\xa0(κομήτης) yang berarti “rambut panjang”.\\xa0istilah lainnya adalah\\xa0bintang berekor yang tidak tepat karena komet sama sekali bukan\\xa0bintang.\\xa0orang jawa menyebutnya sebagai\\xa0lintang kemukus\\xa0karena memiliki ekor mirip ‘kukus’ atau berdebu. di samping itu, ekornya juga mirip buah\\xa0kemukus\\xa0yang dikeringkan. komet terbentuk dari\\xa0es\\xa0dan debu.\\xa0komet terdiri dari kumpulan\\xa0debu\\xa0dan\\xa0gas\\xa0yang\\xa0membeku\\xa0pada saat berada jauh dari matahari.\\xa0ketika mendekati matahari, sebagian\\xa0bahan\\xa0penyusun komet\\xa0menguap\\xa0membentuk kepala gas dan\\xa0ekor.\\xa0komet juga mengelilingi matahari, sehingga termasuk dalam sistem\\xa0tata surya. komet merupakan\\xa0gas pijar\\xa0dengan garis edar yang berbeda-beda.\\xa0panjang “ekor” komet dapat mencapai\\xa0jutaan\\xa0km.\\xa0beberapa komet menempuh jarak lebih jauh di luar\\xa0angkasa\\xa0daripada\\xa0planet.\\xa0beberapa komet membutuhkan\\xa0ribuan tahun\\xa0untuk menyelesaikan satu kali\\xa0mengorbit\\xa0matahari. komet dapat dilihat ketika masih jauh dari matahari, bagian yang pertama kali dilihat adalah inti. komet merupakan benda angkasa yang mirip\\xa0asteroid, tetapi hampir seluruhnya terbentuk dari gas (karbon dioksida,\\xa0metana,\\xa0air) dan debu yang membeku. seering juga disebut dengan\\xa0bintang berekor. yang memiliki\\xa0orbit\\xa0atau lintasan yang berbentuk elips, lebih lonjong dan panjang daripada orbit planet. komet merupakan benda angkasa seperti lapisan batu yang terlihat mempunyai cahaya dikarenakan adanya gesekan-gesekan atom-atom di udara. dua\\xa0astronom\\xa0menemukan komet terbesar yang pernah terlihat di tata surya.\\xa0komet\\xa0ini ditemukan saat keduanya menyisir data yang dikumpulkan oleh dark energy survey. dikutip dari\\xa0cnet,\\xa0komet tersebut ini dikatalogkan sebagai komet c/2014 un271, tetapi juga dikenal sebagai komet bernardinelli-bernstein yang diambil dari nama duo penemunya, pedro bernardinelli dan gary bernstein. keduanya sama-sama berasal dari university of pennsylvania. jika kalian penasaran sebesar apa komet ini hingga disebut raksasa, perkiraan awal bernardinelli dan bernstein menyebutkan komet memiliki diameter mencapai 200 kilometer. namun ketika penelitian ini diajukan untuk dipublikasikan di the astrophysical journal letters, perkiraan lebar diameter tersebut ditetapkan menjadi “hanya” 150 kilometer. ukuran ini tetap menandakan komet tersebut berwujud raksasa.\\xa0komet\\xa0bernardinelli-bernstein memiliki massa 10 kali lipat dari komet hale-bopp, yang dikenal sebagai komet besar 1997. sementara itu, astronom will gater mengumpulkan banyak ilustrasi objek tata surya terkenal lainnya untuk mencatat skala seberapa besar bola raksasa di antariksa ini sebenarnya. hal ini sempat dipublish dalam akun twitternya. hasil perbandingannya lebih mengejutkan lagi. mega komet ini ternyata jauh lebih besar dari bulan terbesar milik mars. jika kita berimajinasi meletakkan dua bulannya mars, phobos dan deimos, berdampingan dengan komet bernardinelli-bernstein, maka akan terlihat ukuran komet ini dua kali lipat dari phobos dan deimos. menurut peneliti, komet besar ini tidak menimbulkan ancaman bertabrakan dengan bumi dan menyebabkan peristiwa seperti zaman kepunahan dinosaurus. namun, saat ini komet tersebut sedang menuju tata surya bagian dalam dan akan membuat lintasan terdekatnya dengan matahari kita pada tahun 2031. komet\\xa0ini sepertinya akan menampilkan pertunjukan yang cukup bagus untuk para astronom dalam dekade mendatang. bahkan, sejak sekarang komet bernardinelli-bernstein sudah mulai memamerkan penampakannya lewat ledakan dan aktivitas peningkatan kecerahan yang dilaporkan oleh las cumbres observatory awal bulan ini. referensi: setelah selesai membaca, yuk berikan artikel ini penilaian! klik berdasarkan jumlah bintang untuk menilai! rata-rata nilai 0 / 5. banyaknya vote: 0 belum ada yang menilai! yuk jadi yang pertama kali menilai!  alamat email anda tidak akan dipublikasikan. ruas yang wajib ditandai * komentar nama * email * situs web  cari artikel langganan via email masukkan email anda: artikel pilihan editor berdasarkan dj international journal of medical research, obat merupakan hal pertama yang di pertimbangkan saat suatu penyakit menyerang. dari zaman … bepicolombo sedang di perjalanan sebelum mengorbit merkurius tahun 2025. bertemu dengan merkurius minggu lalu, wahana buatan eropa dan jepang ini … komet komet\\xa0adalah benda\\xa0langit\\xa0yang mengelilingi\\xa0matahari\\xa0dengan\\xa0garis edar\\xa0berbentuk\\xa0lonjong,\\xa0parabolis, atau\\xa0hiperbolis. istilah “komet” berasal dari\\xa0bahasa yunani,\\xa0kometes\\xa0(κομήτης) yang berarti “rambut panjang”.\\xa0istilah lainnya adalah\\xa0bintang berekor yang tidak … artikel terpopuler bepicolombo: misi satelit ke planet neraka, merkurius ada apa sebelum big bang? ini jawaban peraih nobel fisika, roger penrose manajemen bencana dalam perspektif kesehatan lingkungan dan masyarakat bioinformatika, apa sih bioinformatika itu? pancasila:  pengertian, sejarah, butir, nilai, dan dasar pandangan hidup [lengkap + contoh soal] artikel yang terkait didesain dengan hati | copyright warstek.com 2021 kontak address: jl. sukolilo baru gg. vi no 10 | surabaya | indonesia phone: (+62)87750118140 email: warstek.jurnal@gmail.com office hour: 08.00 wib \\xa0– 15.00 wib (monday – friday)'"
            ]
          },
          "metadata": {},
          "execution_count": 12
        }
      ]
    },
    {
      "cell_type": "code",
      "metadata": {
        "id": "RfNVsMl_Slp4"
      },
      "source": [
        "import re"
      ],
      "execution_count": 13,
      "outputs": []
    },
    {
      "cell_type": "code",
      "metadata": {
        "colab": {
          "base_uri": "https://localhost:8080/",
          "height": 120
        },
        "id": "AUrbXgpHSaKF",
        "outputId": "41e5b72f-c8f1-4b06-9287-62ee7ac0ac26"
      },
      "source": [
        "### menghilangkan simbol2 \n",
        "\n",
        "text = re.sub(r'[-()\\\"#/@;:<>{}+=|!?,]','', text)  \n",
        "text"
      ],
      "execution_count": 14,
      "outputs": [
        {
          "output_type": "execute_result",
          "data": {
            "application/vnd.google.colaboratory.intrinsic+json": {
              "type": "string"
            },
            "text/plain": [
              "'sains dan teknologi yang seru dan menyenangkan komet\\xa0adalah benda\\xa0langit\\xa0yang mengelilingi\\xa0matahari\\xa0dengan\\xa0garis edar\\xa0berbentuk\\xa0lonjong\\xa0parabolis atau\\xa0hiperbolis. istilah “komet” berasal dari\\xa0bahasa yunani\\xa0kometes\\xa0κομήτης yang berarti “rambut panjang”.\\xa0istilah lainnya adalah\\xa0bintang berekor yang tidak tepat karena komet sama sekali bukan\\xa0bintang.\\xa0orang jawa menyebutnya sebagai\\xa0lintang kemukus\\xa0karena memiliki ekor mirip ‘kukus’ atau berdebu. di samping itu ekornya juga mirip buah\\xa0kemukus\\xa0yang dikeringkan. komet terbentuk dari\\xa0es\\xa0dan debu.\\xa0komet terdiri dari kumpulan\\xa0debu\\xa0dan\\xa0gas\\xa0yang\\xa0membeku\\xa0pada saat berada jauh dari matahari.\\xa0ketika mendekati matahari sebagian\\xa0bahan\\xa0penyusun komet\\xa0menguap\\xa0membentuk kepala gas dan\\xa0ekor.\\xa0komet juga mengelilingi matahari sehingga termasuk dalam sistem\\xa0tata surya. komet merupakan\\xa0gas pijar\\xa0dengan garis edar yang berbedabeda.\\xa0panjang “ekor” komet dapat mencapai\\xa0jutaan\\xa0km.\\xa0beberapa komet menempuh jarak lebih jauh di luar\\xa0angkasa\\xa0daripada\\xa0planet.\\xa0beberapa komet membutuhkan\\xa0ribuan tahun\\xa0untuk menyelesaikan satu kali\\xa0mengorbit\\xa0matahari. komet dapat dilihat ketika masih jauh dari matahari bagian yang pertama kali dilihat adalah inti. komet merupakan benda angkasa yang mirip\\xa0asteroid tetapi hampir seluruhnya terbentuk dari gas karbon dioksida\\xa0metana\\xa0air dan debu yang membeku. seering juga disebut dengan\\xa0bintang berekor. yang memiliki\\xa0orbit\\xa0atau lintasan yang berbentuk elips lebih lonjong dan panjang daripada orbit planet. komet merupakan benda angkasa seperti lapisan batu yang terlihat mempunyai cahaya dikarenakan adanya gesekangesekan atomatom di udara. dua\\xa0astronom\\xa0menemukan komet terbesar yang pernah terlihat di tata surya.\\xa0komet\\xa0ini ditemukan saat keduanya menyisir data yang dikumpulkan oleh dark energy survey. dikutip dari\\xa0cnet\\xa0komet tersebut ini dikatalogkan sebagai komet c2014 un271 tetapi juga dikenal sebagai komet bernardinellibernstein yang diambil dari nama duo penemunya pedro bernardinelli dan gary bernstein. keduanya samasama berasal dari university of pennsylvania. jika kalian penasaran sebesar apa komet ini hingga disebut raksasa perkiraan awal bernardinelli dan bernstein menyebutkan komet memiliki diameter mencapai 200 kilometer. namun ketika penelitian ini diajukan untuk dipublikasikan di the astrophysical journal letters perkiraan lebar diameter tersebut ditetapkan menjadi “hanya” 150 kilometer. ukuran ini tetap menandakan komet tersebut berwujud raksasa.\\xa0komet\\xa0bernardinellibernstein memiliki massa 10 kali lipat dari komet halebopp yang dikenal sebagai komet besar 1997. sementara itu astronom will gater mengumpulkan banyak ilustrasi objek tata surya terkenal lainnya untuk mencatat skala seberapa besar bola raksasa di antariksa ini sebenarnya. hal ini sempat dipublish dalam akun twitternya. hasil perbandingannya lebih mengejutkan lagi. mega komet ini ternyata jauh lebih besar dari bulan terbesar milik mars. jika kita berimajinasi meletakkan dua bulannya mars phobos dan deimos berdampingan dengan komet bernardinellibernstein maka akan terlihat ukuran komet ini dua kali lipat dari phobos dan deimos. menurut peneliti komet besar ini tidak menimbulkan ancaman bertabrakan dengan bumi dan menyebabkan peristiwa seperti zaman kepunahan dinosaurus. namun saat ini komet tersebut sedang menuju tata surya bagian dalam dan akan membuat lintasan terdekatnya dengan matahari kita pada tahun 2031. komet\\xa0ini sepertinya akan menampilkan pertunjukan yang cukup bagus untuk para astronom dalam dekade mendatang. bahkan sejak sekarang komet bernardinellibernstein sudah mulai memamerkan penampakannya lewat ledakan dan aktivitas peningkatan kecerahan yang dilaporkan oleh las cumbres observatory awal bulan ini. referensi setelah selesai membaca yuk berikan artikel ini penilaian klik berdasarkan jumlah bintang untuk menilai ratarata nilai 0  5. banyaknya vote 0 belum ada yang menilai yuk jadi yang pertama kali menilai  alamat email anda tidak akan dipublikasikan. ruas yang wajib ditandai * komentar nama * email * situs web  cari artikel langganan via email masukkan email anda artikel pilihan editor berdasarkan dj international journal of medical research obat merupakan hal pertama yang di pertimbangkan saat suatu penyakit menyerang. dari zaman … bepicolombo sedang di perjalanan sebelum mengorbit merkurius tahun 2025. bertemu dengan merkurius minggu lalu wahana buatan eropa dan jepang ini … komet komet\\xa0adalah benda\\xa0langit\\xa0yang mengelilingi\\xa0matahari\\xa0dengan\\xa0garis edar\\xa0berbentuk\\xa0lonjong\\xa0parabolis atau\\xa0hiperbolis. istilah “komet” berasal dari\\xa0bahasa yunani\\xa0kometes\\xa0κομήτης yang berarti “rambut panjang”.\\xa0istilah lainnya adalah\\xa0bintang berekor yang tidak … artikel terpopuler bepicolombo misi satelit ke planet neraka merkurius ada apa sebelum big bang ini jawaban peraih nobel fisika roger penrose manajemen bencana dalam perspektif kesehatan lingkungan dan masyarakat bioinformatika apa sih bioinformatika itu pancasila  pengertian sejarah butir nilai dan dasar pandangan hidup [lengkap  contoh soal] artikel yang terkait didesain dengan hati  copyright warstek.com 2021 kontak address jl. sukolilo baru gg. vi no 10  surabaya  indonesia phone 6287750118140 email warstek.jurnalgmail.com office hour 08.00 wib \\xa0– 15.00 wib monday – friday'"
            ]
          },
          "metadata": {},
          "execution_count": 14
        }
      ]
    },
    {
      "cell_type": "code",
      "metadata": {
        "colab": {
          "base_uri": "https://localhost:8080/"
        },
        "id": "Azla-PVMUdJx",
        "outputId": "4cfb90ee-51d6-4597-d6d6-e429c89caeea"
      },
      "source": [
        "import nltk\n",
        "from nltk import word_tokenize\n",
        "nltk.download('punkt')\n",
        "nltk.download('stopwprd')\n",
        "nltk.download('wordnet')"
      ],
      "execution_count": 15,
      "outputs": [
        {
          "output_type": "stream",
          "name": "stdout",
          "text": [
            "[nltk_data] Downloading package punkt to /root/nltk_data...\n",
            "[nltk_data]   Package punkt is already up-to-date!\n",
            "[nltk_data] Error loading stopwprd: Package 'stopwprd' not found in\n",
            "[nltk_data]     index\n",
            "[nltk_data] Downloading package wordnet to /root/nltk_data...\n",
            "[nltk_data]   Package wordnet is already up-to-date!\n"
          ]
        },
        {
          "output_type": "execute_result",
          "data": {
            "text/plain": [
              "True"
            ]
          },
          "metadata": {},
          "execution_count": 15
        }
      ]
    },
    {
      "cell_type": "code",
      "metadata": {
        "colab": {
          "base_uri": "https://localhost:8080/"
        },
        "id": "sArilKAjTtAi",
        "outputId": "dbb8e2c0-f6cd-4881-ddd3-2c64bad0376b"
      },
      "source": [
        "### Tokenizing \n",
        "\n",
        "token = word_tokenize(text) \n",
        "print(token)"
      ],
      "execution_count": 16,
      "outputs": [
        {
          "output_type": "stream",
          "name": "stdout",
          "text": [
            "['sains', 'dan', 'teknologi', 'yang', 'seru', 'dan', 'menyenangkan', 'komet', 'adalah', 'benda', 'langit', 'yang', 'mengelilingi', 'matahari', 'dengan', 'garis', 'edar', 'berbentuk', 'lonjong', 'parabolis', 'atau', 'hiperbolis', '.', 'istilah', '“', 'komet', '”', 'berasal', 'dari', 'bahasa', 'yunani', 'kometes', 'κομήτης', 'yang', 'berarti', '“', 'rambut', 'panjang', '”', '.', 'istilah', 'lainnya', 'adalah', 'bintang', 'berekor', 'yang', 'tidak', 'tepat', 'karena', 'komet', 'sama', 'sekali', 'bukan', 'bintang', '.', 'orang', 'jawa', 'menyebutnya', 'sebagai', 'lintang', 'kemukus', 'karena', 'memiliki', 'ekor', 'mirip', '‘', 'kukus', '’', 'atau', 'berdebu', '.', 'di', 'samping', 'itu', 'ekornya', 'juga', 'mirip', 'buah', 'kemukus', 'yang', 'dikeringkan', '.', 'komet', 'terbentuk', 'dari', 'es', 'dan', 'debu', '.', 'komet', 'terdiri', 'dari', 'kumpulan', 'debu', 'dan', 'gas', 'yang', 'membeku', 'pada', 'saat', 'berada', 'jauh', 'dari', 'matahari', '.', 'ketika', 'mendekati', 'matahari', 'sebagian', 'bahan', 'penyusun', 'komet', 'menguap', 'membentuk', 'kepala', 'gas', 'dan', 'ekor', '.', 'komet', 'juga', 'mengelilingi', 'matahari', 'sehingga', 'termasuk', 'dalam', 'sistem', 'tata', 'surya', '.', 'komet', 'merupakan', 'gas', 'pijar', 'dengan', 'garis', 'edar', 'yang', 'berbedabeda', '.', 'panjang', '“', 'ekor', '”', 'komet', 'dapat', 'mencapai', 'jutaan', 'km', '.', 'beberapa', 'komet', 'menempuh', 'jarak', 'lebih', 'jauh', 'di', 'luar', 'angkasa', 'daripada', 'planet', '.', 'beberapa', 'komet', 'membutuhkan', 'ribuan', 'tahun', 'untuk', 'menyelesaikan', 'satu', 'kali', 'mengorbit', 'matahari', '.', 'komet', 'dapat', 'dilihat', 'ketika', 'masih', 'jauh', 'dari', 'matahari', 'bagian', 'yang', 'pertama', 'kali', 'dilihat', 'adalah', 'inti', '.', 'komet', 'merupakan', 'benda', 'angkasa', 'yang', 'mirip', 'asteroid', 'tetapi', 'hampir', 'seluruhnya', 'terbentuk', 'dari', 'gas', 'karbon', 'dioksida', 'metana', 'air', 'dan', 'debu', 'yang', 'membeku', '.', 'seering', 'juga', 'disebut', 'dengan', 'bintang', 'berekor', '.', 'yang', 'memiliki', 'orbit', 'atau', 'lintasan', 'yang', 'berbentuk', 'elips', 'lebih', 'lonjong', 'dan', 'panjang', 'daripada', 'orbit', 'planet', '.', 'komet', 'merupakan', 'benda', 'angkasa', 'seperti', 'lapisan', 'batu', 'yang', 'terlihat', 'mempunyai', 'cahaya', 'dikarenakan', 'adanya', 'gesekangesekan', 'atomatom', 'di', 'udara', '.', 'dua', 'astronom', 'menemukan', 'komet', 'terbesar', 'yang', 'pernah', 'terlihat', 'di', 'tata', 'surya', '.', 'komet', 'ini', 'ditemukan', 'saat', 'keduanya', 'menyisir', 'data', 'yang', 'dikumpulkan', 'oleh', 'dark', 'energy', 'survey', '.', 'dikutip', 'dari', 'cnet', 'komet', 'tersebut', 'ini', 'dikatalogkan', 'sebagai', 'komet', 'c2014', 'un271', 'tetapi', 'juga', 'dikenal', 'sebagai', 'komet', 'bernardinellibernstein', 'yang', 'diambil', 'dari', 'nama', 'duo', 'penemunya', 'pedro', 'bernardinelli', 'dan', 'gary', 'bernstein', '.', 'keduanya', 'samasama', 'berasal', 'dari', 'university', 'of', 'pennsylvania', '.', 'jika', 'kalian', 'penasaran', 'sebesar', 'apa', 'komet', 'ini', 'hingga', 'disebut', 'raksasa', 'perkiraan', 'awal', 'bernardinelli', 'dan', 'bernstein', 'menyebutkan', 'komet', 'memiliki', 'diameter', 'mencapai', '200', 'kilometer', '.', 'namun', 'ketika', 'penelitian', 'ini', 'diajukan', 'untuk', 'dipublikasikan', 'di', 'the', 'astrophysical', 'journal', 'letters', 'perkiraan', 'lebar', 'diameter', 'tersebut', 'ditetapkan', 'menjadi', '“', 'hanya', '”', '150', 'kilometer', '.', 'ukuran', 'ini', 'tetap', 'menandakan', 'komet', 'tersebut', 'berwujud', 'raksasa', '.', 'komet', 'bernardinellibernstein', 'memiliki', 'massa', '10', 'kali', 'lipat', 'dari', 'komet', 'halebopp', 'yang', 'dikenal', 'sebagai', 'komet', 'besar', '1997.', 'sementara', 'itu', 'astronom', 'will', 'gater', 'mengumpulkan', 'banyak', 'ilustrasi', 'objek', 'tata', 'surya', 'terkenal', 'lainnya', 'untuk', 'mencatat', 'skala', 'seberapa', 'besar', 'bola', 'raksasa', 'di', 'antariksa', 'ini', 'sebenarnya', '.', 'hal', 'ini', 'sempat', 'dipublish', 'dalam', 'akun', 'twitternya', '.', 'hasil', 'perbandingannya', 'lebih', 'mengejutkan', 'lagi', '.', 'mega', 'komet', 'ini', 'ternyata', 'jauh', 'lebih', 'besar', 'dari', 'bulan', 'terbesar', 'milik', 'mars', '.', 'jika', 'kita', 'berimajinasi', 'meletakkan', 'dua', 'bulannya', 'mars', 'phobos', 'dan', 'deimos', 'berdampingan', 'dengan', 'komet', 'bernardinellibernstein', 'maka', 'akan', 'terlihat', 'ukuran', 'komet', 'ini', 'dua', 'kali', 'lipat', 'dari', 'phobos', 'dan', 'deimos', '.', 'menurut', 'peneliti', 'komet', 'besar', 'ini', 'tidak', 'menimbulkan', 'ancaman', 'bertabrakan', 'dengan', 'bumi', 'dan', 'menyebabkan', 'peristiwa', 'seperti', 'zaman', 'kepunahan', 'dinosaurus', '.', 'namun', 'saat', 'ini', 'komet', 'tersebut', 'sedang', 'menuju', 'tata', 'surya', 'bagian', 'dalam', 'dan', 'akan', 'membuat', 'lintasan', 'terdekatnya', 'dengan', 'matahari', 'kita', 'pada', 'tahun', '2031.', 'komet', 'ini', 'sepertinya', 'akan', 'menampilkan', 'pertunjukan', 'yang', 'cukup', 'bagus', 'untuk', 'para', 'astronom', 'dalam', 'dekade', 'mendatang', '.', 'bahkan', 'sejak', 'sekarang', 'komet', 'bernardinellibernstein', 'sudah', 'mulai', 'memamerkan', 'penampakannya', 'lewat', 'ledakan', 'dan', 'aktivitas', 'peningkatan', 'kecerahan', 'yang', 'dilaporkan', 'oleh', 'las', 'cumbres', 'observatory', 'awal', 'bulan', 'ini', '.', 'referensi', 'setelah', 'selesai', 'membaca', 'yuk', 'berikan', 'artikel', 'ini', 'penilaian', 'klik', 'berdasarkan', 'jumlah', 'bintang', 'untuk', 'menilai', 'ratarata', 'nilai', '0', '5.', 'banyaknya', 'vote', '0', 'belum', 'ada', 'yang', 'menilai', 'yuk', 'jadi', 'yang', 'pertama', 'kali', 'menilai', 'alamat', 'email', 'anda', 'tidak', 'akan', 'dipublikasikan', '.', 'ruas', 'yang', 'wajib', 'ditandai', '*', 'komentar', 'nama', '*', 'email', '*', 'situs', 'web', 'cari', 'artikel', 'langganan', 'via', 'email', 'masukkan', 'email', 'anda', 'artikel', 'pilihan', 'editor', 'berdasarkan', 'dj', 'international', 'journal', 'of', 'medical', 'research', 'obat', 'merupakan', 'hal', 'pertama', 'yang', 'di', 'pertimbangkan', 'saat', 'suatu', 'penyakit', 'menyerang', '.', 'dari', 'zaman', '…', 'bepicolombo', 'sedang', 'di', 'perjalanan', 'sebelum', 'mengorbit', 'merkurius', 'tahun', '2025.', 'bertemu', 'dengan', 'merkurius', 'minggu', 'lalu', 'wahana', 'buatan', 'eropa', 'dan', 'jepang', 'ini', '…', 'komet', 'komet', 'adalah', 'benda', 'langit', 'yang', 'mengelilingi', 'matahari', 'dengan', 'garis', 'edar', 'berbentuk', 'lonjong', 'parabolis', 'atau', 'hiperbolis', '.', 'istilah', '“', 'komet', '”', 'berasal', 'dari', 'bahasa', 'yunani', 'kometes', 'κομήτης', 'yang', 'berarti', '“', 'rambut', 'panjang', '”', '.', 'istilah', 'lainnya', 'adalah', 'bintang', 'berekor', 'yang', 'tidak', '…', 'artikel', 'terpopuler', 'bepicolombo', 'misi', 'satelit', 'ke', 'planet', 'neraka', 'merkurius', 'ada', 'apa', 'sebelum', 'big', 'bang', 'ini', 'jawaban', 'peraih', 'nobel', 'fisika', 'roger', 'penrose', 'manajemen', 'bencana', 'dalam', 'perspektif', 'kesehatan', 'lingkungan', 'dan', 'masyarakat', 'bioinformatika', 'apa', 'sih', 'bioinformatika', 'itu', 'pancasila', 'pengertian', 'sejarah', 'butir', 'nilai', 'dan', 'dasar', 'pandangan', 'hidup', '[', 'lengkap', 'contoh', 'soal', ']', 'artikel', 'yang', 'terkait', 'didesain', 'dengan', 'hati', 'copyright', 'warstek.com', '2021', 'kontak', 'address', 'jl', '.', 'sukolilo', 'baru', 'gg', '.', 'vi', 'no', '10', 'surabaya', 'indonesia', 'phone', '6287750118140', 'email', 'warstek.jurnalgmail.com', 'office', 'hour', '08.00', 'wib', '–', '15.00', 'wib', 'monday', '–', 'friday']\n"
          ]
        }
      ]
    },
    {
      "cell_type": "code",
      "metadata": {
        "colab": {
          "base_uri": "https://localhost:8080/"
        },
        "id": "_bf1HK-4U4GU",
        "outputId": "a3808d21-bc8d-4602-8551-b734436c281e"
      },
      "source": [
        "### install sastrawi \n",
        "\n",
        "!pip3 install Sastrawi"
      ],
      "execution_count": 17,
      "outputs": [
        {
          "output_type": "stream",
          "name": "stdout",
          "text": [
            "Requirement already satisfied: Sastrawi in /usr/local/lib/python3.7/dist-packages (1.0.1)\n"
          ]
        }
      ]
    },
    {
      "cell_type": "code",
      "metadata": {
        "id": "f35hr_JUVEro"
      },
      "source": [
        "from Sastrawi.StopWordRemover.StopWordRemoverFactory import StopWordRemoverFactory\n",
        "from Sastrawi.Stemmer.StemmerFactory import StemmerFactory"
      ],
      "execution_count": 18,
      "outputs": []
    },
    {
      "cell_type": "code",
      "metadata": {
        "colab": {
          "base_uri": "https://localhost:8080/"
        },
        "id": "UAe0x_jKVUP5",
        "outputId": "f9800914-d59e-4d40-d68f-2609520f0f19"
      },
      "source": [
        "### hapus stopword\n",
        "stopword_remover = StopWordRemoverFactory()  \n",
        "stemmer_remover = StemmerFactory() \n",
        "\n",
        "ina_stemmer = stemmer_remover.create_stemmer() \n",
        "ina_stopword = stopword_remover.create_stop_word_remover() \n",
        "\n",
        "stopword_remover.get_stop_words() "
      ],
      "execution_count": 19,
      "outputs": [
        {
          "output_type": "execute_result",
          "data": {
            "text/plain": [
              "['yang',\n",
              " 'untuk',\n",
              " 'pada',\n",
              " 'ke',\n",
              " 'para',\n",
              " 'namun',\n",
              " 'menurut',\n",
              " 'antara',\n",
              " 'dia',\n",
              " 'dua',\n",
              " 'ia',\n",
              " 'seperti',\n",
              " 'jika',\n",
              " 'jika',\n",
              " 'sehingga',\n",
              " 'kembali',\n",
              " 'dan',\n",
              " 'tidak',\n",
              " 'ini',\n",
              " 'karena',\n",
              " 'kepada',\n",
              " 'oleh',\n",
              " 'saat',\n",
              " 'harus',\n",
              " 'sementara',\n",
              " 'setelah',\n",
              " 'belum',\n",
              " 'kami',\n",
              " 'sekitar',\n",
              " 'bagi',\n",
              " 'serta',\n",
              " 'di',\n",
              " 'dari',\n",
              " 'telah',\n",
              " 'sebagai',\n",
              " 'masih',\n",
              " 'hal',\n",
              " 'ketika',\n",
              " 'adalah',\n",
              " 'itu',\n",
              " 'dalam',\n",
              " 'bisa',\n",
              " 'bahwa',\n",
              " 'atau',\n",
              " 'hanya',\n",
              " 'kita',\n",
              " 'dengan',\n",
              " 'akan',\n",
              " 'juga',\n",
              " 'ada',\n",
              " 'mereka',\n",
              " 'sudah',\n",
              " 'saya',\n",
              " 'terhadap',\n",
              " 'secara',\n",
              " 'agar',\n",
              " 'lain',\n",
              " 'anda',\n",
              " 'begitu',\n",
              " 'mengapa',\n",
              " 'kenapa',\n",
              " 'yaitu',\n",
              " 'yakni',\n",
              " 'daripada',\n",
              " 'itulah',\n",
              " 'lagi',\n",
              " 'maka',\n",
              " 'tentang',\n",
              " 'demi',\n",
              " 'dimana',\n",
              " 'kemana',\n",
              " 'pula',\n",
              " 'sambil',\n",
              " 'sebelum',\n",
              " 'sesudah',\n",
              " 'supaya',\n",
              " 'guna',\n",
              " 'kah',\n",
              " 'pun',\n",
              " 'sampai',\n",
              " 'sedangkan',\n",
              " 'selagi',\n",
              " 'sementara',\n",
              " 'tetapi',\n",
              " 'apakah',\n",
              " 'kecuali',\n",
              " 'sebab',\n",
              " 'selain',\n",
              " 'seolah',\n",
              " 'seraya',\n",
              " 'seterusnya',\n",
              " 'tanpa',\n",
              " 'agak',\n",
              " 'boleh',\n",
              " 'dapat',\n",
              " 'dsb',\n",
              " 'dst',\n",
              " 'dll',\n",
              " 'dahulu',\n",
              " 'dulunya',\n",
              " 'anu',\n",
              " 'demikian',\n",
              " 'tapi',\n",
              " 'ingin',\n",
              " 'juga',\n",
              " 'nggak',\n",
              " 'mari',\n",
              " 'nanti',\n",
              " 'melainkan',\n",
              " 'oh',\n",
              " 'ok',\n",
              " 'seharusnya',\n",
              " 'sebetulnya',\n",
              " 'setiap',\n",
              " 'setidaknya',\n",
              " 'sesuatu',\n",
              " 'pasti',\n",
              " 'saja',\n",
              " 'toh',\n",
              " 'ya',\n",
              " 'walau',\n",
              " 'tolong',\n",
              " 'tentu',\n",
              " 'amat',\n",
              " 'apalagi',\n",
              " 'bagaimanapun']"
            ]
          },
          "metadata": {},
          "execution_count": 19
        }
      ]
    },
    {
      "cell_type": "code",
      "metadata": {
        "id": "p6tezgpCXGNL"
      },
      "source": [
        "### membuat kalimat baru setelah di token yg sudah dibuat pada fungsi ina_stopwordremove \n",
        "\n",
        "text_from_token = ' '.join(token) \n",
        "text_from_token \n",
        "\n",
        "text_from_token_nostopwords = ina_stopword.remove(text_from_token) "
      ],
      "execution_count": 20,
      "outputs": []
    },
    {
      "cell_type": "code",
      "metadata": {
        "colab": {
          "base_uri": "https://localhost:8080/",
          "height": 120
        },
        "id": "gL26D-x8YQEi",
        "outputId": "d22fbdb7-7ee4-4999-bbd1-df412536aeec"
      },
      "source": [
        "text_from_token_nostopwords"
      ],
      "execution_count": 21,
      "outputs": [
        {
          "output_type": "execute_result",
          "data": {
            "application/vnd.google.colaboratory.intrinsic+json": {
              "type": "string"
            },
            "text/plain": [
              "'sains teknologi seru menyenangkan komet benda langit mengelilingi matahari garis edar berbentuk lonjong parabolis hiperbolis . istilah “ komet ” berasal bahasa yunani kometes κομήτης berarti “ rambut panjang ” . istilah lainnya bintang berekor tidak tepat komet sama sekali bukan bintang . orang jawa menyebutnya lintang kemukus memiliki ekor mirip ‘ kukus ’ berdebu . samping ekornya mirip buah kemukus dikeringkan . komet terbentuk es debu . komet terdiri kumpulan debu gas membeku berada jauh matahari . mendekati matahari sebagian bahan penyusun komet menguap membentuk kepala gas ekor . komet mengelilingi matahari termasuk sistem tata surya . komet merupakan gas pijar garis edar berbedabeda . panjang “ ekor ” komet mencapai jutaan km . beberapa komet menempuh jarak lebih jauh luar angkasa planet . beberapa komet membutuhkan ribuan tahun menyelesaikan satu kali mengorbit matahari . komet dilihat masih jauh matahari bagian pertama kali dilihat inti . komet merupakan benda angkasa mirip asteroid hampir seluruhnya terbentuk gas karbon dioksida metana air debu membeku . seering disebut bintang berekor . memiliki orbit lintasan berbentuk elips lebih lonjong panjang orbit planet . komet merupakan benda angkasa lapisan batu terlihat mempunyai cahaya dikarenakan adanya gesekangesekan atomatom udara . astronom menemukan komet terbesar pernah terlihat tata surya . komet ditemukan keduanya menyisir data dikumpulkan dark energy survey . dikutip cnet komet tersebut dikatalogkan komet c2014 un271 juga dikenal komet bernardinellibernstein diambil nama duo penemunya pedro bernardinelli gary bernstein . keduanya samasama berasal university of pennsylvania . kalian penasaran sebesar apa komet hingga disebut raksasa perkiraan awal bernardinelli bernstein menyebutkan komet memiliki diameter mencapai 200 kilometer . ketika penelitian diajukan dipublikasikan the astrophysical journal letters perkiraan lebar diameter tersebut ditetapkan menjadi “ ” 150 kilometer . ukuran tetap menandakan komet tersebut berwujud raksasa . komet bernardinellibernstein memiliki massa 10 kali lipat komet halebopp dikenal komet besar 1997. astronom will gater mengumpulkan banyak ilustrasi objek tata surya terkenal lainnya mencatat skala seberapa besar bola raksasa antariksa sebenarnya . sempat dipublish akun twitternya . hasil perbandingannya lebih mengejutkan . mega komet ternyata jauh lebih besar bulan terbesar milik mars . berimajinasi meletakkan bulannya mars phobos deimos berdampingan komet bernardinellibernstein terlihat ukuran komet dua kali lipat phobos deimos . peneliti komet besar tidak menimbulkan ancaman bertabrakan bumi menyebabkan peristiwa zaman kepunahan dinosaurus . saat komet tersebut sedang menuju tata surya bagian membuat lintasan terdekatnya matahari kita pada tahun 2031. komet sepertinya menampilkan pertunjukan cukup bagus para astronom dekade mendatang . bahkan sejak sekarang komet bernardinellibernstein mulai memamerkan penampakannya lewat ledakan aktivitas peningkatan kecerahan dilaporkan las cumbres observatory awal bulan . referensi selesai membaca yuk berikan artikel penilaian klik berdasarkan jumlah bintang menilai ratarata nilai 0 5. banyaknya vote 0 menilai yuk jadi pertama kali menilai alamat email tidak akan dipublikasikan . ruas wajib ditandai * komentar nama * email * situs web cari artikel langganan via email masukkan email artikel pilihan editor berdasarkan dj international journal of medical research obat merupakan pertama pertimbangkan saat suatu penyakit menyerang . zaman … bepicolombo sedang di perjalanan mengorbit merkurius tahun 2025. bertemu merkurius minggu lalu wahana buatan eropa jepang … komet komet benda langit mengelilingi matahari garis edar berbentuk lonjong parabolis hiperbolis . istilah “ komet ” berasal bahasa yunani kometes κομήτης berarti “ rambut panjang ” . istilah lainnya bintang berekor tidak … artikel terpopuler bepicolombo misi satelit planet neraka merkurius ada apa big bang ini jawaban peraih nobel fisika roger penrose manajemen bencana perspektif kesehatan lingkungan masyarakat bioinformatika apa sih bioinformatika itu pancasila pengertian sejarah butir nilai dan dasar pandangan hidup [ lengkap contoh soal ] artikel terkait didesain hati copyright warstek.com 2021 kontak address jl . sukolilo baru gg . vi no 10 surabaya indonesia phone 6287750118140 email warstek.jurnalgmail.com office hour 08.00 wib – 15.00 wib monday – friday'"
            ]
          },
          "metadata": {},
          "execution_count": 21
        }
      ]
    },
    {
      "cell_type": "code",
      "metadata": {
        "colab": {
          "base_uri": "https://localhost:8080/",
          "height": 120
        },
        "id": "5TZ3tJ-CYi9l",
        "outputId": "7f3b684a-a797-48af-fce4-95d280dd264d"
      },
      "source": [
        "### Stemming (menghilangkan imbuhan)\n",
        "\n",
        "stemed_text = ina_stemmer.stem(text_from_token_nostopwords) \n",
        "stemed_text "
      ],
      "execution_count": 22,
      "outputs": [
        {
          "output_type": "execute_result",
          "data": {
            "application/vnd.google.colaboratory.intrinsic+json": {
              "type": "string"
            },
            "text/plain": [
              "'sains teknologi seru senang komet benda langit keliling matahari garis edar bentuk lonjong parabolis hiperbolis istilah komet asal bahasa yunani kometes arti rambut panjang istilah lain bintang ekor tidak tepat komet sama sekali bukan bintang orang jawa sebut lintang kemukus milik ekor mirip kukus debu samping ekor mirip buah kemukus kering komet bentuk es debu komet diri kumpul debu gas beku ada jauh matahari dekat matahari bagi bahan susun komet uap bentuk kepala gas ekor komet keliling matahari masuk sistem tata surya komet rupa gas pijar garis edar berbedabeda panjang ekor komet capai juta km beberapa komet tempuh jarak lebih jauh luar angkasa planet beberapa komet butuh ribu tahun selesai satu kali orbit matahari komet lihat masih jauh matahari bagi pertama kali lihat inti komet rupa benda angkasa mirip asteroid hampir seluruh bentuk gas karbon dioksida metana air debu beku ering sebut bintang ekor milik orbit lintas bentuk elips lebih lonjong panjang orbit planet komet rupa benda angkasa lapis batu lihat punya cahaya karena ada gesekangesekan atomatom udara astronom temu komet besar pernah lihat tata surya komet temu dua sisir data kumpul dark energy survey kutip cnet komet sebut katalog komet c2014 un271 juga kenal komet bernardinellibernstein ambil nama duo temu pedro bernardinelli gary bernstein dua samasama asal university of pennsylvania kalian penasaran besar apa komet hingga sebut raksasa kira awal bernardinelli bernstein sebut komet milik diameter capai 200 kilometer ketika teliti aju publikasi the astrophysical journal letters kira lebar diameter sebut tetap jadi 150 kilometer ukur tetap tanda komet sebut wujud raksasa komet bernardinellibernstein milik massa 10 kali lipat komet halebopp kenal komet besar 1997 astronom will gater kumpul banyak ilustrasi objek tata surya kenal lain catat skala berapa besar bola raksasa antariksa benar sempat dipublish akun twitternya hasil banding lebih kejut mega komet nyata jauh lebih besar bulan besar milik mars imajinasi letak bulan mars phobos deimos damping komet bernardinellibernstein lihat ukur komet dua kali lipat phobos deimos teliti komet besar tidak timbul ancam tabrak bumi sebab peristiwa zaman punah dinosaurus saat komet sebut sedang tuju tata surya bagi buat lintas dekat matahari kita pada tahun 2031 komet seperti tampil tunjuk cukup bagus para astronom dekade datang bahkan sejak sekarang komet bernardinellibernstein mulai pamer tampak lewat ledak aktivitas tingkat cerah lapor las cumbres observatory awal bulan referensi selesai baca yuk ikan artikel nilai klik dasar jumlah bintang nilai ratarata nilai 0 5 banyak vote 0 nilai yuk jadi pertama kali nilai alamat email tidak akan publikasi ruas wajib tanda komentar nama email situs web cari artikel langgan via email masuk email artikel pilih editor dasar dj international journal of medical research obat rupa pertama timbang saat suatu sakit serang zaman bepicolombo sedang di jalan orbit merkurius tahun 2025 temu merkurius minggu lalu wahana buat eropa jepang komet komet benda langit keliling matahari garis edar bentuk lonjong parabolis hiperbolis istilah komet asal bahasa yunani kometes arti rambut panjang istilah lain bintang ekor tidak artikel populer bepicolombo misi satelit planet neraka merkurius ada apa big bang ini jawab raih nobel fisika roger penrose manajemen bencana perspektif sehat lingkung masyarakat bioinformatika apa sih bioinformatika itu pancasila erti sejarah butir nilai dan dasar pandang hidup lengkap contoh soal artikel kait desain hati copyright warstek com 2021 kontak address jl sukolilo baru gg vi no 10 surabaya indonesia phone 6287750118140 email warstek jurnalgmail com office hour 08 00 wib 15 00 wib monday friday'"
            ]
          },
          "metadata": {},
          "execution_count": 22
        }
      ]
    },
    {
      "cell_type": "code",
      "metadata": {
        "colab": {
          "base_uri": "https://localhost:8080/"
        },
        "id": "A4iRblZEZHJV",
        "outputId": "350790eb-586c-4370-c81c-c48494cd846a"
      },
      "source": [
        "### tokenize \n",
        "\n",
        "token_from_stem_text =  word_tokenize(stemed_text)\n",
        "token_from_stem_text"
      ],
      "execution_count": 23,
      "outputs": [
        {
          "output_type": "execute_result",
          "data": {
            "text/plain": [
              "['sains',\n",
              " 'teknologi',\n",
              " 'seru',\n",
              " 'senang',\n",
              " 'komet',\n",
              " 'benda',\n",
              " 'langit',\n",
              " 'keliling',\n",
              " 'matahari',\n",
              " 'garis',\n",
              " 'edar',\n",
              " 'bentuk',\n",
              " 'lonjong',\n",
              " 'parabolis',\n",
              " 'hiperbolis',\n",
              " 'istilah',\n",
              " 'komet',\n",
              " 'asal',\n",
              " 'bahasa',\n",
              " 'yunani',\n",
              " 'kometes',\n",
              " 'arti',\n",
              " 'rambut',\n",
              " 'panjang',\n",
              " 'istilah',\n",
              " 'lain',\n",
              " 'bintang',\n",
              " 'ekor',\n",
              " 'tidak',\n",
              " 'tepat',\n",
              " 'komet',\n",
              " 'sama',\n",
              " 'sekali',\n",
              " 'bukan',\n",
              " 'bintang',\n",
              " 'orang',\n",
              " 'jawa',\n",
              " 'sebut',\n",
              " 'lintang',\n",
              " 'kemukus',\n",
              " 'milik',\n",
              " 'ekor',\n",
              " 'mirip',\n",
              " 'kukus',\n",
              " 'debu',\n",
              " 'samping',\n",
              " 'ekor',\n",
              " 'mirip',\n",
              " 'buah',\n",
              " 'kemukus',\n",
              " 'kering',\n",
              " 'komet',\n",
              " 'bentuk',\n",
              " 'es',\n",
              " 'debu',\n",
              " 'komet',\n",
              " 'diri',\n",
              " 'kumpul',\n",
              " 'debu',\n",
              " 'gas',\n",
              " 'beku',\n",
              " 'ada',\n",
              " 'jauh',\n",
              " 'matahari',\n",
              " 'dekat',\n",
              " 'matahari',\n",
              " 'bagi',\n",
              " 'bahan',\n",
              " 'susun',\n",
              " 'komet',\n",
              " 'uap',\n",
              " 'bentuk',\n",
              " 'kepala',\n",
              " 'gas',\n",
              " 'ekor',\n",
              " 'komet',\n",
              " 'keliling',\n",
              " 'matahari',\n",
              " 'masuk',\n",
              " 'sistem',\n",
              " 'tata',\n",
              " 'surya',\n",
              " 'komet',\n",
              " 'rupa',\n",
              " 'gas',\n",
              " 'pijar',\n",
              " 'garis',\n",
              " 'edar',\n",
              " 'berbedabeda',\n",
              " 'panjang',\n",
              " 'ekor',\n",
              " 'komet',\n",
              " 'capai',\n",
              " 'juta',\n",
              " 'km',\n",
              " 'beberapa',\n",
              " 'komet',\n",
              " 'tempuh',\n",
              " 'jarak',\n",
              " 'lebih',\n",
              " 'jauh',\n",
              " 'luar',\n",
              " 'angkasa',\n",
              " 'planet',\n",
              " 'beberapa',\n",
              " 'komet',\n",
              " 'butuh',\n",
              " 'ribu',\n",
              " 'tahun',\n",
              " 'selesai',\n",
              " 'satu',\n",
              " 'kali',\n",
              " 'orbit',\n",
              " 'matahari',\n",
              " 'komet',\n",
              " 'lihat',\n",
              " 'masih',\n",
              " 'jauh',\n",
              " 'matahari',\n",
              " 'bagi',\n",
              " 'pertama',\n",
              " 'kali',\n",
              " 'lihat',\n",
              " 'inti',\n",
              " 'komet',\n",
              " 'rupa',\n",
              " 'benda',\n",
              " 'angkasa',\n",
              " 'mirip',\n",
              " 'asteroid',\n",
              " 'hampir',\n",
              " 'seluruh',\n",
              " 'bentuk',\n",
              " 'gas',\n",
              " 'karbon',\n",
              " 'dioksida',\n",
              " 'metana',\n",
              " 'air',\n",
              " 'debu',\n",
              " 'beku',\n",
              " 'ering',\n",
              " 'sebut',\n",
              " 'bintang',\n",
              " 'ekor',\n",
              " 'milik',\n",
              " 'orbit',\n",
              " 'lintas',\n",
              " 'bentuk',\n",
              " 'elips',\n",
              " 'lebih',\n",
              " 'lonjong',\n",
              " 'panjang',\n",
              " 'orbit',\n",
              " 'planet',\n",
              " 'komet',\n",
              " 'rupa',\n",
              " 'benda',\n",
              " 'angkasa',\n",
              " 'lapis',\n",
              " 'batu',\n",
              " 'lihat',\n",
              " 'punya',\n",
              " 'cahaya',\n",
              " 'karena',\n",
              " 'ada',\n",
              " 'gesekangesekan',\n",
              " 'atomatom',\n",
              " 'udara',\n",
              " 'astronom',\n",
              " 'temu',\n",
              " 'komet',\n",
              " 'besar',\n",
              " 'pernah',\n",
              " 'lihat',\n",
              " 'tata',\n",
              " 'surya',\n",
              " 'komet',\n",
              " 'temu',\n",
              " 'dua',\n",
              " 'sisir',\n",
              " 'data',\n",
              " 'kumpul',\n",
              " 'dark',\n",
              " 'energy',\n",
              " 'survey',\n",
              " 'kutip',\n",
              " 'cnet',\n",
              " 'komet',\n",
              " 'sebut',\n",
              " 'katalog',\n",
              " 'komet',\n",
              " 'c2014',\n",
              " 'un271',\n",
              " 'juga',\n",
              " 'kenal',\n",
              " 'komet',\n",
              " 'bernardinellibernstein',\n",
              " 'ambil',\n",
              " 'nama',\n",
              " 'duo',\n",
              " 'temu',\n",
              " 'pedro',\n",
              " 'bernardinelli',\n",
              " 'gary',\n",
              " 'bernstein',\n",
              " 'dua',\n",
              " 'samasama',\n",
              " 'asal',\n",
              " 'university',\n",
              " 'of',\n",
              " 'pennsylvania',\n",
              " 'kalian',\n",
              " 'penasaran',\n",
              " 'besar',\n",
              " 'apa',\n",
              " 'komet',\n",
              " 'hingga',\n",
              " 'sebut',\n",
              " 'raksasa',\n",
              " 'kira',\n",
              " 'awal',\n",
              " 'bernardinelli',\n",
              " 'bernstein',\n",
              " 'sebut',\n",
              " 'komet',\n",
              " 'milik',\n",
              " 'diameter',\n",
              " 'capai',\n",
              " '200',\n",
              " 'kilometer',\n",
              " 'ketika',\n",
              " 'teliti',\n",
              " 'aju',\n",
              " 'publikasi',\n",
              " 'the',\n",
              " 'astrophysical',\n",
              " 'journal',\n",
              " 'letters',\n",
              " 'kira',\n",
              " 'lebar',\n",
              " 'diameter',\n",
              " 'sebut',\n",
              " 'tetap',\n",
              " 'jadi',\n",
              " '150',\n",
              " 'kilometer',\n",
              " 'ukur',\n",
              " 'tetap',\n",
              " 'tanda',\n",
              " 'komet',\n",
              " 'sebut',\n",
              " 'wujud',\n",
              " 'raksasa',\n",
              " 'komet',\n",
              " 'bernardinellibernstein',\n",
              " 'milik',\n",
              " 'massa',\n",
              " '10',\n",
              " 'kali',\n",
              " 'lipat',\n",
              " 'komet',\n",
              " 'halebopp',\n",
              " 'kenal',\n",
              " 'komet',\n",
              " 'besar',\n",
              " '1997',\n",
              " 'astronom',\n",
              " 'will',\n",
              " 'gater',\n",
              " 'kumpul',\n",
              " 'banyak',\n",
              " 'ilustrasi',\n",
              " 'objek',\n",
              " 'tata',\n",
              " 'surya',\n",
              " 'kenal',\n",
              " 'lain',\n",
              " 'catat',\n",
              " 'skala',\n",
              " 'berapa',\n",
              " 'besar',\n",
              " 'bola',\n",
              " 'raksasa',\n",
              " 'antariksa',\n",
              " 'benar',\n",
              " 'sempat',\n",
              " 'dipublish',\n",
              " 'akun',\n",
              " 'twitternya',\n",
              " 'hasil',\n",
              " 'banding',\n",
              " 'lebih',\n",
              " 'kejut',\n",
              " 'mega',\n",
              " 'komet',\n",
              " 'nyata',\n",
              " 'jauh',\n",
              " 'lebih',\n",
              " 'besar',\n",
              " 'bulan',\n",
              " 'besar',\n",
              " 'milik',\n",
              " 'mars',\n",
              " 'imajinasi',\n",
              " 'letak',\n",
              " 'bulan',\n",
              " 'mars',\n",
              " 'phobos',\n",
              " 'deimos',\n",
              " 'damping',\n",
              " 'komet',\n",
              " 'bernardinellibernstein',\n",
              " 'lihat',\n",
              " 'ukur',\n",
              " 'komet',\n",
              " 'dua',\n",
              " 'kali',\n",
              " 'lipat',\n",
              " 'phobos',\n",
              " 'deimos',\n",
              " 'teliti',\n",
              " 'komet',\n",
              " 'besar',\n",
              " 'tidak',\n",
              " 'timbul',\n",
              " 'ancam',\n",
              " 'tabrak',\n",
              " 'bumi',\n",
              " 'sebab',\n",
              " 'peristiwa',\n",
              " 'zaman',\n",
              " 'punah',\n",
              " 'dinosaurus',\n",
              " 'saat',\n",
              " 'komet',\n",
              " 'sebut',\n",
              " 'sedang',\n",
              " 'tuju',\n",
              " 'tata',\n",
              " 'surya',\n",
              " 'bagi',\n",
              " 'buat',\n",
              " 'lintas',\n",
              " 'dekat',\n",
              " 'matahari',\n",
              " 'kita',\n",
              " 'pada',\n",
              " 'tahun',\n",
              " '2031',\n",
              " 'komet',\n",
              " 'seperti',\n",
              " 'tampil',\n",
              " 'tunjuk',\n",
              " 'cukup',\n",
              " 'bagus',\n",
              " 'para',\n",
              " 'astronom',\n",
              " 'dekade',\n",
              " 'datang',\n",
              " 'bahkan',\n",
              " 'sejak',\n",
              " 'sekarang',\n",
              " 'komet',\n",
              " 'bernardinellibernstein',\n",
              " 'mulai',\n",
              " 'pamer',\n",
              " 'tampak',\n",
              " 'lewat',\n",
              " 'ledak',\n",
              " 'aktivitas',\n",
              " 'tingkat',\n",
              " 'cerah',\n",
              " 'lapor',\n",
              " 'las',\n",
              " 'cumbres',\n",
              " 'observatory',\n",
              " 'awal',\n",
              " 'bulan',\n",
              " 'referensi',\n",
              " 'selesai',\n",
              " 'baca',\n",
              " 'yuk',\n",
              " 'ikan',\n",
              " 'artikel',\n",
              " 'nilai',\n",
              " 'klik',\n",
              " 'dasar',\n",
              " 'jumlah',\n",
              " 'bintang',\n",
              " 'nilai',\n",
              " 'ratarata',\n",
              " 'nilai',\n",
              " '0',\n",
              " '5',\n",
              " 'banyak',\n",
              " 'vote',\n",
              " '0',\n",
              " 'nilai',\n",
              " 'yuk',\n",
              " 'jadi',\n",
              " 'pertama',\n",
              " 'kali',\n",
              " 'nilai',\n",
              " 'alamat',\n",
              " 'email',\n",
              " 'tidak',\n",
              " 'akan',\n",
              " 'publikasi',\n",
              " 'ruas',\n",
              " 'wajib',\n",
              " 'tanda',\n",
              " 'komentar',\n",
              " 'nama',\n",
              " 'email',\n",
              " 'situs',\n",
              " 'web',\n",
              " 'cari',\n",
              " 'artikel',\n",
              " 'langgan',\n",
              " 'via',\n",
              " 'email',\n",
              " 'masuk',\n",
              " 'email',\n",
              " 'artikel',\n",
              " 'pilih',\n",
              " 'editor',\n",
              " 'dasar',\n",
              " 'dj',\n",
              " 'international',\n",
              " 'journal',\n",
              " 'of',\n",
              " 'medical',\n",
              " 'research',\n",
              " 'obat',\n",
              " 'rupa',\n",
              " 'pertama',\n",
              " 'timbang',\n",
              " 'saat',\n",
              " 'suatu',\n",
              " 'sakit',\n",
              " 'serang',\n",
              " 'zaman',\n",
              " 'bepicolombo',\n",
              " 'sedang',\n",
              " 'di',\n",
              " 'jalan',\n",
              " 'orbit',\n",
              " 'merkurius',\n",
              " 'tahun',\n",
              " '2025',\n",
              " 'temu',\n",
              " 'merkurius',\n",
              " 'minggu',\n",
              " 'lalu',\n",
              " 'wahana',\n",
              " 'buat',\n",
              " 'eropa',\n",
              " 'jepang',\n",
              " 'komet',\n",
              " 'komet',\n",
              " 'benda',\n",
              " 'langit',\n",
              " 'keliling',\n",
              " 'matahari',\n",
              " 'garis',\n",
              " 'edar',\n",
              " 'bentuk',\n",
              " 'lonjong',\n",
              " 'parabolis',\n",
              " 'hiperbolis',\n",
              " 'istilah',\n",
              " 'komet',\n",
              " 'asal',\n",
              " 'bahasa',\n",
              " 'yunani',\n",
              " 'kometes',\n",
              " 'arti',\n",
              " 'rambut',\n",
              " 'panjang',\n",
              " 'istilah',\n",
              " 'lain',\n",
              " 'bintang',\n",
              " 'ekor',\n",
              " 'tidak',\n",
              " 'artikel',\n",
              " 'populer',\n",
              " 'bepicolombo',\n",
              " 'misi',\n",
              " 'satelit',\n",
              " 'planet',\n",
              " 'neraka',\n",
              " 'merkurius',\n",
              " 'ada',\n",
              " 'apa',\n",
              " 'big',\n",
              " 'bang',\n",
              " 'ini',\n",
              " 'jawab',\n",
              " 'raih',\n",
              " 'nobel',\n",
              " 'fisika',\n",
              " 'roger',\n",
              " 'penrose',\n",
              " 'manajemen',\n",
              " 'bencana',\n",
              " 'perspektif',\n",
              " 'sehat',\n",
              " 'lingkung',\n",
              " 'masyarakat',\n",
              " 'bioinformatika',\n",
              " 'apa',\n",
              " 'sih',\n",
              " 'bioinformatika',\n",
              " 'itu',\n",
              " 'pancasila',\n",
              " 'erti',\n",
              " 'sejarah',\n",
              " 'butir',\n",
              " 'nilai',\n",
              " 'dan',\n",
              " 'dasar',\n",
              " 'pandang',\n",
              " 'hidup',\n",
              " 'lengkap',\n",
              " 'contoh',\n",
              " 'soal',\n",
              " 'artikel',\n",
              " 'kait',\n",
              " 'desain',\n",
              " 'hati',\n",
              " 'copyright',\n",
              " 'warstek',\n",
              " 'com',\n",
              " '2021',\n",
              " 'kontak',\n",
              " 'address',\n",
              " 'jl',\n",
              " 'sukolilo',\n",
              " 'baru',\n",
              " 'gg',\n",
              " 'vi',\n",
              " 'no',\n",
              " '10',\n",
              " 'surabaya',\n",
              " 'indonesia',\n",
              " 'phone',\n",
              " '6287750118140',\n",
              " 'email',\n",
              " 'warstek',\n",
              " 'jurnalgmail',\n",
              " 'com',\n",
              " 'office',\n",
              " 'hour',\n",
              " '08',\n",
              " '00',\n",
              " 'wib',\n",
              " '15',\n",
              " '00',\n",
              " 'wib',\n",
              " 'monday',\n",
              " 'friday']"
            ]
          },
          "metadata": {},
          "execution_count": 23
        }
      ]
    },
    {
      "cell_type": "markdown",
      "metadata": {
        "id": "qj3PlMSSZqFX"
      },
      "source": [
        "BAG OF WORD Bahasa Indonesia"
      ]
    },
    {
      "cell_type": "code",
      "metadata": {
        "colab": {
          "base_uri": "https://localhost:8080/"
        },
        "id": "B7kDvorBZqdo",
        "outputId": "55ccbe40-0f96-4cd3-9336-9ef8103a4eab"
      },
      "source": [
        "frekuensi_kata_ina = {}\n",
        "for kata in token_from_stem_text: \n",
        "  if kata not in frekuensi_kata_ina: \n",
        "    frekuensi_kata_ina[kata]=1\n",
        "  else:\n",
        "    frekuensi_kata_ina[kata]+=1 \n",
        "\n",
        "frekuensi_kata_ina"
      ],
      "execution_count": 24,
      "outputs": [
        {
          "output_type": "execute_result",
          "data": {
            "text/plain": [
              "{'0': 2,\n",
              " '00': 2,\n",
              " '08': 1,\n",
              " '10': 2,\n",
              " '15': 1,\n",
              " '150': 1,\n",
              " '1997': 1,\n",
              " '200': 1,\n",
              " '2021': 1,\n",
              " '2025': 1,\n",
              " '2031': 1,\n",
              " '5': 1,\n",
              " '6287750118140': 1,\n",
              " 'ada': 3,\n",
              " 'address': 1,\n",
              " 'air': 1,\n",
              " 'aju': 1,\n",
              " 'akan': 1,\n",
              " 'aktivitas': 1,\n",
              " 'akun': 1,\n",
              " 'alamat': 1,\n",
              " 'ambil': 1,\n",
              " 'ancam': 1,\n",
              " 'angkasa': 3,\n",
              " 'antariksa': 1,\n",
              " 'apa': 3,\n",
              " 'arti': 2,\n",
              " 'artikel': 5,\n",
              " 'asal': 3,\n",
              " 'asteroid': 1,\n",
              " 'astronom': 3,\n",
              " 'astrophysical': 1,\n",
              " 'atomatom': 1,\n",
              " 'awal': 2,\n",
              " 'baca': 1,\n",
              " 'bagi': 3,\n",
              " 'bagus': 1,\n",
              " 'bahan': 1,\n",
              " 'bahasa': 2,\n",
              " 'bahkan': 1,\n",
              " 'banding': 1,\n",
              " 'bang': 1,\n",
              " 'banyak': 2,\n",
              " 'baru': 1,\n",
              " 'batu': 1,\n",
              " 'beberapa': 2,\n",
              " 'beku': 2,\n",
              " 'benar': 1,\n",
              " 'bencana': 1,\n",
              " 'benda': 4,\n",
              " 'bentuk': 6,\n",
              " 'bepicolombo': 2,\n",
              " 'berapa': 1,\n",
              " 'berbedabeda': 1,\n",
              " 'bernardinelli': 2,\n",
              " 'bernardinellibernstein': 4,\n",
              " 'bernstein': 2,\n",
              " 'besar': 7,\n",
              " 'big': 1,\n",
              " 'bintang': 5,\n",
              " 'bioinformatika': 2,\n",
              " 'bola': 1,\n",
              " 'buah': 1,\n",
              " 'buat': 2,\n",
              " 'bukan': 1,\n",
              " 'bulan': 3,\n",
              " 'bumi': 1,\n",
              " 'butir': 1,\n",
              " 'butuh': 1,\n",
              " 'c2014': 1,\n",
              " 'cahaya': 1,\n",
              " 'capai': 2,\n",
              " 'cari': 1,\n",
              " 'catat': 1,\n",
              " 'cerah': 1,\n",
              " 'cnet': 1,\n",
              " 'com': 2,\n",
              " 'contoh': 1,\n",
              " 'copyright': 1,\n",
              " 'cukup': 1,\n",
              " 'cumbres': 1,\n",
              " 'damping': 1,\n",
              " 'dan': 1,\n",
              " 'dark': 1,\n",
              " 'dasar': 3,\n",
              " 'data': 1,\n",
              " 'datang': 1,\n",
              " 'debu': 4,\n",
              " 'deimos': 2,\n",
              " 'dekade': 1,\n",
              " 'dekat': 2,\n",
              " 'desain': 1,\n",
              " 'di': 1,\n",
              " 'diameter': 2,\n",
              " 'dinosaurus': 1,\n",
              " 'dioksida': 1,\n",
              " 'dipublish': 1,\n",
              " 'diri': 1,\n",
              " 'dj': 1,\n",
              " 'dua': 3,\n",
              " 'duo': 1,\n",
              " 'edar': 3,\n",
              " 'editor': 1,\n",
              " 'ekor': 7,\n",
              " 'elips': 1,\n",
              " 'email': 5,\n",
              " 'energy': 1,\n",
              " 'ering': 1,\n",
              " 'eropa': 1,\n",
              " 'erti': 1,\n",
              " 'es': 1,\n",
              " 'fisika': 1,\n",
              " 'friday': 1,\n",
              " 'garis': 3,\n",
              " 'gary': 1,\n",
              " 'gas': 4,\n",
              " 'gater': 1,\n",
              " 'gesekangesekan': 1,\n",
              " 'gg': 1,\n",
              " 'halebopp': 1,\n",
              " 'hampir': 1,\n",
              " 'hasil': 1,\n",
              " 'hati': 1,\n",
              " 'hidup': 1,\n",
              " 'hingga': 1,\n",
              " 'hiperbolis': 2,\n",
              " 'hour': 1,\n",
              " 'ikan': 1,\n",
              " 'ilustrasi': 1,\n",
              " 'imajinasi': 1,\n",
              " 'indonesia': 1,\n",
              " 'ini': 1,\n",
              " 'international': 1,\n",
              " 'inti': 1,\n",
              " 'istilah': 4,\n",
              " 'itu': 1,\n",
              " 'jadi': 2,\n",
              " 'jalan': 1,\n",
              " 'jarak': 1,\n",
              " 'jauh': 4,\n",
              " 'jawa': 1,\n",
              " 'jawab': 1,\n",
              " 'jepang': 1,\n",
              " 'jl': 1,\n",
              " 'journal': 2,\n",
              " 'juga': 1,\n",
              " 'jumlah': 1,\n",
              " 'jurnalgmail': 1,\n",
              " 'juta': 1,\n",
              " 'kait': 1,\n",
              " 'kali': 5,\n",
              " 'kalian': 1,\n",
              " 'karbon': 1,\n",
              " 'karena': 1,\n",
              " 'katalog': 1,\n",
              " 'kejut': 1,\n",
              " 'keliling': 3,\n",
              " 'kemukus': 2,\n",
              " 'kenal': 3,\n",
              " 'kepala': 1,\n",
              " 'kering': 1,\n",
              " 'ketika': 1,\n",
              " 'kilometer': 2,\n",
              " 'kira': 2,\n",
              " 'kita': 1,\n",
              " 'klik': 1,\n",
              " 'km': 1,\n",
              " 'komentar': 1,\n",
              " 'komet': 35,\n",
              " 'kometes': 2,\n",
              " 'kontak': 1,\n",
              " 'kukus': 1,\n",
              " 'kumpul': 3,\n",
              " 'kutip': 1,\n",
              " 'lain': 3,\n",
              " 'lalu': 1,\n",
              " 'langgan': 1,\n",
              " 'langit': 2,\n",
              " 'lapis': 1,\n",
              " 'lapor': 1,\n",
              " 'las': 1,\n",
              " 'lebar': 1,\n",
              " 'lebih': 4,\n",
              " 'ledak': 1,\n",
              " 'lengkap': 1,\n",
              " 'letak': 1,\n",
              " 'letters': 1,\n",
              " 'lewat': 1,\n",
              " 'lihat': 5,\n",
              " 'lingkung': 1,\n",
              " 'lintang': 1,\n",
              " 'lintas': 2,\n",
              " 'lipat': 2,\n",
              " 'lonjong': 3,\n",
              " 'luar': 1,\n",
              " 'manajemen': 1,\n",
              " 'mars': 2,\n",
              " 'masih': 1,\n",
              " 'massa': 1,\n",
              " 'masuk': 2,\n",
              " 'masyarakat': 1,\n",
              " 'matahari': 8,\n",
              " 'medical': 1,\n",
              " 'mega': 1,\n",
              " 'merkurius': 3,\n",
              " 'metana': 1,\n",
              " 'milik': 5,\n",
              " 'minggu': 1,\n",
              " 'mirip': 3,\n",
              " 'misi': 1,\n",
              " 'monday': 1,\n",
              " 'mulai': 1,\n",
              " 'nama': 2,\n",
              " 'neraka': 1,\n",
              " 'nilai': 6,\n",
              " 'no': 1,\n",
              " 'nobel': 1,\n",
              " 'nyata': 1,\n",
              " 'obat': 1,\n",
              " 'objek': 1,\n",
              " 'observatory': 1,\n",
              " 'of': 2,\n",
              " 'office': 1,\n",
              " 'orang': 1,\n",
              " 'orbit': 4,\n",
              " 'pada': 1,\n",
              " 'pamer': 1,\n",
              " 'pancasila': 1,\n",
              " 'pandang': 1,\n",
              " 'panjang': 4,\n",
              " 'para': 1,\n",
              " 'parabolis': 2,\n",
              " 'pedro': 1,\n",
              " 'penasaran': 1,\n",
              " 'pennsylvania': 1,\n",
              " 'penrose': 1,\n",
              " 'peristiwa': 1,\n",
              " 'pernah': 1,\n",
              " 'perspektif': 1,\n",
              " 'pertama': 3,\n",
              " 'phobos': 2,\n",
              " 'phone': 1,\n",
              " 'pijar': 1,\n",
              " 'pilih': 1,\n",
              " 'planet': 3,\n",
              " 'populer': 1,\n",
              " 'publikasi': 2,\n",
              " 'punah': 1,\n",
              " 'punya': 1,\n",
              " 'raih': 1,\n",
              " 'raksasa': 3,\n",
              " 'rambut': 2,\n",
              " 'ratarata': 1,\n",
              " 'referensi': 1,\n",
              " 'research': 1,\n",
              " 'ribu': 1,\n",
              " 'roger': 1,\n",
              " 'ruas': 1,\n",
              " 'rupa': 4,\n",
              " 'saat': 2,\n",
              " 'sains': 1,\n",
              " 'sakit': 1,\n",
              " 'sama': 1,\n",
              " 'samasama': 1,\n",
              " 'samping': 1,\n",
              " 'satelit': 1,\n",
              " 'satu': 1,\n",
              " 'sebab': 1,\n",
              " 'sebut': 8,\n",
              " 'sedang': 2,\n",
              " 'sehat': 1,\n",
              " 'sejak': 1,\n",
              " 'sejarah': 1,\n",
              " 'sekali': 1,\n",
              " 'sekarang': 1,\n",
              " 'selesai': 2,\n",
              " 'seluruh': 1,\n",
              " 'sempat': 1,\n",
              " 'senang': 1,\n",
              " 'seperti': 1,\n",
              " 'serang': 1,\n",
              " 'seru': 1,\n",
              " 'sih': 1,\n",
              " 'sisir': 1,\n",
              " 'sistem': 1,\n",
              " 'situs': 1,\n",
              " 'skala': 1,\n",
              " 'soal': 1,\n",
              " 'suatu': 1,\n",
              " 'sukolilo': 1,\n",
              " 'surabaya': 1,\n",
              " 'survey': 1,\n",
              " 'surya': 4,\n",
              " 'susun': 1,\n",
              " 'tabrak': 1,\n",
              " 'tahun': 3,\n",
              " 'tampak': 1,\n",
              " 'tampil': 1,\n",
              " 'tanda': 2,\n",
              " 'tata': 4,\n",
              " 'teknologi': 1,\n",
              " 'teliti': 2,\n",
              " 'tempuh': 1,\n",
              " 'temu': 4,\n",
              " 'tepat': 1,\n",
              " 'tetap': 2,\n",
              " 'the': 1,\n",
              " 'tidak': 4,\n",
              " 'timbang': 1,\n",
              " 'timbul': 1,\n",
              " 'tingkat': 1,\n",
              " 'tuju': 1,\n",
              " 'tunjuk': 1,\n",
              " 'twitternya': 1,\n",
              " 'uap': 1,\n",
              " 'udara': 1,\n",
              " 'ukur': 2,\n",
              " 'un271': 1,\n",
              " 'university': 1,\n",
              " 'vi': 1,\n",
              " 'via': 1,\n",
              " 'vote': 1,\n",
              " 'wahana': 1,\n",
              " 'wajib': 1,\n",
              " 'warstek': 2,\n",
              " 'web': 1,\n",
              " 'wib': 2,\n",
              " 'will': 1,\n",
              " 'wujud': 1,\n",
              " 'yuk': 2,\n",
              " 'yunani': 2,\n",
              " 'zaman': 2}"
            ]
          },
          "metadata": {},
          "execution_count": 24
        }
      ]
    },
    {
      "cell_type": "code",
      "metadata": {
        "id": "B2fj6gx8ZiWO"
      },
      "source": [
        ""
      ],
      "execution_count": 24,
      "outputs": []
    }
  ]
}