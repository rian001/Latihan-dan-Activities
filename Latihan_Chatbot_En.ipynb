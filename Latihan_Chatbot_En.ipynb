{
  "nbformat": 4,
  "nbformat_minor": 0,
  "metadata": {
    "colab": {
      "name": "AI ChatBot ENG",
      "provenance": [],
      "collapsed_sections": []
    },
    "kernelspec": {
      "display_name": "Python 3",
      "name": "python3"
    },
    "language_info": {
      "name": "python"
    }
  },
  "cells": [
    {
      "cell_type": "code",
      "metadata": {
        "colab": {
          "base_uri": "https://localhost:8080/"
        },
        "id": "B92U330E8TvS",
        "outputId": "6aacb3bf-411c-4636-ab93-d6dd5d7a217f"
      },
      "source": [
        "pip install newspaper3k"
      ],
      "execution_count": 19,
      "outputs": [
        {
          "output_type": "stream",
          "name": "stdout",
          "text": [
            "Requirement already satisfied: newspaper3k in /usr/local/lib/python3.7/dist-packages (0.2.8)\n",
            "Requirement already satisfied: requests>=2.10.0 in /usr/local/lib/python3.7/dist-packages (from newspaper3k) (2.23.0)\n",
            "Requirement already satisfied: python-dateutil>=2.5.3 in /usr/local/lib/python3.7/dist-packages (from newspaper3k) (2.8.2)\n",
            "Requirement already satisfied: nltk>=3.2.1 in /usr/local/lib/python3.7/dist-packages (from newspaper3k) (3.2.5)\n",
            "Requirement already satisfied: jieba3k>=0.35.1 in /usr/local/lib/python3.7/dist-packages (from newspaper3k) (0.35.1)\n",
            "Requirement already satisfied: Pillow>=3.3.0 in /usr/local/lib/python3.7/dist-packages (from newspaper3k) (7.1.2)\n",
            "Requirement already satisfied: PyYAML>=3.11 in /usr/local/lib/python3.7/dist-packages (from newspaper3k) (3.13)\n",
            "Requirement already satisfied: feedparser>=5.2.1 in /usr/local/lib/python3.7/dist-packages (from newspaper3k) (6.0.8)\n",
            "Requirement already satisfied: beautifulsoup4>=4.4.1 in /usr/local/lib/python3.7/dist-packages (from newspaper3k) (4.6.3)\n",
            "Requirement already satisfied: tinysegmenter==0.3 in /usr/local/lib/python3.7/dist-packages (from newspaper3k) (0.3)\n",
            "Requirement already satisfied: tldextract>=2.0.1 in /usr/local/lib/python3.7/dist-packages (from newspaper3k) (3.1.2)\n",
            "Requirement already satisfied: cssselect>=0.9.2 in /usr/local/lib/python3.7/dist-packages (from newspaper3k) (1.1.0)\n",
            "Requirement already satisfied: feedfinder2>=0.0.4 in /usr/local/lib/python3.7/dist-packages (from newspaper3k) (0.0.4)\n",
            "Requirement already satisfied: lxml>=3.6.0 in /usr/local/lib/python3.7/dist-packages (from newspaper3k) (4.2.6)\n",
            "Requirement already satisfied: six in /usr/local/lib/python3.7/dist-packages (from feedfinder2>=0.0.4->newspaper3k) (1.15.0)\n",
            "Requirement already satisfied: sgmllib3k in /usr/local/lib/python3.7/dist-packages (from feedparser>=5.2.1->newspaper3k) (1.0.0)\n",
            "Requirement already satisfied: urllib3!=1.25.0,!=1.25.1,<1.26,>=1.21.1 in /usr/local/lib/python3.7/dist-packages (from requests>=2.10.0->newspaper3k) (1.24.3)\n",
            "Requirement already satisfied: certifi>=2017.4.17 in /usr/local/lib/python3.7/dist-packages (from requests>=2.10.0->newspaper3k) (2021.5.30)\n",
            "Requirement already satisfied: chardet<4,>=3.0.2 in /usr/local/lib/python3.7/dist-packages (from requests>=2.10.0->newspaper3k) (3.0.4)\n",
            "Requirement already satisfied: idna<3,>=2.5 in /usr/local/lib/python3.7/dist-packages (from requests>=2.10.0->newspaper3k) (2.10)\n",
            "Requirement already satisfied: filelock>=3.0.8 in /usr/local/lib/python3.7/dist-packages (from tldextract>=2.0.1->newspaper3k) (3.3.0)\n",
            "Requirement already satisfied: requests-file>=1.4 in /usr/local/lib/python3.7/dist-packages (from tldextract>=2.0.1->newspaper3k) (1.5.1)\n"
          ]
        }
      ]
    },
    {
      "cell_type": "markdown",
      "metadata": {
        "id": "kAkZWQTE821B"
      },
      "source": [
        "## **IMPORT LIBRARY**"
      ]
    },
    {
      "cell_type": "code",
      "metadata": {
        "id": "Fb2OkMw68jAY"
      },
      "source": [
        "from newspaper import Article\n",
        "import random\n",
        "import nltk\n",
        "import string\n",
        "from sklearn.feature_extraction.text import CountVectorizer\n",
        "from sklearn.metrics.pairwise import cosine_similarity\n",
        "import numpy as np\n",
        "import warnings\n",
        "warnings.filterwarnings('ignore')"
      ],
      "execution_count": 20,
      "outputs": []
    },
    {
      "cell_type": "code",
      "metadata": {
        "colab": {
          "base_uri": "https://localhost:8080/"
        },
        "id": "k-DBGUV987F0",
        "outputId": "56afd734-ba18-4caa-8402-1dcb2ac9176d"
      },
      "source": [
        "nltk.download('punkt', quiet=True)"
      ],
      "execution_count": 21,
      "outputs": [
        {
          "output_type": "execute_result",
          "data": {
            "text/plain": [
              "True"
            ]
          },
          "metadata": {},
          "execution_count": 21
        }
      ]
    },
    {
      "cell_type": "markdown",
      "metadata": {
        "id": "30dwxjPC-PXJ"
      },
      "source": [
        "## **PREPARE ARTICLE**"
      ]
    },
    {
      "cell_type": "code",
      "metadata": {
        "colab": {
          "base_uri": "https://localhost:8080/"
        },
        "id": "X5X6z81r93U3",
        "outputId": "a461b33e-1001-44f3-baf3-609c08fa1ccb"
      },
      "source": [
        "article  = Article('https://www.cnbc.com/2021/08/10/audi-skysphere-new-ev-concept-convertible-reveals-new-direction-for-automaker.html')\n",
        "article.download()\n",
        "article.parse()\n",
        "article.nlp()\n",
        "corpus = article.text\n",
        "print(corpus)"
      ],
      "execution_count": 22,
      "outputs": [
        {
          "output_type": "stream",
          "name": "stdout",
          "text": [
            "In this article VOW3-DE\n",
            "\n",
            "Audi's newest concept car is a sleek, sinister-looking electric convertible called Skysphere that blends Batmobile-like technologies and aggressive design characteristics with luxury amenities. Most notably, the roadster concept features an adaptable wheelbase that can change sizes based on driving modes and a digital cockpit with retractable steering wheel and pedals that are designed to stow away when the car is driving itself. \"This is what we call progressive luxury,\" Henrik Wenders, head of Audi, said during a media event for the vehicle's digital unveiling Tuesday. \"This is not rather a car, it's an experience device.\"\n",
            "\n",
            "Audi Skysphere concept Audi\n",
            "\n",
            "The concept car represents what Audi believes it could achieve, likely in the second half of this decade, as it pivots to electric and autonomous vehicles, according to company officials. Audi plans to exclusively offer EVs by 2033, following the introduction of its last vehicle with an internal combustion engine in 2026.\n",
            "\n",
            "Audi Skysphere concept Audi\n",
            "\n",
            "Audi said the Skysphere is designed to drive itself but that it cannot actually do so at this time. It's unclear how feasible a vehicle that can change sizes would be for a production model. Its EV driving range is about 310 miles, according to Audi. Wenders said auto brands such as Audi need to be thinking about what could be possible with EVs even if advanced technologies, such as an adjustable wheelbase, may not be currently on the horizon.\n",
            "\n",
            "'Two vehicles in one'\n",
            "\n",
            "Aside from the technologies, the vehicle signals a new design direction for the Volkswagen-owned luxury brand. Gael Buzyn, head of Audi's design studio in Malibu, said \"a lot of elements\" of the car will make it into future production vehicles.\n",
            "\n",
            "Audi Skysphere concept Audi\n",
            "\n",
            "Audi executives said the vehicle is essentially \"two vehicles in one.\" The first is an aggressive-driving roadster capable of reaching 60 mph in about four seconds and offers about 553 pound feet of torque. The second is a grand touring coach car that will drive itself and expand about 10 inches for a larger, more comfortable cabin. \"It's not just a design study, it's a concept showing us, internally and externally, what's possible,\" Wenders said. \"It is a concept showcasing us how we are combining both an automotive driving experience with an immersive digital experience. This is two-in-one.\" The car was unveiled Tuesday for the 2021 Monterey Car Week in California, a high-end car festival that includes the prestigious Pebble Beach Concours d'Elegance car show.\n",
            "\n",
            "Audi Skysphere concept Audi\n",
            "\n",
            "New concepts\n",
            "\n",
            "The Skysphere is the first of a new family of concept vehicles focusing on Audi's changing from cars to \"experience devices.\" The second vehicle, called the Grandsphere, is scheduled to be unveiled in September, followed by the Urbansphere in the first half of 2022. The term \"sphere\" is meant to symbolize the interior space of the vehicles for drivers and passengers, according to Audi.\n",
            "\n",
            "Audi Skysphere concept Audi\n",
            "\n",
            "\"These concept cars feature a new design that ultimately reimagines the interior, the passenger compartment, as the center of the vehicle and no longer subordinates the passenger experience to the requirements of the technology,\" the company said in a release. Automakers routinely use concept vehicles to gauge customer interest or show the future direction of a vehicle or brand.\n"
          ]
        }
      ]
    },
    {
      "cell_type": "markdown",
      "metadata": {
        "id": "jTRyKwT_CDVY"
      },
      "source": [
        "## **TOKENIZATION**"
      ]
    },
    {
      "cell_type": "code",
      "metadata": {
        "colab": {
          "base_uri": "https://localhost:8080/"
        },
        "id": "B552x7Zw-pe-",
        "outputId": "46c4e104-d965-41e7-ebe9-aa57c268216c"
      },
      "source": [
        "# Tokenization\n",
        "text = corpus\n",
        "sentence_list = nltk.sent_tokenize(text) #A list of senetences\n",
        "\n",
        "# Print the list of sentences\n",
        "print(sentence_list)"
      ],
      "execution_count": 23,
      "outputs": [
        {
          "output_type": "stream",
          "name": "stdout",
          "text": [
            "[\"In this article VOW3-DE\\n\\nAudi's newest concept car is a sleek, sinister-looking electric convertible called Skysphere that blends Batmobile-like technologies and aggressive design characteristics with luxury amenities.\", 'Most notably, the roadster concept features an adaptable wheelbase that can change sizes based on driving modes and a digital cockpit with retractable steering wheel and pedals that are designed to stow away when the car is driving itself.', '\"This is what we call progressive luxury,\" Henrik Wenders, head of Audi, said during a media event for the vehicle\\'s digital unveiling Tuesday.', '\"This is not rather a car, it\\'s an experience device.\"', 'Audi Skysphere concept Audi\\n\\nThe concept car represents what Audi believes it could achieve, likely in the second half of this decade, as it pivots to electric and autonomous vehicles, according to company officials.', 'Audi plans to exclusively offer EVs by 2033, following the introduction of its last vehicle with an internal combustion engine in 2026.', 'Audi Skysphere concept Audi\\n\\nAudi said the Skysphere is designed to drive itself but that it cannot actually do so at this time.', \"It's unclear how feasible a vehicle that can change sizes would be for a production model.\", 'Its EV driving range is about 310 miles, according to Audi.', 'Wenders said auto brands such as Audi need to be thinking about what could be possible with EVs even if advanced technologies, such as an adjustable wheelbase, may not be currently on the horizon.', \"'Two vehicles in one'\\n\\nAside from the technologies, the vehicle signals a new design direction for the Volkswagen-owned luxury brand.\", 'Gael Buzyn, head of Audi\\'s design studio in Malibu, said \"a lot of elements\" of the car will make it into future production vehicles.', 'Audi Skysphere concept Audi\\n\\nAudi executives said the vehicle is essentially \"two vehicles in one.\"', 'The first is an aggressive-driving roadster capable of reaching 60 mph in about four seconds and offers about 553 pound feet of torque.', 'The second is a grand touring coach car that will drive itself and expand about 10 inches for a larger, more comfortable cabin.', '\"It\\'s not just a design study, it\\'s a concept showing us, internally and externally, what\\'s possible,\" Wenders said.', '\"It is a concept showcasing us how we are combining both an automotive driving experience with an immersive digital experience.', 'This is two-in-one.\"', \"The car was unveiled Tuesday for the 2021 Monterey Car Week in California, a high-end car festival that includes the prestigious Pebble Beach Concours d'Elegance car show.\", 'Audi Skysphere concept Audi\\n\\nNew concepts\\n\\nThe Skysphere is the first of a new family of concept vehicles focusing on Audi\\'s changing from cars to \"experience devices.\"', 'The second vehicle, called the Grandsphere, is scheduled to be unveiled in September, followed by the Urbansphere in the first half of 2022.', 'The term \"sphere\" is meant to symbolize the interior space of the vehicles for drivers and passengers, according to Audi.', 'Audi Skysphere concept Audi\\n\\n\"These concept cars feature a new design that ultimately reimagines the interior, the passenger compartment, as the center of the vehicle and no longer subordinates the passenger experience to the requirements of the technology,\" the company said in a release.', 'Automakers routinely use concept vehicles to gauge customer interest or show the future direction of a vehicle or brand.']\n"
          ]
        }
      ]
    },
    {
      "cell_type": "code",
      "metadata": {
        "id": "-KEShRlFAKCw"
      },
      "source": [
        "#GREETING FUNCTION\n",
        "def greeting_response(text):\n",
        "    text = text.lower()\n",
        "    \n",
        "    #Sapaan Bot\n",
        "    bot_greetings = ['hello','hi','welcome','wazzup']\n",
        "    \n",
        "    #Sapaan pengguna\n",
        "    user_greetings = ['hi','hello','excuse me', 'wassup']\n",
        "    \n",
        "    for word in text.split():\n",
        "        if word in user_greetings:\n",
        "            return random.choice(bot_greetings)\n",
        "        \n",
        "    #Respon acak\n",
        "    def gratitude_response(text):\n",
        "        text=text.lower()"
      ],
      "execution_count": 24,
      "outputs": []
    },
    {
      "cell_type": "code",
      "metadata": {
        "id": "jcHc_t4sCUF-"
      },
      "source": [
        " def index_sort(list_var):\n",
        "    length = len(list_var)\n",
        "    list_index = list(range(0, length))\n",
        "    \n",
        "    x = list_var        \n",
        "    for i in range(length):\n",
        "        for j in range(length):\n",
        "            if x[list_index[i]] > x[list_index[j]]:\n",
        "                #swap\n",
        "                temp = list_index[i]\n",
        "                list_index[i] = list_index[j]\n",
        "                list_index[j] = temp\n",
        "                \n",
        "    return list_index"
      ],
      "execution_count": 25,
      "outputs": []
    },
    {
      "cell_type": "markdown",
      "metadata": {
        "id": "KU-n1CIjCnlv"
      },
      "source": [
        "## **MEMBUAT RESPON**"
      ]
    },
    {
      "cell_type": "code",
      "metadata": {
        "id": "DmEAvF8zCh4x"
      },
      "source": [
        "# Creat Bots Response\n",
        "def bot_response(user_input):\n",
        "    user_input=user_input.lower() #Merubah input dari user menjadi huruf kecil\n",
        "    sentence_list.append(user_input) #Memasukkan input user kedalam corpus yg kita punya (corpus disimpan dalam variabel sentence_list)\n",
        "    bot_response= '' #Inisialisasi variabel bot response\n",
        "\n",
        "    cm=CountVectorizer().fit_transform(sentence_list) #Melakukan ekstraksi fitur pada corpus yg kita punya menggunakan CountVectorizer (Bag of Word)\n",
        "\n",
        "    similarity_scores=cosine_similarity(cm[-1],cm) #Menghitung cosine similarity antara hasil fitur ekstraksi input user (cm[-1]) dengan semua data dalam corpus\n",
        "    similarity_scores_list=similarity_scores.flatten() #Merubah hasil perhitungan cosine similarity menjadi list 1D\n",
        "    index=index_sort(similarity_scores_list) #Melakukan sorting untuk index pada similarity score berdasarkan element yg terbesar, kemudian hasilnya disimpan pada list yg bernama index\n",
        "    index=index[1:] \n",
        "\n",
        "    response_flag=0 \n",
        "    for i in range(len(index)):\n",
        "        if similarity_scores_list[index[i]]>0.0:\n",
        "            bot_response=bot_response+' '+sentence_list[index[i]]\n",
        "            response_flag=1\n",
        "\n",
        "        if response_flag==0:\n",
        "            bot_response=bot_response+\" \"+\"I apologize, I dont understand\" #Jika respon_flag = 0 (tidak ada kata yg cocok) maka akan memberikan response  apologize, I dont understand.\n",
        "\n",
        "        sentence_list.remove(user_input) #Meremove user_input yg sudah dimasukkan kedalam sentence_list (Corpus yg kita punya).\n",
        "\n",
        "        return bot_response"
      ],
      "execution_count": 26,
      "outputs": []
    },
    {
      "cell_type": "code",
      "metadata": {
        "colab": {
          "base_uri": "https://localhost:8080/"
        },
        "id": "0_PmyQ30Dofk",
        "outputId": "5425779a-9719-4a71-95a6-17c4e4800f47"
      },
      "source": [
        "#Start Chat\n",
        "print(\"Doc Bot: Hello, what is your interest in  this topic ?\")\n",
        "\n",
        "exit_list=['none', 'i dont know', 'exit', 'bye']\n",
        "\n",
        "while(True):\n",
        "    user_input=input() #mengambil input pada user\n",
        "    if user_input.lower() in exit_list: #kalau input dari user ada didalam exit_list maka program akan berhenti\n",
        "        print('Doc Bot: Okay thanks for your question')\n",
        "        print('Doc Bot: Have a nice day..... \\^U^/')\n",
        "        break\n",
        "    else:\n",
        "        if greeting_response(user_input)!= None: #Mengecek apakah input dari user masuk kedalam greeting atau bukan\n",
        "            print('Doc Bot: '+ greeting_response(user_input)) #Jika masuk kedalam greeting maka bot akan melakukan response terhadap greeting tersebut\n",
        "        else:\n",
        "            print('Doc Bot: '+ bot_response(user_input)) #Jika bukan, maka bot akan memanggil fungsi bot_response untuk menentukan respon apa yg akan ia keluarkan sesuai dengan input dari user"
      ],
      "execution_count": 27,
      "outputs": [
        {
          "output_type": "stream",
          "name": "stdout",
          "text": [
            "Doc Bot: Hello, what is your interest in  this topic ?\n",
            "audi \n",
            "Doc Bot:  Audi Skysphere concept Audi\n",
            "\n",
            "Audi executives said the vehicle is essentially \"two vehicles in one.\"\n",
            "specification\n",
            "Doc Bot:  I apologize, I dont understand\n",
            "car\n",
            "Doc Bot:  The car was unveiled Tuesday for the 2021 Monterey Car Week in California, a high-end car festival that includes the prestigious Pebble Beach Concours d'Elegance car show.\n",
            "features\n",
            "Doc Bot:  Most notably, the roadster concept features an adaptable wheelbase that can change sizes based on driving modes and a digital cockpit with retractable steering wheel and pedals that are designed to stow away when the car is driving itself.\n",
            "none\n",
            "Doc Bot: Okay thanks for your question\n",
            "Doc Bot: Have a nice day..... \\^U^/\n"
          ]
        }
      ]
    },
    {
      "cell_type": "code",
      "metadata": {
        "id": "fEvWGFUzEyOo"
      },
      "source": [
        ""
      ],
      "execution_count": 27,
      "outputs": []
    }
  ]
}